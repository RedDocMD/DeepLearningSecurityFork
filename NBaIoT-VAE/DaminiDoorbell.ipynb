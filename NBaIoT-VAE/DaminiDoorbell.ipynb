{
 "cells": [
  {
   "cell_type": "code",
   "execution_count": null,
   "id": "91592d65",
   "metadata": {},
   "outputs": [],
   "source": [
    "!pip3 install pandas\n",
    "!pip3 install seaborn\n",
    "!pip3 install --upgrade tensorflow-gpu\n",
    "!pip3 install import-ipynb\n",
    "\n",
    "from datetime import datetime\n",
    "import matplotlib.pyplot as plt\n",
    "import seaborn as sns\n",
    "import numpy as np\n",
    "import pandas as pd\n",
    "import math\n",
    "import pickle\n",
    "import time\n",
    "import sys\n",
    "\n",
    "import import_ipynb\n",
    "import VariationalAutoencoderModel\n",
    "\n",
    "import tensorflow as tf\n",
    "tf.compat.v1.disable_eager_execution()\n",
    "from tensorflow.keras.models import Model\n",
    "from tensorflow.keras.layers import Lambda, Input, Dense\n",
    "from tensorflow.keras.losses import mse\n",
    "from tensorflow.keras import optimizers\n",
    "from tensorflow.keras import backend as K\n",
    "\n",
    "from sklearn.pipeline import Pipeline\n",
    "from sklearn.preprocessing import MinMaxScaler\n",
    "from sklearn.decomposition import PCA\n",
    "from sklearn.metrics import classification_report, accuracy_score\n",
    "\n",
    "from bayes_opt import BayesianOptimization\n",
    "\n",
    "%matplotlib inline"
   ]
  },
  {
   "cell_type": "code",
   "execution_count": null,
   "id": "a6b71413",
   "metadata": {},
   "outputs": [],
   "source": [
    "gpu_options = tf.compat.v1.GPUOptions(per_process_gpu_memory_fraction = 0.333)\n",
    "sess = tf.compat.v1.Session(config = tf.compat.v1.ConfigProto(gpu_options = gpu_options))"
   ]
  },
  {
   "cell_type": "markdown",
   "id": "95097630",
   "metadata": {},
   "source": [
    "# Danmini Doorbell Data Pre-Processing"
   ]
  },
  {
   "cell_type": "code",
   "execution_count": null,
   "id": "5116f65e",
   "metadata": {
    "scrolled": true
   },
   "outputs": [],
   "source": [
    "# Benign traffic\n",
    "\n",
    "dd_benign = pd.read_csv('../nbaiot/Danmini_Doorbell/benign_traffic.csv', encoding = \"utf-8\", sep = ',' ) \n",
    "df_dd_benign = dd_benign.copy(deep=True)\n",
    "\n",
    "columns = list(df_dd_benign.columns)\n",
    "chosen_columns = []\n",
    "for column in columns:\n",
    "    if column.find('L5') != -1 or column.find('L3') != -1 or column.find('L1') != -1 or column.find('L=0.1') != -1 or column.find('L0.01') != -1:\n",
    "        chosen_columns.append(column)\n",
    "        \n",
    "df_dd_benign = pd.DataFrame(df_dd_benign, columns = chosen_columns)\n",
    "\n",
    "# Mirai\n",
    "\n",
    "dd_mirai_ack = pd.read_csv('../nbaiot/Danmini_Doorbell/mirai/ack.csv', encoding = \"utf-8\", sep = ',' ) \n",
    "df_dd_mirai_ack = dd_mirai_ack.copy(deep=True)\n",
    "df_dd_mirai_ack = pd.DataFrame(df_dd_mirai_ack, columns = chosen_columns)\n",
    "\n",
    "dd_mirai_scan = pd.read_csv('../nbaiot/Danmini_Doorbell/mirai/scan.csv', encoding = \"utf-8\", sep = ',' ) \n",
    "df_dd_mirai_scan = dd_mirai_scan.copy(deep=True)\n",
    "df_dd_mirai_scan = pd.DataFrame(df_dd_mirai_scan, columns = chosen_columns)\n",
    "\n",
    "dd_mirai_syn = pd.read_csv('../nbaiot/Danmini_Doorbell/mirai/syn.csv', encoding = \"utf-8\", sep = ',' ) \n",
    "df_dd_mirai_syn = dd_mirai_syn.copy(deep=True)\n",
    "df_dd_mirai_syn = pd.DataFrame(df_dd_mirai_syn, columns = chosen_columns)\n",
    "\n",
    "dd_mirai_udp = pd.read_csv('../nbaiot/Danmini_Doorbell/mirai/udp.csv', encoding = \"utf-8\", sep = ',' ) \n",
    "df_dd_mirai_udp = dd_mirai_udp.copy(deep=True)\n",
    "df_dd_mirai_udp = pd.DataFrame(df_dd_mirai_udp, columns = chosen_columns)\n",
    "\n",
    "dd_mirai_udpplain = pd.read_csv('../nbaiot/Danmini_Doorbell/mirai/udpplain.csv', encoding = \"utf-8\", sep = ',' ) \n",
    "df_dd_mirai_udpplain = dd_mirai_udpplain.copy(deep=True)\n",
    "df_dd_mirai_udpplain = pd.DataFrame(df_dd_mirai_udpplain, columns = chosen_columns)\n",
    "\n",
    "# Bashlite\n",
    "\n",
    "dd_bashlite_combo = pd.read_csv('../nbaiot/Danmini_Doorbell/gafgyt/combo.csv', encoding = \"utf-8\", sep = ',' ) \n",
    "df_dd_bashlite_combo = dd_bashlite_combo.copy(deep=True)\n",
    "df_dd_bashlite_combo = pd.DataFrame(df_dd_bashlite_combo, columns = chosen_columns)\n",
    "\n",
    "dd_bashlite_junk = pd.read_csv('../nbaiot/Danmini_Doorbell/gafgyt/junk.csv', encoding = \"utf-8\", sep = ',' ) \n",
    "df_dd_bashlite_junk = dd_bashlite_junk.copy(deep=True)\n",
    "df_dd_bashlite_junk = pd.DataFrame(df_dd_bashlite_junk, columns = chosen_columns)\n",
    "\n",
    "dd_bashlite_scan = pd.read_csv('../nbaiot/Danmini_Doorbell/gafgyt/scan.csv', encoding = \"utf-8\", sep = ',' ) \n",
    "df_dd_bashlite_scan = dd_bashlite_scan.copy(deep=True)\n",
    "df_dd_bashlite_scan = pd.DataFrame(df_dd_bashlite_scan, columns = chosen_columns)\n",
    "\n",
    "dd_bashlite_udp = pd.read_csv('../nbaiot/Danmini_Doorbell/gafgyt/udp.csv', encoding = \"utf-8\", sep = ',' ) \n",
    "df_dd_bashlite_udp = dd_bashlite_udp.copy(deep=True)\n",
    "df_dd_bashlite_udp = pd.DataFrame(df_dd_bashlite_udp, columns = chosen_columns)\n",
    "\n",
    "dd_bashlite_tcp = pd.read_csv('../nbaiot/Danmini_Doorbell/gafgyt/tcp.csv', encoding = \"utf-8\", sep = ',' ) \n",
    "df_dd_bashlite_tcp = dd_bashlite_tcp.copy(deep=True)\n",
    "df_dd_bashlite_tcp = pd.DataFrame(df_dd_bashlite_tcp, columns = chosen_columns)"
   ]
  },
  {
   "cell_type": "code",
   "execution_count": null,
   "id": "5756e525",
   "metadata": {
    "scrolled": true
   },
   "outputs": [],
   "source": [
    "scaler = MinMaxScaler()\n",
    "df_dd_benign_norm = scaler.fit_transform(df_dd_benign)\n",
    "\n",
    "df_dd_miraiack_norm = scaler.fit_transform(df_dd_mirai_ack)\n",
    "df_dd_miraiscan_norm = scaler.fit_transform(df_dd_mirai_scan)\n",
    "df_dd_miraisyn_norm = scaler.fit_transform(df_dd_mirai_syn)\n",
    "df_dd_miraiudp_norm = scaler.fit_transform(df_dd_mirai_udp)\n",
    "df_dd_miraiudpplain_norm = scaler.fit_transform(df_dd_mirai_udpplain)\n",
    "\n",
    "df_dd_bashlitecombo_norm = scaler.fit_transform(df_dd_bashlite_combo)\n",
    "df_dd_bashlitejunk_norm = scaler.fit_transform(df_dd_bashlite_junk)\n",
    "df_dd_bashlitescan_norm = scaler.fit_transform(df_dd_bashlite_scan)\n",
    "df_dd_bashliteudp_norm = scaler.fit_transform(df_dd_bashlite_udp)\n",
    "df_dd_bashlitetcp_norm = scaler.fit_transform(df_dd_bashlite_tcp)"
   ]
  },
  {
   "cell_type": "markdown",
   "id": "fd5b4119",
   "metadata": {},
   "source": [
    "# Variational Autoencoder - Attack Detection"
   ]
  },
  {
   "cell_type": "markdown",
   "id": "4d2adec4",
   "metadata": {},
   "source": [
    "## Model"
   ]
  },
  {
   "cell_type": "code",
   "execution_count": null,
   "id": "db41ba01",
   "metadata": {},
   "outputs": [],
   "source": [
    "# Train set\n",
    "\n",
    "len_benign = len(df_dd_benign_norm)\n",
    "len_benign_train = int(0.7 * len_benign)\n",
    "X_train_VAE = df_dd_benign_norm[:len_benign_train]\n",
    "\n",
    "# Test set - 30% benign and the rest is attack\n",
    "\n",
    "X_test_benign = df_dd_benign_norm[len_benign_train:]\n",
    "\n",
    "len_attack_test = len(X_test_benign)\n",
    "X_test_mirai_ack = df_dd_miraiack_norm\n",
    "X_test_mirai_scan = df_dd_miraiscan_norm\n",
    "X_test_mirai_syn = df_dd_miraisyn_norm\n",
    "X_test_mirai_udp = df_dd_miraiudp_norm\n",
    "X_test_mirai_udpplain = df_dd_miraiudpplain_norm\n",
    "X_test_bashlite_combo = df_dd_bashlitecombo_norm\n",
    "X_test_bashlite_junk = df_dd_bashlitejunk_norm\n",
    "X_test_bashlite_scan = df_dd_bashlitescan_norm\n",
    "X_test_bashlite_tcp = df_dd_bashlitetcp_norm\n",
    "X_test_bashlite_udp = df_dd_bashliteudp_norm\n",
    "\n",
    "X_test_VAE = np.concatenate([X_test_benign, X_test_mirai_ack, X_test_mirai_scan, X_test_mirai_syn, X_test_mirai_udp,\n",
    "                             X_test_mirai_udpplain, X_test_bashlite_combo, X_test_bashlite_junk, X_test_bashlite_scan,\n",
    "                             X_test_bashlite_tcp, X_test_bashlite_udp])\n",
    "\n",
    "Y_test_VAE = np.ones(len(X_test_VAE))\n",
    "Y_test_VAE[:len(X_test_benign)] = 0"
   ]
  },
  {
   "cell_type": "code",
   "execution_count": null,
   "id": "81790634",
   "metadata": {},
   "outputs": [],
   "source": [
    "# KL Loss function\n",
    "\n",
    "def vae_loss(x, x_decoded_mean):\n",
    "    # Compute the average MSE error, then scale it up (sum on all axes)\n",
    "    \n",
    "    reconstruction_loss = K.sum(K.square(x - x_decoded_mean))\n",
    "    \n",
    "    # Compute the KL loss\n",
    "    \n",
    "    kl_loss = - 0.5 * K.sum(1 + z_var - K.square(z_mean) - K.square(K.exp(z_var)), axis=-1)\n",
    "    \n",
    "    # Return the average loss over all \n",
    "    \n",
    "    total_loss = K.mean(reconstruction_loss + kl_loss) # Total_loss = reconstruction_loss + kl_loss \n",
    "    return total_loss\n",
    "\n",
    "# (1) Reconstruction Loss - Forces the encoder to generate latent features that minimize the reconstruction error, or else is\n",
    "# penalized\n",
    "# (2) KL Loss - Forces the distribution generated by the encoder to be similar to the prior probability of the input vector, \n",
    "# pushing latent feature space to normality"
   ]
  },
  {
   "cell_type": "code",
   "execution_count": null,
   "id": "2ab69f0d",
   "metadata": {},
   "outputs": [],
   "source": [
    "# Parameters\n",
    "\n",
    "original_dim = X_train_VAE.shape[1]\n",
    "input_shape = (original_dim,)\n",
    "intermediate_dim = int(original_dim / 2)\n",
    "latent_dim = int(original_dim / 3)\n",
    "\n",
    "epochs = 800\n",
    "learning_rate = 0.0001\n",
    "batch_size = 82\n",
    "anomaly_threshold = 0.042\n",
    "number_features = 115\n",
    "\n",
    "dict_params = { 'learning_rate': learning_rate, 'batch_size': int(32 * batch_size), 'epochs': int(epochs)}\n",
    "pbounds = { 'learning_rate': (0.000001, 0.1), 'batch_size': (1, 4.001), 'epochs': (100, 1000)}"
   ]
  },
  {
   "cell_type": "code",
   "execution_count": null,
   "id": "b0ded933",
   "metadata": {},
   "outputs": [],
   "source": [
    "# Encoder\n",
    "\n",
    "inputs, encoder, z_var, z_mean = VariationalAutoencoderModel.vae_encoder(\n",
    "    input_shape, \n",
    "    intermediate_dim, \n",
    "    latent_dim, \n",
    "    VariationalAutoencoderModel.sample)\n",
    "\n",
    "encoder.summary()"
   ]
  },
  {
   "cell_type": "code",
   "execution_count": null,
   "id": "078271d8",
   "metadata": {},
   "outputs": [],
   "source": [
    "# Decoder\n",
    "\n",
    "decoder = VariationalAutoencoderModel.vae_decoder(\n",
    "    intermediate_dim,\n",
    "    latent_dim,\n",
    "    original_dim)\n",
    "\n",
    "outputs = decoder(encoder(inputs))\n",
    "\n",
    "decoder.summary()"
   ]
  },
  {
   "cell_type": "markdown",
   "id": "6d08767e",
   "metadata": {},
   "source": [
    "## Train"
   ]
  },
  {
   "cell_type": "code",
   "execution_count": null,
   "id": "4740fd12",
   "metadata": {},
   "outputs": [],
   "source": [
    "def training(X_train = X_train_VAE,\n",
    "             X_test = X_test_VAE,\n",
    "             Y_test = Y_test_VAE,\n",
    "             inputs = inputs,\n",
    "             outputs = outputs,\n",
    "             vae_loss = vae_loss,\n",
    "             epochs = epochs,\n",
    "             batch_size = batch_size,\n",
    "             learning_rate = learning_rate):\n",
    "    \n",
    "    opt = optimizers.Adam(learning_rate = dict_params['learning_rate'], clipvalue = 0.5)\n",
    "    \n",
    "    vae_model = Model(inputs, outputs, name = 'vae_mlp')\n",
    "    vae_model.compile(optimizer = opt, loss = vae_loss)\n",
    "    \n",
    "    history = vae_model.fit(X_train, X_train,\n",
    "                            shuffle = True,\n",
    "                            epochs = dict_params['epochs'],\n",
    "                            batch_size = dict_params['batch_size'])\n",
    "    \n",
    "    X_pred = vae_model.predict(X_test)\n",
    "    error_vector = AttackDetectionModel.get_error_term(X_pred, X_test, _rmse=False)\n",
    "    attacks = (error_vector > anomaly_threshold)\n",
    "    \n",
    "    accuracy = accuracy_score(Y_test, attacks)\n",
    "    \n",
    "    return accuracy"
   ]
  },
  {
   "cell_type": "code",
   "execution_count": null,
   "id": "84decbb8",
   "metadata": {},
   "outputs": [],
   "source": [
    "# Bayesian optimization to choose the best hyperparameters\n",
    "\n",
    "optimizer = BayesianOptimization(\n",
    "    f = training,\n",
    "    pbounds = pbounds,\n",
    "    verbose = 2, \n",
    "    random_state = 1,\n",
    ")\n",
    "\n",
    "train_start = time.time()\n",
    "\n",
    "optimizer.maximize(init_points = 5, n_iter = 5)\n",
    "\n",
    "train_end = time.time()\n",
    "train_time = train_end - train_start\n",
    "print(\"Training time:\", train_time)\n",
    "\n",
    "print(optimizer.max)"
   ]
  },
  {
   "cell_type": "code",
   "execution_count": null,
   "id": "6c342605",
   "metadata": {},
   "outputs": [],
   "source": [
    "# Training step with the best hyperparameters\n",
    "\n",
    "opt = optimizers.Adam(learning_rate = optimizer.max['params']['learning_rate'], clipvalue = 0.5)\n",
    "\n",
    "vae_model = Model(inputs, outputs, name = 'vae_mlp')\n",
    "vae_model.compile(optimizer = opt, loss = vae_loss)\n",
    "vae_model.summary()\n",
    "\n",
    "train_start = time.time()\n",
    "\n",
    "history = vae_model.fit(X_train_VAE, X_train_VAE,\n",
    "                            shuffle = True,\n",
    "                            epochs = int(optimizer.max['params']['epochs']),\n",
    "                            batch_size = int(32 * optimizer.max['params']['batch_size']))\n",
    "\n",
    "train_end = time.time()\n",
    "train_time = train_end - train_start\n",
    "print(\"Training time:\", train_time)"
   ]
  },
  {
   "cell_type": "code",
   "execution_count": null,
   "id": "05817adb",
   "metadata": {},
   "outputs": [],
   "source": [
    "plt.plot(results.history['loss'])\n",
    "plt.title('Loss Pattern')\n",
    "plt.ylabel('Loss')\n",
    "plt.xlabel('epoch')\n",
    "plt.legend(['Train', 'Test'], loc='upper right');\n",
    "plt.show()"
   ]
  },
  {
   "cell_type": "markdown",
   "id": "3e1de978",
   "metadata": {},
   "source": [
    "## Test"
   ]
  },
  {
   "cell_type": "code",
   "execution_count": null,
   "id": "33a6e96c",
   "metadata": {},
   "outputs": [],
   "source": [
    "X_train_pred = vae_model.predict(X_train_VAE)\n",
    "error_vector = VariationalAutoencoderModel.get_error_term(X_train_pred, X_train_VAE, _rmse=False)\n",
    "error_thresh = anomaly_threshold\n",
    "\n",
    "# Measure the error between the train set and its output and generates an error vector representing the error of each term\n",
    "# Find an extreme value on the vector to use as the error threshold"
   ]
  },
  {
   "cell_type": "code",
   "execution_count": null,
   "id": "c3a5b71f",
   "metadata": {
    "scrolled": true
   },
   "outputs": [],
   "source": [
    "test_start = time.time()\n",
    "\n",
    "X_pred_VAE = vae_model.predict(X_test_VAE)\n",
    "\n",
    "test_end = time.time()\n",
    "test_time = test_end - test_start\n",
    "print(\"Testing time:\", test_time)\n",
    "\n",
    "# If the error of the vector is higher than the defined threshold it detects an attack\n",
    "\n",
    "error_vector = VariationalAutoencoderModel.get_error_term(X_pred_VAE, X_test_VAE, _rmse=False)\n",
    "attacks = (error_vector > error_thresh)\n",
    "print(attacks)\n",
    "\n",
    "np.count_nonzero(attacks) / len(attacks) # Percentage of attacks"
   ]
  },
  {
   "cell_type": "code",
   "execution_count": null,
   "id": "fcce976a",
   "metadata": {},
   "outputs": [],
   "source": [
    "print(len(X_test_VAE))"
   ]
  },
  {
   "cell_type": "markdown",
   "id": "be6a3c30",
   "metadata": {},
   "source": [
    "## Metrics"
   ]
  },
  {
   "cell_type": "code",
   "execution_count": null,
   "id": "c6da5602",
   "metadata": {},
   "outputs": [],
   "source": [
    "sys.stdout = open(\"../Results/damini_doorbell.txt\", \"a\")\n",
    "\n",
    "print(\" ==== Test \" + str(number_features) + \" features - Normal learning rate ====\")\n",
    "print(\"Training time:\" + str(train_time))\n",
    "print(\"Testing time:\" + str(test_time))\n",
    "print(classification_report(Y_test_VAE, attacks, digits = 5))"
   ]
  },
  {
   "cell_type": "code",
   "execution_count": null,
   "id": "4b5a2e10",
   "metadata": {},
   "outputs": [],
   "source": [
    "'''# Examinig the latent space generated by the encoder\n",
    "\n",
    "X_encoded = encoder.predict(X_test_VAE)\n",
    "\n",
    "pca = PCA(n_components=2)\n",
    "X_analysis = pca.fit_transform(X_encoded)'''"
   ]
  },
  {
   "cell_type": "code",
   "execution_count": null,
   "id": "1c74b5f9",
   "metadata": {},
   "outputs": [],
   "source": [
    "'''plt.figure(figsize = (12, 10))\n",
    "sns.scatterplot(x = X_analysis[:, 0], y = X_analysis[:, 1], s = 20, hue = error_vector)\n",
    "plt.grid()\n",
    "plt.show()\n",
    "\n",
    "# Darker clusters indicate that the error is higher'''"
   ]
  },
  {
   "cell_type": "code",
   "execution_count": null,
   "id": "77c8aa3e",
   "metadata": {},
   "outputs": [],
   "source": [
    "'''plt.figure(figsize=(12, 10))\n",
    "sns.scatterplot(x = X_analysis[:, 0], y = X_analysis[:, 1], s = 20, hue = attacks)\n",
    "plt.grid()\n",
    "plt.show()\n",
    "\n",
    "# Orange ones are anomalies'''"
   ]
  },
  {
   "cell_type": "code",
   "execution_count": null,
   "id": "8b2c2de6",
   "metadata": {},
   "outputs": [],
   "source": [
    "'''plt.figure(figsize = (12, 10))\n",
    "sns.scatterplot(x = X_analysis[:, 0], y = X_analysis[:, 1], s = 20, hue = Y_test_VAE)\n",
    "plt.grid()\n",
    "plt.show()\n",
    "\n",
    "# Ground truth'''"
   ]
  }
 ],
 "metadata": {
  "kernelspec": {
   "display_name": "Python 3 (ipykernel)",
   "language": "python",
   "name": "python3"
  },
  "language_info": {
   "codemirror_mode": {
    "name": "ipython",
    "version": 3
   },
   "file_extension": ".py",
   "mimetype": "text/x-python",
   "name": "python",
   "nbconvert_exporter": "python",
   "pygments_lexer": "ipython3",
   "version": "3.7.5"
  }
 },
 "nbformat": 4,
 "nbformat_minor": 5
}
