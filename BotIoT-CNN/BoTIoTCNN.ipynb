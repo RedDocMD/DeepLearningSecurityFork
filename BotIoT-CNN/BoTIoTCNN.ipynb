{
 "cells": [
  {
   "cell_type": "code",
   "execution_count": 1,
   "id": "463b86d9",
   "metadata": {},
   "outputs": [
    {
     "name": "stdout",
     "output_type": "stream",
     "text": [
      "Defaulting to user installation because normal site-packages is not writeable\n",
      "Requirement already satisfied: pandas in /home/andressa.amaral/.local/lib/python3.7/site-packages (1.3.5)\n",
      "Requirement already satisfied: pytz>=2017.3 in /home/andressa.amaral/.local/lib/python3.7/site-packages (from pandas) (2022.1)\n",
      "Requirement already satisfied: numpy>=1.17.3 in /home/andressa.amaral/.local/lib/python3.7/site-packages (from pandas) (1.21.5)\n",
      "Requirement already satisfied: python-dateutil>=2.7.3 in /home/andressa.amaral/.local/lib/python3.7/site-packages (from pandas) (2.8.2)\n",
      "Requirement already satisfied: six>=1.5 in /home/andressa.amaral/.local/lib/python3.7/site-packages (from python-dateutil>=2.7.3->pandas) (1.16.0)\n",
      "\u001b[33mWARNING: You are using pip version 22.0.4; however, version 22.2.2 is available.\n",
      "You should consider upgrading via the '/usr/bin/python3 -m pip install --upgrade pip' command.\u001b[0m\u001b[33m\n",
      "\u001b[0mDefaulting to user installation because normal site-packages is not writeable\n",
      "Requirement already satisfied: seaborn in /home/andressa.amaral/.local/lib/python3.7/site-packages (0.11.2)\n",
      "Requirement already satisfied: numpy>=1.15 in /home/andressa.amaral/.local/lib/python3.7/site-packages (from seaborn) (1.21.5)\n",
      "Requirement already satisfied: scipy>=1.0 in /home/andressa.amaral/.local/lib/python3.7/site-packages (from seaborn) (1.7.3)\n",
      "Requirement already satisfied: pandas>=0.23 in /home/andressa.amaral/.local/lib/python3.7/site-packages (from seaborn) (1.3.5)\n",
      "Requirement already satisfied: matplotlib>=2.2 in /home/andressa.amaral/.local/lib/python3.7/site-packages (from seaborn) (3.5.1)\n",
      "Requirement already satisfied: pillow>=6.2.0 in /home/andressa.amaral/.local/lib/python3.7/site-packages (from matplotlib>=2.2->seaborn) (9.0.1)\n",
      "Requirement already satisfied: cycler>=0.10 in /home/andressa.amaral/.local/lib/python3.7/site-packages (from matplotlib>=2.2->seaborn) (0.11.0)\n",
      "Requirement already satisfied: pyparsing>=2.2.1 in /home/andressa.amaral/.local/lib/python3.7/site-packages (from matplotlib>=2.2->seaborn) (3.0.7)\n",
      "Requirement already satisfied: python-dateutil>=2.7 in /home/andressa.amaral/.local/lib/python3.7/site-packages (from matplotlib>=2.2->seaborn) (2.8.2)\n",
      "Requirement already satisfied: packaging>=20.0 in /home/andressa.amaral/.local/lib/python3.7/site-packages (from matplotlib>=2.2->seaborn) (21.3)\n",
      "Requirement already satisfied: kiwisolver>=1.0.1 in /home/andressa.amaral/.local/lib/python3.7/site-packages (from matplotlib>=2.2->seaborn) (1.4.0)\n",
      "Requirement already satisfied: fonttools>=4.22.0 in /home/andressa.amaral/.local/lib/python3.7/site-packages (from matplotlib>=2.2->seaborn) (4.31.1)\n",
      "Requirement already satisfied: pytz>=2017.3 in /home/andressa.amaral/.local/lib/python3.7/site-packages (from pandas>=0.23->seaborn) (2022.1)\n",
      "Requirement already satisfied: typing-extensions in /home/andressa.amaral/.local/lib/python3.7/site-packages (from kiwisolver>=1.0.1->matplotlib>=2.2->seaborn) (4.1.1)\n",
      "Requirement already satisfied: six>=1.5 in /home/andressa.amaral/.local/lib/python3.7/site-packages (from python-dateutil>=2.7->matplotlib>=2.2->seaborn) (1.16.0)\n",
      "\u001b[33mWARNING: You are using pip version 22.0.4; however, version 22.2.2 is available.\n",
      "You should consider upgrading via the '/usr/bin/python3 -m pip install --upgrade pip' command.\u001b[0m\u001b[33m\n",
      "\u001b[0mDefaulting to user installation because normal site-packages is not writeable\n",
      "Requirement already satisfied: tensorflow-gpu in /home/andressa.amaral/.local/lib/python3.7/site-packages (2.9.1)\n",
      "Requirement already satisfied: google-pasta>=0.1.1 in /home/andressa.amaral/.local/lib/python3.7/site-packages (from tensorflow-gpu) (0.2.0)\n",
      "Requirement already satisfied: numpy>=1.20 in /home/andressa.amaral/.local/lib/python3.7/site-packages (from tensorflow-gpu) (1.21.5)\n",
      "Requirement already satisfied: setuptools in /home/andressa.amaral/.local/lib/python3.7/site-packages (from tensorflow-gpu) (60.10.0)\n",
      "Requirement already satisfied: tensorflow-io-gcs-filesystem>=0.23.1 in /home/andressa.amaral/.local/lib/python3.7/site-packages (from tensorflow-gpu) (0.24.0)\n",
      "Requirement already satisfied: opt-einsum>=2.3.2 in /home/andressa.amaral/.local/lib/python3.7/site-packages (from tensorflow-gpu) (3.3.0)\n",
      "Requirement already satisfied: keras<2.10.0,>=2.9.0rc0 in /home/andressa.amaral/.local/lib/python3.7/site-packages (from tensorflow-gpu) (2.9.0)\n",
      "Requirement already satisfied: typing-extensions>=3.6.6 in /home/andressa.amaral/.local/lib/python3.7/site-packages (from tensorflow-gpu) (4.1.1)\n",
      "Requirement already satisfied: absl-py>=1.0.0 in /home/andressa.amaral/.local/lib/python3.7/site-packages (from tensorflow-gpu) (1.0.0)\n",
      "Requirement already satisfied: tensorboard<2.10,>=2.9 in /home/andressa.amaral/.local/lib/python3.7/site-packages (from tensorflow-gpu) (2.9.0)\n",
      "Requirement already satisfied: keras-preprocessing>=1.1.1 in /home/andressa.amaral/.local/lib/python3.7/site-packages (from tensorflow-gpu) (1.1.2)\n",
      "Requirement already satisfied: h5py>=2.9.0 in /home/andressa.amaral/.local/lib/python3.7/site-packages (from tensorflow-gpu) (3.6.0)\n",
      "Requirement already satisfied: termcolor>=1.1.0 in /home/andressa.amaral/.local/lib/python3.7/site-packages (from tensorflow-gpu) (1.1.0)\n",
      "Requirement already satisfied: packaging in /home/andressa.amaral/.local/lib/python3.7/site-packages (from tensorflow-gpu) (21.3)\n",
      "Requirement already satisfied: flatbuffers<2,>=1.12 in /home/andressa.amaral/.local/lib/python3.7/site-packages (from tensorflow-gpu) (1.12)\n",
      "Requirement already satisfied: libclang>=13.0.0 in /home/andressa.amaral/.local/lib/python3.7/site-packages (from tensorflow-gpu) (13.0.0)\n",
      "Requirement already satisfied: astunparse>=1.6.0 in /home/andressa.amaral/.local/lib/python3.7/site-packages (from tensorflow-gpu) (1.6.3)\n",
      "Requirement already satisfied: wrapt>=1.11.0 in /home/andressa.amaral/.local/lib/python3.7/site-packages (from tensorflow-gpu) (1.14.0)\n",
      "Requirement already satisfied: protobuf<3.20,>=3.9.2 in /home/andressa.amaral/.local/lib/python3.7/site-packages (from tensorflow-gpu) (3.19.4)\n",
      "Requirement already satisfied: six>=1.12.0 in /home/andressa.amaral/.local/lib/python3.7/site-packages (from tensorflow-gpu) (1.16.0)\n",
      "Requirement already satisfied: gast<=0.4.0,>=0.2.1 in /home/andressa.amaral/.local/lib/python3.7/site-packages (from tensorflow-gpu) (0.4.0)\n",
      "Requirement already satisfied: tensorflow-estimator<2.10.0,>=2.9.0rc0 in /home/andressa.amaral/.local/lib/python3.7/site-packages (from tensorflow-gpu) (2.9.0)\n",
      "Requirement already satisfied: grpcio<2.0,>=1.24.3 in /home/andressa.amaral/.local/lib/python3.7/site-packages (from tensorflow-gpu) (1.44.0)\n",
      "Requirement already satisfied: wheel<1.0,>=0.23.0 in /usr/lib/python3/dist-packages (from astunparse>=1.6.0->tensorflow-gpu) (0.30.0)\n",
      "Requirement already satisfied: cached-property in /home/andressa.amaral/.local/lib/python3.7/site-packages (from h5py>=2.9.0->tensorflow-gpu) (1.5.2)\n",
      "Requirement already satisfied: werkzeug>=1.0.1 in /home/andressa.amaral/.local/lib/python3.7/site-packages (from tensorboard<2.10,>=2.9->tensorflow-gpu) (2.0.3)\n",
      "Requirement already satisfied: requests<3,>=2.21.0 in /home/andressa.amaral/.local/lib/python3.7/site-packages (from tensorboard<2.10,>=2.9->tensorflow-gpu) (2.27.1)\n",
      "Requirement already satisfied: markdown>=2.6.8 in /home/andressa.amaral/.local/lib/python3.7/site-packages (from tensorboard<2.10,>=2.9->tensorflow-gpu) (3.3.6)\n",
      "Requirement already satisfied: tensorboard-plugin-wit>=1.6.0 in /home/andressa.amaral/.local/lib/python3.7/site-packages (from tensorboard<2.10,>=2.9->tensorflow-gpu) (1.8.1)\n",
      "Requirement already satisfied: tensorboard-data-server<0.7.0,>=0.6.0 in /home/andressa.amaral/.local/lib/python3.7/site-packages (from tensorboard<2.10,>=2.9->tensorflow-gpu) (0.6.1)\n",
      "Requirement already satisfied: google-auth<3,>=1.6.3 in /home/andressa.amaral/.local/lib/python3.7/site-packages (from tensorboard<2.10,>=2.9->tensorflow-gpu) (2.6.2)\n",
      "Requirement already satisfied: google-auth-oauthlib<0.5,>=0.4.1 in /home/andressa.amaral/.local/lib/python3.7/site-packages (from tensorboard<2.10,>=2.9->tensorflow-gpu) (0.4.6)\n",
      "Requirement already satisfied: pyparsing!=3.0.5,>=2.0.2 in /home/andressa.amaral/.local/lib/python3.7/site-packages (from packaging->tensorflow-gpu) (3.0.7)\n",
      "Requirement already satisfied: pyasn1-modules>=0.2.1 in /home/andressa.amaral/.local/lib/python3.7/site-packages (from google-auth<3,>=1.6.3->tensorboard<2.10,>=2.9->tensorflow-gpu) (0.2.8)\n",
      "Requirement already satisfied: cachetools<6.0,>=2.0.0 in /home/andressa.amaral/.local/lib/python3.7/site-packages (from google-auth<3,>=1.6.3->tensorboard<2.10,>=2.9->tensorflow-gpu) (5.0.0)\n",
      "Requirement already satisfied: rsa<5,>=3.1.4 in /home/andressa.amaral/.local/lib/python3.7/site-packages (from google-auth<3,>=1.6.3->tensorboard<2.10,>=2.9->tensorflow-gpu) (4.8)\n",
      "Requirement already satisfied: requests-oauthlib>=0.7.0 in /home/andressa.amaral/.local/lib/python3.7/site-packages (from google-auth-oauthlib<0.5,>=0.4.1->tensorboard<2.10,>=2.9->tensorflow-gpu) (1.3.1)\n"
     ]
    },
    {
     "name": "stdout",
     "output_type": "stream",
     "text": [
      "Requirement already satisfied: importlib-metadata>=4.4 in /home/andressa.amaral/.local/lib/python3.7/site-packages (from markdown>=2.6.8->tensorboard<2.10,>=2.9->tensorflow-gpu) (4.11.3)\n",
      "Requirement already satisfied: certifi>=2017.4.17 in /usr/lib/python3/dist-packages (from requests<3,>=2.21.0->tensorboard<2.10,>=2.9->tensorflow-gpu) (2018.1.18)\n",
      "Requirement already satisfied: idna<4,>=2.5 in /usr/lib/python3/dist-packages (from requests<3,>=2.21.0->tensorboard<2.10,>=2.9->tensorflow-gpu) (2.6)\n",
      "Requirement already satisfied: urllib3<1.27,>=1.21.1 in /usr/lib/python3/dist-packages (from requests<3,>=2.21.0->tensorboard<2.10,>=2.9->tensorflow-gpu) (1.22)\n",
      "Requirement already satisfied: charset-normalizer~=2.0.0 in /home/andressa.amaral/.local/lib/python3.7/site-packages (from requests<3,>=2.21.0->tensorboard<2.10,>=2.9->tensorflow-gpu) (2.0.12)\n",
      "Requirement already satisfied: zipp>=0.5 in /home/andressa.amaral/.local/lib/python3.7/site-packages (from importlib-metadata>=4.4->markdown>=2.6.8->tensorboard<2.10,>=2.9->tensorflow-gpu) (3.7.0)\n",
      "Requirement already satisfied: pyasn1<0.5.0,>=0.4.6 in /home/andressa.amaral/.local/lib/python3.7/site-packages (from pyasn1-modules>=0.2.1->google-auth<3,>=1.6.3->tensorboard<2.10,>=2.9->tensorflow-gpu) (0.4.8)\n",
      "Requirement already satisfied: oauthlib>=3.0.0 in /home/andressa.amaral/.local/lib/python3.7/site-packages (from requests-oauthlib>=0.7.0->google-auth-oauthlib<0.5,>=0.4.1->tensorboard<2.10,>=2.9->tensorflow-gpu) (3.2.0)\n",
      "\u001b[33mWARNING: You are using pip version 22.0.4; however, version 22.2.2 is available.\n",
      "You should consider upgrading via the '/usr/bin/python3 -m pip install --upgrade pip' command.\u001b[0m\u001b[33m\n",
      "\u001b[0mDefaulting to user installation because normal site-packages is not writeable\n",
      "Requirement already satisfied: bayesian-optimization in /home/andressa.amaral/.local/lib/python3.7/site-packages (1.2.0)\n",
      "Requirement already satisfied: scipy>=0.14.0 in /home/andressa.amaral/.local/lib/python3.7/site-packages (from bayesian-optimization) (1.7.3)\n",
      "Requirement already satisfied: numpy>=1.9.0 in /home/andressa.amaral/.local/lib/python3.7/site-packages (from bayesian-optimization) (1.21.5)\n",
      "Requirement already satisfied: scikit-learn>=0.18.0 in /home/andressa.amaral/.local/lib/python3.7/site-packages (from bayesian-optimization) (1.0.2)\n",
      "Requirement already satisfied: threadpoolctl>=2.0.0 in /home/andressa.amaral/.local/lib/python3.7/site-packages (from scikit-learn>=0.18.0->bayesian-optimization) (3.1.0)\n",
      "Requirement already satisfied: joblib>=0.11 in /home/andressa.amaral/.local/lib/python3.7/site-packages (from scikit-learn>=0.18.0->bayesian-optimization) (1.1.0)\n",
      "\u001b[33mWARNING: You are using pip version 22.0.4; however, version 22.2.2 is available.\n",
      "You should consider upgrading via the '/usr/bin/python3 -m pip install --upgrade pip' command.\u001b[0m\u001b[33m\n",
      "\u001b[0m"
     ]
    },
    {
     "name": "stderr",
     "output_type": "stream",
     "text": [
      "2022-08-20 11:11:34.272536: W tensorflow/stream_executor/platform/default/dso_loader.cc:64] Could not load dynamic library 'libcudart.so.11.0'; dlerror: libcudart.so.11.0: cannot open shared object file: No such file or directory\n",
      "2022-08-20 11:11:34.272593: I tensorflow/stream_executor/cuda/cudart_stub.cc:29] Ignore above cudart dlerror if you do not have a GPU set up on your machine.\n"
     ]
    }
   ],
   "source": [
    "!pip3 install pandas\n",
    "!pip3 install seaborn\n",
    "!pip3 install --upgrade tensorflow-gpu\n",
    "!pip3 install bayesian-optimization\n",
    "\n",
    "from datetime import datetime\n",
    "import matplotlib.pyplot as plt\n",
    "import seaborn as sns\n",
    "import numpy as np\n",
    "import pandas as pd\n",
    "import glob\n",
    "import os\n",
    "import math\n",
    "import pickle\n",
    "import time\n",
    "import sys\n",
    "\n",
    "import tensorflow as tf\n",
    "tf.compat.v1.disable_eager_execution()\n",
    "from tensorflow.keras import models, layers\n",
    "from tensorflow.keras.layers import Lambda, Input, Dense, Dropout, Conv1D, MaxPooling1D, Flatten, GlobalAveragePooling1D, BatchNormalization\n",
    "from tensorflow.keras.losses import mse\n",
    "from tensorflow.keras import optimizers\n",
    "from tensorflow.keras import backend as K\n",
    "from tensorflow.keras.callbacks import LearningRateScheduler, ModelCheckpoint, ReduceLROnPlateau\n",
    "from tensorflow.keras import initializers\n",
    "from tensorflow.keras import regularizers\n",
    "\n",
    "from sklearn.model_selection import train_test_split\n",
    "from sklearn.pipeline import Pipeline\n",
    "from sklearn.preprocessing import MinMaxScaler\n",
    "from sklearn.decomposition import PCA\n",
    "from sklearn.metrics import classification_report, mean_squared_error, confusion_matrix, accuracy_score, f1_score, precision_score, recall_score\n",
    "from sklearn.neighbors import KNeighborsClassifier\n",
    "from sklearn.naive_bayes import GaussianNB\n",
    "\n",
    "from bayes_opt import BayesianOptimization\n",
    "\n",
    "%matplotlib inline"
   ]
  },
  {
   "cell_type": "code",
   "execution_count": 2,
   "id": "9f4597ac",
   "metadata": {},
   "outputs": [
    {
     "name": "stderr",
     "output_type": "stream",
     "text": [
      "2022-08-20 11:11:36.759697: I tensorflow/core/platform/cpu_feature_guard.cc:193] This TensorFlow binary is optimized with oneAPI Deep Neural Network Library (oneDNN) to use the following CPU instructions in performance-critical operations:  AVX2 AVX512F FMA\n",
      "To enable them in other operations, rebuild TensorFlow with the appropriate compiler flags.\n",
      "2022-08-20 11:11:36.828297: W tensorflow/stream_executor/platform/default/dso_loader.cc:64] Could not load dynamic library 'libcudart.so.11.0'; dlerror: libcudart.so.11.0: cannot open shared object file: No such file or directory\n",
      "2022-08-20 11:11:36.828732: W tensorflow/stream_executor/platform/default/dso_loader.cc:64] Could not load dynamic library 'libcublas.so.11'; dlerror: libcublas.so.11: cannot open shared object file: No such file or directory\n",
      "2022-08-20 11:11:36.829014: W tensorflow/stream_executor/platform/default/dso_loader.cc:64] Could not load dynamic library 'libcublasLt.so.11'; dlerror: libcublasLt.so.11: cannot open shared object file: No such file or directory\n",
      "2022-08-20 11:11:36.834637: W tensorflow/stream_executor/platform/default/dso_loader.cc:64] Could not load dynamic library 'libcusolver.so.11'; dlerror: libcusolver.so.11: cannot open shared object file: No such file or directory\n",
      "2022-08-20 11:11:36.840863: W tensorflow/stream_executor/platform/default/dso_loader.cc:64] Could not load dynamic library 'libcusparse.so.11'; dlerror: libcusparse.so.11: cannot open shared object file: No such file or directory\n",
      "2022-08-20 11:11:36.841789: W tensorflow/stream_executor/platform/default/dso_loader.cc:64] Could not load dynamic library 'libcudnn.so.8'; dlerror: libcudnn.so.8: cannot open shared object file: No such file or directory\n",
      "2022-08-20 11:11:36.842431: W tensorflow/core/common_runtime/gpu/gpu_device.cc:1850] Cannot dlopen some GPU libraries. Please make sure the missing libraries mentioned above are installed properly if you would like to use GPU. Follow the guide at https://www.tensorflow.org/install/gpu for how to download and setup the required libraries for your platform.\n",
      "Skipping registering GPU devices...\n"
     ]
    }
   ],
   "source": [
    "gpu_options = tf.compat.v1.GPUOptions(per_process_gpu_memory_fraction = 0.333)\n",
    "sess = tf.compat.v1.Session(config = tf.compat.v1.ConfigProto(gpu_options = gpu_options))"
   ]
  },
  {
   "cell_type": "markdown",
   "id": "98ccb64e",
   "metadata": {},
   "source": [
    "# BoT IoT Data Pre-Processing"
   ]
  },
  {
   "cell_type": "code",
   "execution_count": 3,
   "id": "aaba0a32",
   "metadata": {},
   "outputs": [],
   "source": [
    "# Traffic information\n",
    "\n",
    "path = '../botiot/'\n",
    "all_files = glob.glob(os.path.join(path , '*.csv'))\n",
    "\n",
    "files_list = []\n",
    "for file in all_files:\n",
    "    df = pd.read_csv(file, index_col = None, encoding = 'utf-8', sep = ',', low_memory = False)\n",
    "    files_list.append(df)\n",
    "\n",
    "df_traffic = pd.concat(files_list, axis = 0, ignore_index = True)\n",
    "df_traffic = df_traffic.drop(columns=['pkSeqID', 'stime', 'flgs', 'flgs_number', 'saddr', 'sport', 'daddr', 'dport', 'subcategory'])\n",
    "df_traffic['proto'] = df_traffic['proto'].map({'tcp': 1, 'arp': 2, 'udp': 3, 'icmp': 4, 'ipv6-icmp': 5})\n",
    "df_traffic['state'] = df_traffic['state'].map({'REQ': 1, 'RST': 2, 'ACC': 3, 'CON': 4, 'INT': 5, 'URP': 6, 'FIN': 7, 'NRS': 8, 'ECO': 9, 'TST': 10, 'MAS': 11})"
   ]
  },
  {
   "cell_type": "code",
   "execution_count": 4,
   "id": "ff5e925e",
   "metadata": {},
   "outputs": [],
   "source": [
    "# Attacks\n",
    "\n",
    "df_attack = df_traffic.query('attack == 1')\n",
    "df_attack = df_attack.drop(columns=['attack'])\n",
    "df_attack['category'] = df_attack['category'].map({'DDoS': 0, 'DoS': 1, 'Reconnaissance': 2, 'Theft': 3})\n",
    "\n",
    "df_ddos = df_attack.query('category == 0')\n",
    "label_ddos = df_ddos.pop('category')\n",
    "\n",
    "df_dos = df_attack.query('category == 1')\n",
    "label_dos = df_dos.pop('category')\n",
    "\n",
    "df_rec = df_attack.query('category == 2')\n",
    "label_rec = df_rec.pop('category')\n",
    "\n",
    "df_theft = df_attack.query('category == 3')\n",
    "label_theft = df_theft.pop('category')"
   ]
  },
  {
   "cell_type": "code",
   "execution_count": 5,
   "id": "d4dddc12",
   "metadata": {},
   "outputs": [],
   "source": [
    "scaler = MinMaxScaler()\n",
    "\n",
    "df_ddos_norm = scaler.fit_transform(df_ddos)\n",
    "df_dos_norm = scaler.fit_transform(df_dos)\n",
    "df_rec_norm = scaler.fit_transform(df_rec)\n",
    "df_theft_norm = scaler.fit_transform(df_theft)"
   ]
  },
  {
   "cell_type": "markdown",
   "id": "e06acbcb",
   "metadata": {},
   "source": [
    "# CNN - Attack Classification"
   ]
  },
  {
   "cell_type": "code",
   "execution_count": 6,
   "id": "ab1d94d0",
   "metadata": {},
   "outputs": [],
   "source": [
    "batch_size = 50\n",
    "number_features = 23\n",
    "learning_rate = 0.008\n",
    "epochs = 25\n",
    "\n",
    "dict_params = { 'learning_rate': learning_rate, 'batch_size': int(32 * batch_size), 'epochs': int(epochs) }\n",
    "pbounds = { 'learning_rate': (0.000001, 0.1), 'batch_size': (1, 4.001), 'epochs': (1, 50) }"
   ]
  },
  {
   "cell_type": "code",
   "execution_count": 7,
   "id": "bf9ed328",
   "metadata": {},
   "outputs": [
    {
     "name": "stdout",
     "output_type": "stream",
     "text": [
      "2567630\n"
     ]
    }
   ],
   "source": [
    "# Train set\n",
    "\n",
    "len_ddos_train = int(0.7 * len(df_ddos_norm))\n",
    "X_ddos_train = df_ddos_norm[:len_ddos_train]\n",
    "\n",
    "len_dos_train = int(0.7 * len(df_dos_norm))\n",
    "X_dos_train = df_dos_norm[:len_dos_train]\n",
    "\n",
    "len_rec_train = int(0.7 * len(df_rec_norm))\n",
    "X_rec_train = df_rec_norm[:len_rec_train]\n",
    "\n",
    "len_theft_train = int(0.7 * len(df_theft_norm))\n",
    "X_theft_train = df_theft_norm[:len_theft_train]\n",
    "\n",
    "np_train = np.concatenate([X_ddos_train, X_dos_train, X_rec_train, X_theft_train])\n",
    "np_label_train = np.concatenate([label_ddos[:len_ddos_train], label_dos[:len_dos_train], label_rec[:len_rec_train], \n",
    "                                 label_theft[:len_theft_train]])\n",
    "\n",
    "df_train = pd.DataFrame(np_train)\n",
    "df_label_train = pd.DataFrame(np_label_train)\n",
    "\n",
    "X_train = df_train.to_numpy()\n",
    "Y_train = df_label_train.to_numpy()\n",
    "\n",
    "print(len(X_train))"
   ]
  },
  {
   "cell_type": "code",
   "execution_count": 8,
   "id": "011bfe35",
   "metadata": {},
   "outputs": [
    {
     "name": "stdout",
     "output_type": "stream",
     "text": [
      "743659\n"
     ]
    }
   ],
   "source": [
    "# Test set\n",
    "\n",
    "len_ddos_test = len_ddos_train + int(0.15 * len(df_ddos_norm))\n",
    "X_ddos_test = df_ddos_norm[len_ddos_train : len_ddos_test]\n",
    "\n",
    "len_dos_test = len_ddos_train + int(0.15 * len(df_dos_norm))\n",
    "X_dos_test = df_dos_norm[len_dos_train : len_dos_test]\n",
    "\n",
    "len_rec_test = len_rec_train + int(0.15 * len(df_rec_norm))\n",
    "X_rec_test = df_rec_norm[len_rec_train : len_rec_test]\n",
    "\n",
    "len_theft_test = len_theft_train + int(0.15 * len(df_theft_norm))\n",
    "X_theft_test = df_theft_norm[len_theft_train : len_theft_test]\n",
    "\n",
    "np_test = np.concatenate([X_ddos_test, X_dos_test, X_rec_test, X_theft_test])\n",
    "np_label_test = np.concatenate([label_ddos[len_ddos_train : len_ddos_test], label_dos[len_dos_train : len_dos_test], \n",
    "                                 label_rec[len_rec_train : len_rec_test], label_theft[len_theft_train : len_theft_test]])\n",
    "\n",
    "df_test = pd.DataFrame(np_test)\n",
    "df_label_test = pd.DataFrame(np_label_test)\n",
    "\n",
    "X_test = df_test.to_numpy()\n",
    "Y_test = df_label_test.to_numpy()\n",
    "\n",
    "print(len(X_test))"
   ]
  },
  {
   "cell_type": "code",
   "execution_count": 9,
   "id": "00fb437d",
   "metadata": {},
   "outputs": [
    {
     "name": "stdout",
     "output_type": "stream",
     "text": [
      "356756\n"
     ]
    }
   ],
   "source": [
    "# Validation set\n",
    "\n",
    "X_ddos_val = df_ddos_norm[len_ddos_test:]\n",
    "X_dos_val = df_dos_norm[len_dos_test:]\n",
    "X_rec_val = df_rec_norm[len_rec_test:]\n",
    "X_theft_val = df_theft_norm[len_theft_test:]\n",
    "\n",
    "np_val = np.concatenate([X_ddos_val, X_dos_val, X_rec_val, X_theft_val])\n",
    "np_label_val = np.concatenate([label_ddos[len_ddos_test:], label_dos[len_dos_test:], label_rec[len_rec_test:], \n",
    "                               label_theft[len_theft_test:]])\n",
    "\n",
    "df_val = pd.DataFrame(np_val)\n",
    "df_label_val = pd.DataFrame(np_label_val)\n",
    "\n",
    "X_val = df_val.to_numpy()\n",
    "Y_val = df_label_val.to_numpy()\n",
    "\n",
    "print(len(X_val))"
   ]
  },
  {
   "cell_type": "code",
   "execution_count": 10,
   "id": "98b117ba",
   "metadata": {},
   "outputs": [],
   "source": [
    "X_train_CNN = np.reshape(X_train, (X_train.shape[0], X_train.shape[1], 1))\n",
    "X_test_CNN = np.reshape(X_test, (X_test.shape[0], X_test.shape[1], 1))\n",
    "X_val_CNN = np.reshape(X_val, (X_val.shape[0], X_val.shape[1], 1))\n",
    "\n",
    "Y_train_CNN = Y_train\n",
    "Y_test_CNN = Y_test\n",
    "Y_val_CNN = Y_val\n",
    "\n",
    "samples, feature, depth = X_train_CNN.shape"
   ]
  },
  {
   "cell_type": "code",
   "execution_count": 11,
   "id": "a73c774b",
   "metadata": {},
   "outputs": [],
   "source": [
    "# CNN model with 1D convolutional layer\n",
    "\n",
    "def CNN():\n",
    "    model = models.Sequential()\n",
    "    model.add(layers.Conv1D(32, 3, activation='relu', padding = 'same', kernel_initializer = 'he_uniform', input_shape=(feature, depth)))\n",
    "    model.add(layers.MaxPooling1D(pool_size = 2, strides = 2))\n",
    "    model.add(layers.Conv1D(64, 3, activation='relu', padding = 'same', kernel_initializer = 'he_uniform'))\n",
    "    model.add(layers.MaxPooling1D(pool_size = 2, strides = 2))\n",
    "    model.add(layers.Conv1D(64, 3, activation='relu', padding = 'same', kernel_initializer = 'he_uniform'))\n",
    "    \n",
    "    model.add(layers.Flatten())\n",
    "    model.add(layers.Dense(64, activation='relu'))\n",
    "    model.add(layers.Dense(10, activation='softmax'))\n",
    "    \n",
    "    return model"
   ]
  },
  {
   "cell_type": "code",
   "execution_count": 12,
   "id": "94360181",
   "metadata": {},
   "outputs": [],
   "source": [
    "reduce_lr = ReduceLROnPlateau(moniter = 'val_loss', factor = 0.1, patience = 10)"
   ]
  },
  {
   "cell_type": "markdown",
   "id": "d2e453ab",
   "metadata": {},
   "source": [
    "## Train"
   ]
  },
  {
   "cell_type": "code",
   "execution_count": 13,
   "id": "01c654b7",
   "metadata": {},
   "outputs": [],
   "source": [
    "# Training step with Bayesian optimization\n",
    "\n",
    "def training(X_train = X_train_CNN,\n",
    "             Y_train = Y_train_CNN, \n",
    "             X_val = X_val_CNN, \n",
    "             Y_val = Y_val_CNN, \n",
    "             X_test = X_test_CNN, \n",
    "             Y_test = Y_test_CNN, \n",
    "             learning_rate = learning_rate, \n",
    "             epochs = epochs, \n",
    "             batch_size = batch_size,\n",
    "             reduce_lr = reduce_lr):\n",
    "    \n",
    "    nadam = optimizers.Nadam(learning_rate = dict_params['learning_rate'], beta_1 = 0.9, beta_2 = 0.999, epsilon = 1e-08, schedule_decay = 0.004)\n",
    "    \n",
    "    model = CNN()\n",
    "    model.compile(loss = \"sparse_categorical_crossentropy\", optimizer = \"nadam\", metrics = [\"accuracy\"])\n",
    "    \n",
    "    history = model.fit(X_train, Y_train, \n",
    "                        epochs = dict_params['epochs'], \n",
    "                        batch_size = dict_params['batch_size'], \n",
    "                        validation_data = (X_val, Y_val),\n",
    "                        callbacks = [reduce_lr])\n",
    "    \n",
    "    scores = model.evaluate(X_test, Y_test)\n",
    "    \n",
    "    print('loss:', scores[0])\n",
    "    print('accuracy:', scores[1])\n",
    "    return scores[1]"
   ]
  },
  {
   "cell_type": "code",
   "execution_count": 14,
   "id": "d313b4ca",
   "metadata": {},
   "outputs": [
    {
     "data": {
      "text/plain": [
       "'\\n# Bayesian optimization to choose the best hyperparameters\\n\\noptimizer = BayesianOptimization(\\n    f = training,\\n    pbounds = pbounds,\\n    verbose = 2, \\n    random_state = 1,\\n)\\n\\ntrain_start = time.time()\\n\\noptimizer.maximize(init_points = 5, n_iter = 5)\\n\\ntrain_end = time.time()\\ntrain_time = train_end - train_start\\nprint(\"Training time:\", train_time)\\n\\nprint(optimizer.max)\\n'"
      ]
     },
     "execution_count": 14,
     "metadata": {},
     "output_type": "execute_result"
    }
   ],
   "source": [
    "\"\"\"\n",
    "# Bayesian optimization to choose the best hyperparameters\n",
    "\n",
    "optimizer = BayesianOptimization(\n",
    "    f = training,\n",
    "    pbounds = pbounds,\n",
    "    verbose = 2, \n",
    "    random_state = 1,\n",
    ")\n",
    "\n",
    "train_start = time.time()\n",
    "\n",
    "optimizer.maximize(init_points = 5, n_iter = 5)\n",
    "\n",
    "train_end = time.time()\n",
    "train_time = train_end - train_start\n",
    "print(\"Training time:\", train_time)\n",
    "\n",
    "print(optimizer.max)\n",
    "\"\"\""
   ]
  },
  {
   "cell_type": "code",
   "execution_count": 15,
   "id": "f54990eb",
   "metadata": {},
   "outputs": [
    {
     "name": "stdout",
     "output_type": "stream",
     "text": [
      "Train on 2567630 samples, validate on 356756 samples\n",
      "Epoch 1/36\n"
     ]
    },
    {
     "name": "stderr",
     "output_type": "stream",
     "text": [
      "2022-08-20 11:12:22.838735: W tensorflow/core/common_runtime/gpu/gpu_device.cc:1850] Cannot dlopen some GPU libraries. Please make sure the missing libraries mentioned above are installed properly if you would like to use GPU. Follow the guide at https://www.tensorflow.org/install/gpu for how to download and setup the required libraries for your platform.\n",
      "Skipping registering GPU devices...\n",
      "2022-08-20 11:12:22.865151: I tensorflow/compiler/mlir/mlir_graph_optimization_pass.cc:354] MLIR V1 optimization pass is not enabled\n"
     ]
    },
    {
     "name": "stdout",
     "output_type": "stream",
     "text": [
      "2567117/2567630 [============================>.] - ETA: 0s - loss: 0.0022 - accuracy: 0.9996"
     ]
    },
    {
     "name": "stderr",
     "output_type": "stream",
     "text": [
      "/home/andressa.amaral/.local/lib/python3.7/site-packages/keras/engine/training_v1.py:2045: UserWarning: `Model.state_updates` will be removed in a future version. This property should not be used in TensorFlow 2.0, as `updates` are applied automatically.\n",
      "  updates = self.state_updates\n"
     ]
    },
    {
     "name": "stdout",
     "output_type": "stream",
     "text": [
      "2567630/2567630 [==============================] - 188s 73us/sample - loss: 0.0022 - accuracy: 0.9996 - val_loss: 1.5475e-04 - val_accuracy: 1.0000 - lr: 0.0010\n",
      "Epoch 2/36\n",
      "2567630/2567630 [==============================] - 213s 83us/sample - loss: 1.3764e-04 - accuracy: 1.0000 - val_loss: 2.0137e-04 - val_accuracy: 1.0000 - lr: 0.0010\n",
      "Epoch 3/36\n",
      "2567630/2567630 [==============================] - 231s 90us/sample - loss: 1.6337e-04 - accuracy: 1.0000 - val_loss: 3.2500e-04 - val_accuracy: 1.0000 - lr: 0.0010\n",
      "Epoch 4/36\n",
      "2567630/2567630 [==============================] - 218s 85us/sample - loss: 1.0117e-04 - accuracy: 1.0000 - val_loss: 2.4357e-04 - val_accuracy: 1.0000 - lr: 0.0010\n",
      "Epoch 5/36\n",
      "2567630/2567630 [==============================] - 200s 78us/sample - loss: 1.0480e-04 - accuracy: 1.0000 - val_loss: 0.0017 - val_accuracy: 0.9999 - lr: 0.0010\n",
      "Epoch 6/36\n",
      "2567630/2567630 [==============================] - 212s 82us/sample - loss: 8.1715e-05 - accuracy: 1.0000 - val_loss: 4.1143e-04 - val_accuracy: 1.0000 - lr: 0.0010\n",
      "Epoch 7/36\n",
      "2567630/2567630 [==============================] - 230s 90us/sample - loss: 5.2982e-05 - accuracy: 1.0000 - val_loss: 0.0017 - val_accuracy: 1.0000 - lr: 0.0010\n",
      "Epoch 8/36\n",
      "2567630/2567630 [==============================] - 228s 89us/sample - loss: 1.1013e-04 - accuracy: 1.0000 - val_loss: 9.2545e-04 - val_accuracy: 1.0000 - lr: 0.0010\n",
      "Epoch 9/36\n",
      "2567630/2567630 [==============================] - 188s 73us/sample - loss: 6.4653e-05 - accuracy: 1.0000 - val_loss: 3.9463e-04 - val_accuracy: 1.0000 - lr: 0.0010\n",
      "Epoch 10/36\n",
      "2567630/2567630 [==============================] - 172s 67us/sample - loss: 8.0578e-05 - accuracy: 1.0000 - val_loss: 0.0015 - val_accuracy: 1.0000 - lr: 0.0010\n",
      "Epoch 11/36\n",
      "2567630/2567630 [==============================] - 180s 70us/sample - loss: 5.5835e-05 - accuracy: 1.0000 - val_loss: 0.0011 - val_accuracy: 1.0000 - lr: 0.0010\n",
      "Epoch 12/36\n",
      "2567630/2567630 [==============================] - 163s 64us/sample - loss: 9.2648e-06 - accuracy: 1.0000 - val_loss: 0.0011 - val_accuracy: 1.0000 - lr: 1.0000e-04\n",
      "Epoch 13/36\n",
      "2567630/2567630 [==============================] - 160s 62us/sample - loss: 2.5900e-07 - accuracy: 1.0000 - val_loss: 0.0012 - val_accuracy: 1.0000 - lr: 1.0000e-04\n",
      "Epoch 14/36\n",
      "2567630/2567630 [==============================] - 209s 81us/sample - loss: 9.6569e-12 - accuracy: 1.0000 - val_loss: 0.0012 - val_accuracy: 1.0000 - lr: 1.0000e-04\n",
      "Epoch 15/36\n",
      "2567630/2567630 [==============================] - 221s 86us/sample - loss: 3.7142e-12 - accuracy: 1.0000 - val_loss: 0.0012 - val_accuracy: 1.0000 - lr: 1.0000e-04\n",
      "Epoch 16/36\n",
      "2567630/2567630 [==============================] - 219s 85us/sample - loss: 1.1143e-12 - accuracy: 1.0000 - val_loss: 0.0012 - val_accuracy: 1.0000 - lr: 1.0000e-04\n",
      "Epoch 17/36\n",
      "2567630/2567630 [==============================] - 215s 84us/sample - loss: 7.4284e-13 - accuracy: 1.0000 - val_loss: 0.0012 - val_accuracy: 1.0000 - lr: 1.0000e-04\n",
      "Epoch 18/36\n",
      "2567630/2567630 [==============================] - 220s 86us/sample - loss: 5.5713e-13 - accuracy: 1.0000 - val_loss: 0.0012 - val_accuracy: 1.0000 - lr: 1.0000e-04\n",
      "Epoch 19/36\n",
      "2567630/2567630 [==============================] - 235s 92us/sample - loss: 4.6428e-13 - accuracy: 1.0000 - val_loss: 0.0012 - val_accuracy: 1.0000 - lr: 1.0000e-04\n",
      "Epoch 20/36\n",
      "2567630/2567630 [==============================] - 223s 87us/sample - loss: 3.7142e-13 - accuracy: 1.0000 - val_loss: 0.0012 - val_accuracy: 1.0000 - lr: 1.0000e-04\n",
      "Epoch 21/36\n",
      "2567630/2567630 [==============================] - 218s 85us/sample - loss: 3.2499e-13 - accuracy: 1.0000 - val_loss: 0.0012 - val_accuracy: 1.0000 - lr: 1.0000e-04\n",
      "Epoch 22/36\n",
      "2567630/2567630 [==============================] - 214s 83us/sample - loss: 3.2499e-13 - accuracy: 1.0000 - val_loss: 0.0012 - val_accuracy: 1.0000 - lr: 1.0000e-05\n",
      "Epoch 23/36\n",
      "2567630/2567630 [==============================] - 214s 83us/sample - loss: 3.2499e-13 - accuracy: 1.0000 - val_loss: 0.0012 - val_accuracy: 1.0000 - lr: 1.0000e-05\n",
      "Epoch 24/36\n",
      "2567630/2567630 [==============================] - 209s 81us/sample - loss: 3.2499e-13 - accuracy: 1.0000 - val_loss: 0.0012 - val_accuracy: 1.0000 - lr: 1.0000e-05\n",
      "Epoch 25/36\n",
      "2567630/2567630 [==============================] - 195s 76us/sample - loss: 3.2499e-13 - accuracy: 1.0000 - val_loss: 0.0012 - val_accuracy: 1.0000 - lr: 1.0000e-05\n",
      "Epoch 26/36\n",
      "2567630/2567630 [==============================] - 186s 73us/sample - loss: 2.7857e-13 - accuracy: 1.0000 - val_loss: 0.0012 - val_accuracy: 1.0000 - lr: 1.0000e-05\n",
      "Epoch 27/36\n",
      "2567630/2567630 [==============================] - 187s 73us/sample - loss: 2.7857e-13 - accuracy: 1.0000 - val_loss: 0.0012 - val_accuracy: 1.0000 - lr: 1.0000e-05\n",
      "Epoch 28/36\n",
      "2567630/2567630 [==============================] - 187s 73us/sample - loss: 2.7857e-13 - accuracy: 1.0000 - val_loss: 0.0012 - val_accuracy: 1.0000 - lr: 1.0000e-05\n",
      "Epoch 29/36\n",
      "2567630/2567630 [==============================] - 180s 70us/sample - loss: 2.7857e-13 - accuracy: 1.0000 - val_loss: 0.0012 - val_accuracy: 1.0000 - lr: 1.0000e-05\n",
      "Epoch 30/36\n",
      "2567630/2567630 [==============================] - 177s 69us/sample - loss: 2.7857e-13 - accuracy: 1.0000 - val_loss: 0.0012 - val_accuracy: 1.0000 - lr: 1.0000e-05\n",
      "Epoch 31/36\n",
      "2567630/2567630 [==============================] - 188s 73us/sample - loss: 2.7857e-13 - accuracy: 1.0000 - val_loss: 0.0012 - val_accuracy: 1.0000 - lr: 1.0000e-05\n",
      "Epoch 32/36\n",
      "2567630/2567630 [==============================] - 188s 73us/sample - loss: 2.7857e-13 - accuracy: 1.0000 - val_loss: 0.0012 - val_accuracy: 1.0000 - lr: 1.0000e-06\n",
      "Epoch 33/36\n",
      "2567630/2567630 [==============================] - 186s 73us/sample - loss: 2.7857e-13 - accuracy: 1.0000 - val_loss: 0.0012 - val_accuracy: 1.0000 - lr: 1.0000e-06\n",
      "Epoch 34/36\n",
      "2567630/2567630 [==============================] - 187s 73us/sample - loss: 2.7857e-13 - accuracy: 1.0000 - val_loss: 0.0012 - val_accuracy: 1.0000 - lr: 1.0000e-06\n",
      "Epoch 35/36\n",
      "2567630/2567630 [==============================] - 188s 73us/sample - loss: 2.7857e-13 - accuracy: 1.0000 - val_loss: 0.0012 - val_accuracy: 1.0000 - lr: 1.0000e-06\n",
      "Epoch 36/36\n",
      "2567630/2567630 [==============================] - 178s 69us/sample - loss: 2.7857e-13 - accuracy: 1.0000 - val_loss: 0.0012 - val_accuracy: 1.0000 - lr: 1.0000e-06\n",
      "Training time: 7208.511871814728\n"
     ]
    }
   ],
   "source": [
    "# Training step with the best hyperparameters\n",
    "\n",
    "nadam = optimizers.Nadam(learning_rate = 0.01946960847019594, beta_1 = 0.9, beta_2 = 0.999, epsilon = 1e-08, schedule_decay = 0.004)\n",
    "\n",
    "model = CNN()\n",
    "model.compile(loss = \"sparse_categorical_crossentropy\", optimizer = \"nadam\", metrics = [\"accuracy\"])\n",
    "\n",
    "train_start = time.time()\n",
    "\n",
    "history = model.fit(X_train_CNN, Y_train_CNN, \n",
    "                    epochs = int(36.701988678683904), \n",
    "                    batch_size = int(32 * 3.179494411695542), \n",
    "                    validation_data = (X_val_CNN, Y_val_CNN),\n",
    "                    callbacks = [reduce_lr])\n",
    "\n",
    "train_end = time.time()\n",
    "train_time = train_end - train_start\n",
    "print(\"Training time:\", train_time)"
   ]
  },
  {
   "cell_type": "markdown",
   "id": "299ec529",
   "metadata": {},
   "source": [
    "## Test"
   ]
  },
  {
   "cell_type": "code",
   "execution_count": 16,
   "id": "8cbff006",
   "metadata": {},
   "outputs": [
    {
     "name": "stderr",
     "output_type": "stream",
     "text": [
      "/home/andressa.amaral/.local/lib/python3.7/site-packages/keras/engine/training_v1.py:2067: UserWarning: `Model.state_updates` will be removed in a future version. This property should not be used in TensorFlow 2.0, as `updates` are applied automatically.\n",
      "  updates=self.state_updates,\n"
     ]
    },
    {
     "name": "stdout",
     "output_type": "stream",
     "text": [
      "Testing time: 43.798954010009766\n"
     ]
    }
   ],
   "source": [
    "# Testing step\n",
    "\n",
    "test_start = time.time()\n",
    "\n",
    "Y_pred = model.predict(X_test_CNN)\n",
    "\n",
    "test_end = time.time()\n",
    "test_time = test_end - test_start\n",
    "print(\"Testing time:\", test_time)"
   ]
  },
  {
   "cell_type": "code",
   "execution_count": 17,
   "id": "56e98551",
   "metadata": {},
   "outputs": [],
   "source": [
    "Y_pred_CNN = np.argmax(Y_pred, axis = 1)\n",
    "Y_true_CNN = Y_test_CNN.astype(int)"
   ]
  },
  {
   "cell_type": "markdown",
   "id": "47d2d533",
   "metadata": {},
   "source": [
    "## Metrics"
   ]
  },
  {
   "cell_type": "code",
   "execution_count": 18,
   "id": "fe925951",
   "metadata": {},
   "outputs": [],
   "source": [
    "labels = ['DDoS', 'DoS', 'Reconaissance', 'Theft']"
   ]
  },
  {
   "cell_type": "code",
   "execution_count": 19,
   "id": "b624e1d1",
   "metadata": {},
   "outputs": [],
   "source": [
    "# Multi classification metrics\n",
    "\n",
    "acc = accuracy_score(Y_true_CNN, Y_pred_CNN) \n",
    "f1 = f1_score(Y_true_CNN, Y_pred_CNN, average = 'weighted')\n",
    "pre = precision_score(Y_true_CNN, Y_pred_CNN, labels = None, pos_label = 1, average = 'weighted')\n",
    "recall = recall_score(Y_true_CNN, Y_pred_CNN, labels = None, pos_label = 1, average = 'weighted', sample_weight = None)"
   ]
  },
  {
   "cell_type": "code",
   "execution_count": 20,
   "id": "2cddb45f",
   "metadata": {},
   "outputs": [],
   "source": [
    "sys.stdout = open(\"../Results/bot_iot_cnn.txt\", \"a\")\n",
    "\n",
    "print(\" ==== Test \" + str(number_features) + \" features ====\")\n",
    "print(\"Training time:\" + str(train_time))\n",
    "print(\"Testing time:\" + str(test_time))\n",
    "print(\"Accuracy:\" + str(acc))\n",
    "print(\"F1-score:\" + str(f1))\n",
    "print(\"Precision:\" + str(pre))\n",
    "print(\"Recall:\" + str(recall))\n",
    "#print(\"Hyper-parameters:\" + str(optimizer.max))\n",
    "print(classification_report(Y_true_CNN,Y_pred_CNN, target_names = labels))"
   ]
  },
  {
   "cell_type": "markdown",
   "id": "50f7747f",
   "metadata": {},
   "source": [
    "## Naive Bayes Model"
   ]
  },
  {
   "cell_type": "code",
   "execution_count": 21,
   "id": "c610db11",
   "metadata": {},
   "outputs": [
    {
     "name": "stderr",
     "output_type": "stream",
     "text": [
      "/home/andressa.amaral/.local/lib/python3.7/site-packages/sklearn/utils/validation.py:993: DataConversionWarning: A column-vector y was passed when a 1d array was expected. Please change the shape of y to (n_samples, ), for example using ravel().\n",
      "  y = column_or_1d(y, warn=True)\n"
     ]
    }
   ],
   "source": [
    "# Model\n",
    "nb = GaussianNB()\n",
    "\n",
    "# Train\n",
    "train_nb_start = time.time()\n",
    "\n",
    "nb.fit(X_train, Y_train)\n",
    "\n",
    "train_nb_end = time.time()\n",
    "train_nb_time = train_nb_end - train_nb_start\n",
    "\n",
    "# Test\n",
    "test_nb_start = time.time()\n",
    "\n",
    "Y_pred_nb = nb.predict(X_test)\n",
    "\n",
    "test_nb_end = time.time()\n",
    "test_nb_time = test_nb_end - test_nb_start\n",
    "\n",
    "# Metrics\n",
    "acc_nb = accuracy_score(Y_test, Y_pred_nb) \n",
    "f1_nb = f1_score(Y_test, Y_pred_nb, average = 'weighted')\n",
    "pre_nb = precision_score(Y_test, Y_pred_nb, labels = None, pos_label = 1, average = 'weighted')\n",
    "recall_nb = recall_score(Y_test, Y_pred_nb, labels = None, pos_label = 1, average = 'weighted', sample_weight = None)\n",
    "\n",
    "print()\n",
    "print(\" ==== Naive Bayes \" + str(number_features) + \" features ====\")\n",
    "print(\"Training time:\" + str(train_nb_time))\n",
    "print(\"Testing time:\" + str(test_nb_time))\n",
    "print(\"Accuracy:\" + str(acc_nb))\n",
    "print(\"F1-score:\" + str(f1_nb))\n",
    "print(\"Precision:\" + str(pre_nb))\n",
    "print(\"Recall:\" + str(recall_nb))\n",
    "print(classification_report(Y_test,Y_pred_nb, target_names = labels))"
   ]
  },
  {
   "cell_type": "markdown",
   "id": "de86d99e",
   "metadata": {},
   "source": [
    "## KNN Model"
   ]
  },
  {
   "cell_type": "code",
   "execution_count": 22,
   "id": "ba4acd65",
   "metadata": {
    "scrolled": true
   },
   "outputs": [
    {
     "name": "stderr",
     "output_type": "stream",
     "text": [
      "/home/andressa.amaral/.local/lib/python3.7/site-packages/sklearn/neighbors/_classification.py:198: DataConversionWarning: A column-vector y was passed when a 1d array was expected. Please change the shape of y to (n_samples,), for example using ravel().\n",
      "  return self._fit(X, y)\n"
     ]
    },
    {
     "ename": "KeyboardInterrupt",
     "evalue": "",
     "output_type": "error",
     "traceback": [
      "\u001b[0;31m---------------------------------------------------------------------------\u001b[0m",
      "\u001b[0;31mKeyboardInterrupt\u001b[0m                         Traceback (most recent call last)",
      "\u001b[0;32m/tmp/ipykernel_1338/214577653.py\u001b[0m in \u001b[0;36m<module>\u001b[0;34m\u001b[0m\n\u001b[1;32m     13\u001b[0m \u001b[0mtest_knn_start\u001b[0m \u001b[0;34m=\u001b[0m \u001b[0mtime\u001b[0m\u001b[0;34m.\u001b[0m\u001b[0mtime\u001b[0m\u001b[0;34m(\u001b[0m\u001b[0;34m)\u001b[0m\u001b[0;34m\u001b[0m\u001b[0;34m\u001b[0m\u001b[0m\n\u001b[1;32m     14\u001b[0m \u001b[0;34m\u001b[0m\u001b[0m\n\u001b[0;32m---> 15\u001b[0;31m \u001b[0mY_pred_knn\u001b[0m \u001b[0;34m=\u001b[0m \u001b[0mknn\u001b[0m\u001b[0;34m.\u001b[0m\u001b[0mpredict\u001b[0m\u001b[0;34m(\u001b[0m\u001b[0mX_test\u001b[0m\u001b[0;34m)\u001b[0m\u001b[0;34m\u001b[0m\u001b[0;34m\u001b[0m\u001b[0m\n\u001b[0m\u001b[1;32m     16\u001b[0m \u001b[0;34m\u001b[0m\u001b[0m\n\u001b[1;32m     17\u001b[0m \u001b[0mtest_knn_end\u001b[0m \u001b[0;34m=\u001b[0m \u001b[0mtime\u001b[0m\u001b[0;34m.\u001b[0m\u001b[0mtime\u001b[0m\u001b[0;34m(\u001b[0m\u001b[0;34m)\u001b[0m\u001b[0;34m\u001b[0m\u001b[0;34m\u001b[0m\u001b[0m\n",
      "\u001b[0;32m~/.local/lib/python3.7/site-packages/sklearn/neighbors/_classification.py\u001b[0m in \u001b[0;36mpredict\u001b[0;34m(self, X)\u001b[0m\n\u001b[1;32m    212\u001b[0m             \u001b[0mClass\u001b[0m \u001b[0mlabels\u001b[0m \u001b[0;32mfor\u001b[0m \u001b[0meach\u001b[0m \u001b[0mdata\u001b[0m \u001b[0msample\u001b[0m\u001b[0;34m.\u001b[0m\u001b[0;34m\u001b[0m\u001b[0;34m\u001b[0m\u001b[0m\n\u001b[1;32m    213\u001b[0m         \"\"\"\n\u001b[0;32m--> 214\u001b[0;31m         \u001b[0mneigh_dist\u001b[0m\u001b[0;34m,\u001b[0m \u001b[0mneigh_ind\u001b[0m \u001b[0;34m=\u001b[0m \u001b[0mself\u001b[0m\u001b[0;34m.\u001b[0m\u001b[0mkneighbors\u001b[0m\u001b[0;34m(\u001b[0m\u001b[0mX\u001b[0m\u001b[0;34m)\u001b[0m\u001b[0;34m\u001b[0m\u001b[0;34m\u001b[0m\u001b[0m\n\u001b[0m\u001b[1;32m    215\u001b[0m         \u001b[0mclasses_\u001b[0m \u001b[0;34m=\u001b[0m \u001b[0mself\u001b[0m\u001b[0;34m.\u001b[0m\u001b[0mclasses_\u001b[0m\u001b[0;34m\u001b[0m\u001b[0;34m\u001b[0m\u001b[0m\n\u001b[1;32m    216\u001b[0m         \u001b[0m_y\u001b[0m \u001b[0;34m=\u001b[0m \u001b[0mself\u001b[0m\u001b[0;34m.\u001b[0m\u001b[0m_y\u001b[0m\u001b[0;34m\u001b[0m\u001b[0;34m\u001b[0m\u001b[0m\n",
      "\u001b[0;32m~/.local/lib/python3.7/site-packages/sklearn/neighbors/_base.py\u001b[0m in \u001b[0;36mkneighbors\u001b[0;34m(self, X, n_neighbors, return_distance)\u001b[0m\n\u001b[1;32m    757\u001b[0m                     \u001b[0mmetric\u001b[0m\u001b[0;34m=\u001b[0m\u001b[0mself\u001b[0m\u001b[0;34m.\u001b[0m\u001b[0meffective_metric_\u001b[0m\u001b[0;34m,\u001b[0m\u001b[0;34m\u001b[0m\u001b[0;34m\u001b[0m\u001b[0m\n\u001b[1;32m    758\u001b[0m                     \u001b[0mn_jobs\u001b[0m\u001b[0;34m=\u001b[0m\u001b[0mn_jobs\u001b[0m\u001b[0;34m,\u001b[0m\u001b[0;34m\u001b[0m\u001b[0;34m\u001b[0m\u001b[0m\n\u001b[0;32m--> 759\u001b[0;31m                     \u001b[0;34m**\u001b[0m\u001b[0mkwds\u001b[0m\u001b[0;34m,\u001b[0m\u001b[0;34m\u001b[0m\u001b[0;34m\u001b[0m\u001b[0m\n\u001b[0m\u001b[1;32m    760\u001b[0m                 )\n\u001b[1;32m    761\u001b[0m             )\n",
      "\u001b[0;32m~/.local/lib/python3.7/site-packages/sklearn/metrics/pairwise.py\u001b[0m in \u001b[0;36mpairwise_distances_chunked\u001b[0;34m(X, Y, reduce_func, metric, n_jobs, working_memory, **kwds)\u001b[0m\n\u001b[1;32m   1715\u001b[0m         \u001b[0;32melse\u001b[0m\u001b[0;34m:\u001b[0m\u001b[0;34m\u001b[0m\u001b[0;34m\u001b[0m\u001b[0m\n\u001b[1;32m   1716\u001b[0m             \u001b[0mX_chunk\u001b[0m \u001b[0;34m=\u001b[0m \u001b[0mX\u001b[0m\u001b[0;34m[\u001b[0m\u001b[0msl\u001b[0m\u001b[0;34m]\u001b[0m\u001b[0;34m\u001b[0m\u001b[0;34m\u001b[0m\u001b[0m\n\u001b[0;32m-> 1717\u001b[0;31m         \u001b[0mD_chunk\u001b[0m \u001b[0;34m=\u001b[0m \u001b[0mpairwise_distances\u001b[0m\u001b[0;34m(\u001b[0m\u001b[0mX_chunk\u001b[0m\u001b[0;34m,\u001b[0m \u001b[0mY\u001b[0m\u001b[0;34m,\u001b[0m \u001b[0mmetric\u001b[0m\u001b[0;34m=\u001b[0m\u001b[0mmetric\u001b[0m\u001b[0;34m,\u001b[0m \u001b[0mn_jobs\u001b[0m\u001b[0;34m=\u001b[0m\u001b[0mn_jobs\u001b[0m\u001b[0;34m,\u001b[0m \u001b[0;34m**\u001b[0m\u001b[0mkwds\u001b[0m\u001b[0;34m)\u001b[0m\u001b[0;34m\u001b[0m\u001b[0;34m\u001b[0m\u001b[0m\n\u001b[0m\u001b[1;32m   1718\u001b[0m         if (X is Y or Y is None) and PAIRWISE_DISTANCE_FUNCTIONS.get(\n\u001b[1;32m   1719\u001b[0m             \u001b[0mmetric\u001b[0m\u001b[0;34m,\u001b[0m \u001b[0;32mNone\u001b[0m\u001b[0;34m\u001b[0m\u001b[0;34m\u001b[0m\u001b[0m\n",
      "\u001b[0;32m~/.local/lib/python3.7/site-packages/sklearn/metrics/pairwise.py\u001b[0m in \u001b[0;36mpairwise_distances\u001b[0;34m(X, Y, metric, n_jobs, force_all_finite, **kwds)\u001b[0m\n\u001b[1;32m   1887\u001b[0m         \u001b[0mfunc\u001b[0m \u001b[0;34m=\u001b[0m \u001b[0mpartial\u001b[0m\u001b[0;34m(\u001b[0m\u001b[0mdistance\u001b[0m\u001b[0;34m.\u001b[0m\u001b[0mcdist\u001b[0m\u001b[0;34m,\u001b[0m \u001b[0mmetric\u001b[0m\u001b[0;34m=\u001b[0m\u001b[0mmetric\u001b[0m\u001b[0;34m,\u001b[0m \u001b[0;34m**\u001b[0m\u001b[0mkwds\u001b[0m\u001b[0;34m)\u001b[0m\u001b[0;34m\u001b[0m\u001b[0;34m\u001b[0m\u001b[0m\n\u001b[1;32m   1888\u001b[0m \u001b[0;34m\u001b[0m\u001b[0m\n\u001b[0;32m-> 1889\u001b[0;31m     \u001b[0;32mreturn\u001b[0m \u001b[0m_parallel_pairwise\u001b[0m\u001b[0;34m(\u001b[0m\u001b[0mX\u001b[0m\u001b[0;34m,\u001b[0m \u001b[0mY\u001b[0m\u001b[0;34m,\u001b[0m \u001b[0mfunc\u001b[0m\u001b[0;34m,\u001b[0m \u001b[0mn_jobs\u001b[0m\u001b[0;34m,\u001b[0m \u001b[0;34m**\u001b[0m\u001b[0mkwds\u001b[0m\u001b[0;34m)\u001b[0m\u001b[0;34m\u001b[0m\u001b[0;34m\u001b[0m\u001b[0m\n\u001b[0m\u001b[1;32m   1890\u001b[0m \u001b[0;34m\u001b[0m\u001b[0m\n\u001b[1;32m   1891\u001b[0m \u001b[0;34m\u001b[0m\u001b[0m\n",
      "\u001b[0;32m~/.local/lib/python3.7/site-packages/sklearn/metrics/pairwise.py\u001b[0m in \u001b[0;36m_parallel_pairwise\u001b[0;34m(X, Y, func, n_jobs, **kwds)\u001b[0m\n\u001b[1;32m   1428\u001b[0m \u001b[0;34m\u001b[0m\u001b[0m\n\u001b[1;32m   1429\u001b[0m     \u001b[0;32mif\u001b[0m \u001b[0meffective_n_jobs\u001b[0m\u001b[0;34m(\u001b[0m\u001b[0mn_jobs\u001b[0m\u001b[0;34m)\u001b[0m \u001b[0;34m==\u001b[0m \u001b[0;36m1\u001b[0m\u001b[0;34m:\u001b[0m\u001b[0;34m\u001b[0m\u001b[0;34m\u001b[0m\u001b[0m\n\u001b[0;32m-> 1430\u001b[0;31m         \u001b[0;32mreturn\u001b[0m \u001b[0mfunc\u001b[0m\u001b[0;34m(\u001b[0m\u001b[0mX\u001b[0m\u001b[0;34m,\u001b[0m \u001b[0mY\u001b[0m\u001b[0;34m,\u001b[0m \u001b[0;34m**\u001b[0m\u001b[0mkwds\u001b[0m\u001b[0;34m)\u001b[0m\u001b[0;34m\u001b[0m\u001b[0;34m\u001b[0m\u001b[0m\n\u001b[0m\u001b[1;32m   1431\u001b[0m \u001b[0;34m\u001b[0m\u001b[0m\n\u001b[1;32m   1432\u001b[0m     \u001b[0;31m# enforce a threading backend to prevent data communication overhead\u001b[0m\u001b[0;34m\u001b[0m\u001b[0;34m\u001b[0m\u001b[0;34m\u001b[0m\u001b[0m\n",
      "\u001b[0;32m~/.local/lib/python3.7/site-packages/sklearn/metrics/pairwise.py\u001b[0m in \u001b[0;36meuclidean_distances\u001b[0;34m(X, Y, Y_norm_squared, squared, X_norm_squared)\u001b[0m\n\u001b[1;32m    328\u001b[0m             )\n\u001b[1;32m    329\u001b[0m \u001b[0;34m\u001b[0m\u001b[0m\n\u001b[0;32m--> 330\u001b[0;31m     \u001b[0;32mreturn\u001b[0m \u001b[0m_euclidean_distances\u001b[0m\u001b[0;34m(\u001b[0m\u001b[0mX\u001b[0m\u001b[0;34m,\u001b[0m \u001b[0mY\u001b[0m\u001b[0;34m,\u001b[0m \u001b[0mX_norm_squared\u001b[0m\u001b[0;34m,\u001b[0m \u001b[0mY_norm_squared\u001b[0m\u001b[0;34m,\u001b[0m \u001b[0msquared\u001b[0m\u001b[0;34m)\u001b[0m\u001b[0;34m\u001b[0m\u001b[0;34m\u001b[0m\u001b[0m\n\u001b[0m\u001b[1;32m    331\u001b[0m \u001b[0;34m\u001b[0m\u001b[0m\n\u001b[1;32m    332\u001b[0m \u001b[0;34m\u001b[0m\u001b[0m\n",
      "\u001b[0;32m~/.local/lib/python3.7/site-packages/sklearn/metrics/pairwise.py\u001b[0m in \u001b[0;36m_euclidean_distances\u001b[0;34m(X, Y, X_norm_squared, Y_norm_squared, squared)\u001b[0m\n\u001b[1;32m    370\u001b[0m         \u001b[0;31m# if dtype is already float64, no need to chunk and upcast\u001b[0m\u001b[0;34m\u001b[0m\u001b[0;34m\u001b[0m\u001b[0;34m\u001b[0m\u001b[0m\n\u001b[1;32m    371\u001b[0m         \u001b[0mdistances\u001b[0m \u001b[0;34m=\u001b[0m \u001b[0;34m-\u001b[0m\u001b[0;36m2\u001b[0m \u001b[0;34m*\u001b[0m \u001b[0msafe_sparse_dot\u001b[0m\u001b[0;34m(\u001b[0m\u001b[0mX\u001b[0m\u001b[0;34m,\u001b[0m \u001b[0mY\u001b[0m\u001b[0;34m.\u001b[0m\u001b[0mT\u001b[0m\u001b[0;34m,\u001b[0m \u001b[0mdense_output\u001b[0m\u001b[0;34m=\u001b[0m\u001b[0;32mTrue\u001b[0m\u001b[0;34m)\u001b[0m\u001b[0;34m\u001b[0m\u001b[0;34m\u001b[0m\u001b[0m\n\u001b[0;32m--> 372\u001b[0;31m         \u001b[0mdistances\u001b[0m \u001b[0;34m+=\u001b[0m \u001b[0mXX\u001b[0m\u001b[0;34m\u001b[0m\u001b[0;34m\u001b[0m\u001b[0m\n\u001b[0m\u001b[1;32m    373\u001b[0m         \u001b[0mdistances\u001b[0m \u001b[0;34m+=\u001b[0m \u001b[0mYY\u001b[0m\u001b[0;34m\u001b[0m\u001b[0;34m\u001b[0m\u001b[0m\n\u001b[1;32m    374\u001b[0m     \u001b[0mnp\u001b[0m\u001b[0;34m.\u001b[0m\u001b[0mmaximum\u001b[0m\u001b[0;34m(\u001b[0m\u001b[0mdistances\u001b[0m\u001b[0;34m,\u001b[0m \u001b[0;36m0\u001b[0m\u001b[0;34m,\u001b[0m \u001b[0mout\u001b[0m\u001b[0;34m=\u001b[0m\u001b[0mdistances\u001b[0m\u001b[0;34m)\u001b[0m\u001b[0;34m\u001b[0m\u001b[0;34m\u001b[0m\u001b[0m\n",
      "\u001b[0;31mKeyboardInterrupt\u001b[0m: "
     ]
    }
   ],
   "source": [
    "# Model\n",
    "knn = KNeighborsClassifier(n_neighbors = 50)\n",
    "\n",
    "# Train\n",
    "train_knn_start = time.time()\n",
    "\n",
    "knn.fit(X_train, Y_train)\n",
    "\n",
    "train_knn_end = time.time()\n",
    "train_knn_time = train_knn_end - train_knn_start\n",
    "\n",
    "# Test\n",
    "test_knn_start = time.time()\n",
    "\n",
    "Y_pred_knn = knn.predict(X_test)\n",
    "\n",
    "test_knn_end = time.time()\n",
    "test_knn_time = test_knn_end - test_knn_start\n",
    "\n",
    "# Metrics\n",
    "acc_knn = accuracy_score(Y_test, Y_pred_knn) \n",
    "f1_knn = f1_score(Y_test, Y_pred_knn, average = 'weighted')\n",
    "pre_knn = precision_score(Y_test, Y_pred_knn, labels = None, pos_label = 1, average = 'weighted')\n",
    "recall_knn = recall_score(Y_test, Y_pred_knn, labels = None, pos_label = 1, average = 'weighted', sample_weight = None)\n",
    "\n",
    "print()\n",
    "print(\" ==== KNN \" + str(number_features) + \" features ====\")\n",
    "print(\"Training time:\" + str(train_knn_time))\n",
    "print(\"Testing time:\" + str(test_knn_time))\n",
    "print(\"Accuracy:\" + str(acc_knn))\n",
    "print(\"F1-score:\" + str(f1_knn))\n",
    "print(\"Precision:\" + str(pre_knn))\n",
    "print(\"Recall:\" + str(recall_knn))\n",
    "print(classification_report(Y_test,Y_pred_knn, target_names = labels))"
   ]
  }
 ],
 "metadata": {
  "kernelspec": {
   "display_name": "Python 3 (ipykernel)",
   "language": "python",
   "name": "python3"
  },
  "language_info": {
   "codemirror_mode": {
    "name": "ipython",
    "version": 3
   },
   "file_extension": ".py",
   "mimetype": "text/x-python",
   "name": "python",
   "nbconvert_exporter": "python",
   "pygments_lexer": "ipython3",
   "version": "3.7.5"
  }
 },
 "nbformat": 4,
 "nbformat_minor": 5
}
