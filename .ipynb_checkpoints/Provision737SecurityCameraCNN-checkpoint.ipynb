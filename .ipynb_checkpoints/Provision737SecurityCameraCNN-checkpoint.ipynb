{
 "cells": [
  {
   "cell_type": "code",
   "execution_count": 1,
   "id": "dbbbffa7",
   "metadata": {},
   "outputs": [
    {
     "name": "stdout",
     "output_type": "stream",
     "text": [
      "Defaulting to user installation because normal site-packages is not writeable\n",
      "Requirement already satisfied: pandas in /home/andressa.amaral/.local/lib/python3.7/site-packages (1.3.5)\n",
      "Requirement already satisfied: numpy>=1.17.3 in /home/andressa.amaral/.local/lib/python3.7/site-packages (from pandas) (1.21.5)\n",
      "Requirement already satisfied: pytz>=2017.3 in /home/andressa.amaral/.local/lib/python3.7/site-packages (from pandas) (2022.1)\n",
      "Requirement already satisfied: python-dateutil>=2.7.3 in /home/andressa.amaral/.local/lib/python3.7/site-packages (from pandas) (2.8.2)\n",
      "Requirement already satisfied: six>=1.5 in /home/andressa.amaral/.local/lib/python3.7/site-packages (from python-dateutil>=2.7.3->pandas) (1.16.0)\n",
      "Defaulting to user installation because normal site-packages is not writeable\n",
      "Requirement already satisfied: seaborn in /home/andressa.amaral/.local/lib/python3.7/site-packages (0.11.2)\n",
      "Requirement already satisfied: numpy>=1.15 in /home/andressa.amaral/.local/lib/python3.7/site-packages (from seaborn) (1.21.5)\n",
      "Requirement already satisfied: scipy>=1.0 in /home/andressa.amaral/.local/lib/python3.7/site-packages (from seaborn) (1.7.3)\n",
      "Requirement already satisfied: pandas>=0.23 in /home/andressa.amaral/.local/lib/python3.7/site-packages (from seaborn) (1.3.5)\n",
      "Requirement already satisfied: matplotlib>=2.2 in /home/andressa.amaral/.local/lib/python3.7/site-packages (from seaborn) (3.5.1)\n",
      "Requirement already satisfied: packaging>=20.0 in /home/andressa.amaral/.local/lib/python3.7/site-packages (from matplotlib>=2.2->seaborn) (21.3)\n",
      "Requirement already satisfied: pyparsing>=2.2.1 in /home/andressa.amaral/.local/lib/python3.7/site-packages (from matplotlib>=2.2->seaborn) (3.0.7)\n",
      "Requirement already satisfied: pillow>=6.2.0 in /home/andressa.amaral/.local/lib/python3.7/site-packages (from matplotlib>=2.2->seaborn) (9.0.1)\n",
      "Requirement already satisfied: kiwisolver>=1.0.1 in /home/andressa.amaral/.local/lib/python3.7/site-packages (from matplotlib>=2.2->seaborn) (1.4.0)\n",
      "Requirement already satisfied: fonttools>=4.22.0 in /home/andressa.amaral/.local/lib/python3.7/site-packages (from matplotlib>=2.2->seaborn) (4.31.1)\n",
      "Requirement already satisfied: cycler>=0.10 in /home/andressa.amaral/.local/lib/python3.7/site-packages (from matplotlib>=2.2->seaborn) (0.11.0)\n",
      "Requirement already satisfied: python-dateutil>=2.7 in /home/andressa.amaral/.local/lib/python3.7/site-packages (from matplotlib>=2.2->seaborn) (2.8.2)\n",
      "Requirement already satisfied: pytz>=2017.3 in /home/andressa.amaral/.local/lib/python3.7/site-packages (from pandas>=0.23->seaborn) (2022.1)\n",
      "Requirement already satisfied: typing-extensions in /home/andressa.amaral/.local/lib/python3.7/site-packages (from kiwisolver>=1.0.1->matplotlib>=2.2->seaborn) (4.1.1)\n",
      "Requirement already satisfied: six>=1.5 in /home/andressa.amaral/.local/lib/python3.7/site-packages (from python-dateutil>=2.7->matplotlib>=2.2->seaborn) (1.16.0)\n",
      "Defaulting to user installation because normal site-packages is not writeable\n",
      "Requirement already satisfied: tensorflow-gpu in /home/andressa.amaral/.local/lib/python3.7/site-packages (2.8.0)\n",
      "Requirement already satisfied: tensorboard<2.9,>=2.8 in /home/andressa.amaral/.local/lib/python3.7/site-packages (from tensorflow-gpu) (2.8.0)\n",
      "Requirement already satisfied: termcolor>=1.1.0 in /home/andressa.amaral/.local/lib/python3.7/site-packages (from tensorflow-gpu) (1.1.0)\n",
      "Requirement already satisfied: protobuf>=3.9.2 in /home/andressa.amaral/.local/lib/python3.7/site-packages (from tensorflow-gpu) (3.19.4)\n",
      "Requirement already satisfied: six>=1.12.0 in /home/andressa.amaral/.local/lib/python3.7/site-packages (from tensorflow-gpu) (1.16.0)\n",
      "Requirement already satisfied: astunparse>=1.6.0 in /home/andressa.amaral/.local/lib/python3.7/site-packages (from tensorflow-gpu) (1.6.3)\n",
      "Requirement already satisfied: setuptools in /home/andressa.amaral/.local/lib/python3.7/site-packages (from tensorflow-gpu) (60.10.0)\n",
      "Requirement already satisfied: tf-estimator-nightly==2.8.0.dev2021122109 in /home/andressa.amaral/.local/lib/python3.7/site-packages (from tensorflow-gpu) (2.8.0.dev2021122109)\n",
      "Requirement already satisfied: absl-py>=0.4.0 in /home/andressa.amaral/.local/lib/python3.7/site-packages (from tensorflow-gpu) (1.0.0)\n",
      "Requirement already satisfied: tensorflow-io-gcs-filesystem>=0.23.1 in /home/andressa.amaral/.local/lib/python3.7/site-packages (from tensorflow-gpu) (0.24.0)\n",
      "Requirement already satisfied: typing-extensions>=3.6.6 in /home/andressa.amaral/.local/lib/python3.7/site-packages (from tensorflow-gpu) (4.1.1)\n",
      "Requirement already satisfied: libclang>=9.0.1 in /home/andressa.amaral/.local/lib/python3.7/site-packages (from tensorflow-gpu) (13.0.0)\n",
      "Requirement already satisfied: opt-einsum>=2.3.2 in /home/andressa.amaral/.local/lib/python3.7/site-packages (from tensorflow-gpu) (3.3.0)\n",
      "Requirement already satisfied: grpcio<2.0,>=1.24.3 in /home/andressa.amaral/.local/lib/python3.7/site-packages (from tensorflow-gpu) (1.44.0)\n",
      "Requirement already satisfied: wrapt>=1.11.0 in /home/andressa.amaral/.local/lib/python3.7/site-packages (from tensorflow-gpu) (1.14.0)\n",
      "Requirement already satisfied: keras<2.9,>=2.8.0rc0 in /home/andressa.amaral/.local/lib/python3.7/site-packages (from tensorflow-gpu) (2.8.0)\n",
      "Requirement already satisfied: google-pasta>=0.1.1 in /home/andressa.amaral/.local/lib/python3.7/site-packages (from tensorflow-gpu) (0.2.0)\n",
      "Requirement already satisfied: numpy>=1.20 in /home/andressa.amaral/.local/lib/python3.7/site-packages (from tensorflow-gpu) (1.21.5)\n",
      "Requirement already satisfied: keras-preprocessing>=1.1.1 in /home/andressa.amaral/.local/lib/python3.7/site-packages (from tensorflow-gpu) (1.1.2)\n",
      "Requirement already satisfied: flatbuffers>=1.12 in /home/andressa.amaral/.local/lib/python3.7/site-packages (from tensorflow-gpu) (2.0)\n",
      "Requirement already satisfied: h5py>=2.9.0 in /home/andressa.amaral/.local/lib/python3.7/site-packages (from tensorflow-gpu) (3.6.0)\n",
      "Requirement already satisfied: gast>=0.2.1 in /home/andressa.amaral/.local/lib/python3.7/site-packages (from tensorflow-gpu) (0.5.3)\n",
      "Requirement already satisfied: wheel<1.0,>=0.23.0 in /usr/lib/python3/dist-packages (from astunparse>=1.6.0->tensorflow-gpu) (0.30.0)\n",
      "Requirement already satisfied: cached-property in /home/andressa.amaral/.local/lib/python3.7/site-packages (from h5py>=2.9.0->tensorflow-gpu) (1.5.2)\n",
      "Requirement already satisfied: requests<3,>=2.21.0 in /home/andressa.amaral/.local/lib/python3.7/site-packages (from tensorboard<2.9,>=2.8->tensorflow-gpu) (2.27.1)\n",
      "Requirement already satisfied: werkzeug>=0.11.15 in /home/andressa.amaral/.local/lib/python3.7/site-packages (from tensorboard<2.9,>=2.8->tensorflow-gpu) (2.0.3)\n",
      "Requirement already satisfied: tensorboard-data-server<0.7.0,>=0.6.0 in /home/andressa.amaral/.local/lib/python3.7/site-packages (from tensorboard<2.9,>=2.8->tensorflow-gpu) (0.6.1)\n",
      "Requirement already satisfied: tensorboard-plugin-wit>=1.6.0 in /home/andressa.amaral/.local/lib/python3.7/site-packages (from tensorboard<2.9,>=2.8->tensorflow-gpu) (1.8.1)\n",
      "Requirement already satisfied: google-auth<3,>=1.6.3 in /home/andressa.amaral/.local/lib/python3.7/site-packages (from tensorboard<2.9,>=2.8->tensorflow-gpu) (2.6.2)\n",
      "Requirement already satisfied: markdown>=2.6.8 in /home/andressa.amaral/.local/lib/python3.7/site-packages (from tensorboard<2.9,>=2.8->tensorflow-gpu) (3.3.6)\n",
      "Requirement already satisfied: google-auth-oauthlib<0.5,>=0.4.1 in /home/andressa.amaral/.local/lib/python3.7/site-packages (from tensorboard<2.9,>=2.8->tensorflow-gpu) (0.4.6)\n",
      "Requirement already satisfied: pyasn1-modules>=0.2.1 in /home/andressa.amaral/.local/lib/python3.7/site-packages (from google-auth<3,>=1.6.3->tensorboard<2.9,>=2.8->tensorflow-gpu) (0.2.8)\n",
      "Requirement already satisfied: rsa<5,>=3.1.4 in /home/andressa.amaral/.local/lib/python3.7/site-packages (from google-auth<3,>=1.6.3->tensorboard<2.9,>=2.8->tensorflow-gpu) (4.8)\n",
      "Requirement already satisfied: cachetools<6.0,>=2.0.0 in /home/andressa.amaral/.local/lib/python3.7/site-packages (from google-auth<3,>=1.6.3->tensorboard<2.9,>=2.8->tensorflow-gpu) (5.0.0)\n",
      "Requirement already satisfied: requests-oauthlib>=0.7.0 in /home/andressa.amaral/.local/lib/python3.7/site-packages (from google-auth-oauthlib<0.5,>=0.4.1->tensorboard<2.9,>=2.8->tensorflow-gpu) (1.3.1)\n",
      "Requirement already satisfied: importlib-metadata>=4.4 in /home/andressa.amaral/.local/lib/python3.7/site-packages (from markdown>=2.6.8->tensorboard<2.9,>=2.8->tensorflow-gpu) (4.11.3)\n"
     ]
    },
    {
     "name": "stdout",
     "output_type": "stream",
     "text": [
      "Requirement already satisfied: charset-normalizer~=2.0.0 in /home/andressa.amaral/.local/lib/python3.7/site-packages (from requests<3,>=2.21.0->tensorboard<2.9,>=2.8->tensorflow-gpu) (2.0.12)\r\n",
      "Requirement already satisfied: certifi>=2017.4.17 in /usr/lib/python3/dist-packages (from requests<3,>=2.21.0->tensorboard<2.9,>=2.8->tensorflow-gpu) (2018.1.18)\r\n",
      "Requirement already satisfied: urllib3<1.27,>=1.21.1 in /usr/lib/python3/dist-packages (from requests<3,>=2.21.0->tensorboard<2.9,>=2.8->tensorflow-gpu) (1.22)\r\n",
      "Requirement already satisfied: idna<4,>=2.5 in /usr/lib/python3/dist-packages (from requests<3,>=2.21.0->tensorboard<2.9,>=2.8->tensorflow-gpu) (2.6)\r\n",
      "Requirement already satisfied: zipp>=0.5 in /home/andressa.amaral/.local/lib/python3.7/site-packages (from importlib-metadata>=4.4->markdown>=2.6.8->tensorboard<2.9,>=2.8->tensorflow-gpu) (3.7.0)\r\n",
      "Requirement already satisfied: pyasn1<0.5.0,>=0.4.6 in /home/andressa.amaral/.local/lib/python3.7/site-packages (from pyasn1-modules>=0.2.1->google-auth<3,>=1.6.3->tensorboard<2.9,>=2.8->tensorflow-gpu) (0.4.8)\r\n",
      "Requirement already satisfied: oauthlib>=3.0.0 in /home/andressa.amaral/.local/lib/python3.7/site-packages (from requests-oauthlib>=0.7.0->google-auth-oauthlib<0.5,>=0.4.1->tensorboard<2.9,>=2.8->tensorflow-gpu) (3.2.0)\r\n"
     ]
    },
    {
     "name": "stderr",
     "output_type": "stream",
     "text": [
      "2022-05-05 17:06:32.333992: W tensorflow/stream_executor/platform/default/dso_loader.cc:64] Could not load dynamic library 'libcudart.so.11.0'; dlerror: libcudart.so.11.0: cannot open shared object file: No such file or directory\n",
      "2022-05-05 17:06:32.334016: I tensorflow/stream_executor/cuda/cudart_stub.cc:29] Ignore above cudart dlerror if you do not have a GPU set up on your machine.\n"
     ]
    }
   ],
   "source": [
    "!pip3 install pandas\n",
    "!pip3 install seaborn\n",
    "!pip3 install --upgrade tensorflow-gpu\n",
    "\n",
    "from datetime import datetime\n",
    "import matplotlib.pyplot as plt\n",
    "import seaborn as sns\n",
    "import numpy as np\n",
    "import pandas as pd\n",
    "import math\n",
    "import pickle\n",
    "import time\n",
    "import sys\n",
    "\n",
    "import tensorflow as tf\n",
    "tf.compat.v1.disable_eager_execution()\n",
    "from tensorflow.keras import models, layers\n",
    "from tensorflow.keras.layers import Lambda, Input, Dense, Dropout, Conv1D, MaxPooling1D, Flatten, GlobalAveragePooling1D, BatchNormalization\n",
    "from tensorflow.keras.losses import mse\n",
    "from tensorflow.keras import optimizers\n",
    "from tensorflow.keras import backend as K\n",
    "from tensorflow.keras.callbacks import LearningRateScheduler, ModelCheckpoint, ReduceLROnPlateau\n",
    "from tensorflow.keras import initializers\n",
    "from tensorflow.keras import regularizers\n",
    "\n",
    "from sklearn.model_selection import train_test_split\n",
    "from sklearn.pipeline import Pipeline\n",
    "from sklearn.preprocessing import MinMaxScaler\n",
    "from sklearn.decomposition import PCA\n",
    "from sklearn.metrics import classification_report, mean_squared_error, confusion_matrix, accuracy_score, f1_score, precision_score, recall_score\n",
    "from sklearn.neighbors import KNeighborsClassifier\n",
    "from sklearn.naive_bayes import GaussianNB\n",
    "\n",
    "%matplotlib inline"
   ]
  },
  {
   "cell_type": "code",
   "execution_count": 2,
   "id": "58caf092",
   "metadata": {},
   "outputs": [
    {
     "name": "stderr",
     "output_type": "stream",
     "text": [
      "2022-05-05 17:06:33.420357: I tensorflow/core/platform/cpu_feature_guard.cc:151] This TensorFlow binary is optimized with oneAPI Deep Neural Network Library (oneDNN) to use the following CPU instructions in performance-critical operations:  AVX2 AVX512F FMA\n",
      "To enable them in other operations, rebuild TensorFlow with the appropriate compiler flags.\n",
      "2022-05-05 17:06:33.456429: W tensorflow/stream_executor/platform/default/dso_loader.cc:64] Could not load dynamic library 'libcudart.so.11.0'; dlerror: libcudart.so.11.0: cannot open shared object file: No such file or directory\n",
      "2022-05-05 17:06:33.456540: W tensorflow/stream_executor/platform/default/dso_loader.cc:64] Could not load dynamic library 'libcublas.so.11'; dlerror: libcublas.so.11: cannot open shared object file: No such file or directory\n",
      "2022-05-05 17:06:33.456619: W tensorflow/stream_executor/platform/default/dso_loader.cc:64] Could not load dynamic library 'libcublasLt.so.11'; dlerror: libcublasLt.so.11: cannot open shared object file: No such file or directory\n",
      "2022-05-05 17:06:33.459275: W tensorflow/stream_executor/platform/default/dso_loader.cc:64] Could not load dynamic library 'libcusolver.so.11'; dlerror: libcusolver.so.11: cannot open shared object file: No such file or directory\n",
      "2022-05-05 17:06:33.459391: W tensorflow/stream_executor/platform/default/dso_loader.cc:64] Could not load dynamic library 'libcusparse.so.11'; dlerror: libcusparse.so.11: cannot open shared object file: No such file or directory\n",
      "2022-05-05 17:06:33.459491: W tensorflow/stream_executor/platform/default/dso_loader.cc:64] Could not load dynamic library 'libcudnn.so.8'; dlerror: libcudnn.so.8: cannot open shared object file: No such file or directory\n",
      "2022-05-05 17:06:33.459504: W tensorflow/core/common_runtime/gpu/gpu_device.cc:1850] Cannot dlopen some GPU libraries. Please make sure the missing libraries mentioned above are installed properly if you would like to use GPU. Follow the guide at https://www.tensorflow.org/install/gpu for how to download and setup the required libraries for your platform.\n",
      "Skipping registering GPU devices...\n"
     ]
    }
   ],
   "source": [
    "gpu_options = tf.compat.v1.GPUOptions(per_process_gpu_memory_fraction = 0.333)\n",
    "sess = tf.compat.v1.Session(config = tf.compat.v1.ConfigProto(gpu_options = gpu_options))"
   ]
  },
  {
   "cell_type": "markdown",
   "id": "29b395c4",
   "metadata": {},
   "source": [
    "# P737 Security Camera Data Pre-Processing"
   ]
  },
  {
   "cell_type": "code",
   "execution_count": 3,
   "id": "c37bb079",
   "metadata": {},
   "outputs": [],
   "source": [
    "# Benign traffic\n",
    "\n",
    "p7_benign = pd.read_csv('nbaiot/Provision_PT_737E_Security_Camera/benign_traffic.csv', encoding = \"utf-8\", sep = ',' ) \n",
    "df_p7_benign = p7_benign.copy(deep=True)\n",
    "\n",
    "columns = list(df_p7_benign.columns)\n",
    "chosen_columns = []\n",
    "for column in columns:\n",
    "    if column.find('L5') != -1:\n",
    "        chosen_columns.append(column)\n",
    "\n",
    "df_p7_benign = pd.DataFrame(df_p7_benign, columns = chosen_columns)\n",
    "\n",
    "# Mirai\n",
    "\n",
    "p7_mirai_ack = pd.read_csv('nbaiot/Provision_PT_737E_Security_Camera/mirai/ack.csv', encoding = \"utf-8\", sep = ',' ) \n",
    "df_p7_mirai_ack = p7_mirai_ack.copy(deep=True)\n",
    "df_p7_mirai_ack = pd.DataFrame(df_p7_mirai_ack, columns = chosen_columns)\n",
    "df_p7_mirai_ack = df_p7_mirai_ack.sample(frac=1)\n",
    "\n",
    "p7_mirai_scan = pd.read_csv('nbaiot/Provision_PT_737E_Security_Camera/mirai/scan.csv', encoding = \"utf-8\", sep = ',' ) \n",
    "df_p7_mirai_scan = p7_mirai_scan.copy(deep=True)\n",
    "df_p7_mirai_scan = pd.DataFrame(df_p7_mirai_scan, columns = chosen_columns)\n",
    "df_p7_mirai_scan = df_p7_mirai_scan.sample(frac=1)\n",
    "\n",
    "p7_mirai_syn = pd.read_csv('nbaiot/Provision_PT_737E_Security_Camera/mirai/syn.csv', encoding = \"utf-8\", sep = ',' ) \n",
    "df_p7_mirai_syn = p7_mirai_syn.copy(deep=True)\n",
    "df_p7_mirai_syn = pd.DataFrame(df_p7_mirai_syn, columns = chosen_columns)\n",
    "df_p7_mirai_syn = df_p7_mirai_syn.sample(frac=1)\n",
    "\n",
    "p7_mirai_udp = pd.read_csv('nbaiot/Provision_PT_737E_Security_Camera/mirai/udp.csv', encoding = \"utf-8\", sep = ',' ) \n",
    "df_p7_mirai_udp = p7_mirai_udp.copy(deep=True)\n",
    "df_p7_mirai_udp = pd.DataFrame(df_p7_mirai_udp, columns = chosen_columns)\n",
    "df_p7_mirai_udp = df_p7_mirai_udp.sample(frac=1)\n",
    "\n",
    "p7_mirai_udpplain = pd.read_csv('nbaiot/Provision_PT_737E_Security_Camera/mirai/udpplain.csv', encoding = \"utf-8\", sep = ',' ) \n",
    "df_p7_mirai_udpplain = p7_mirai_udpplain.copy(deep=True)\n",
    "df_p7_mirai_udpplain = pd.DataFrame(df_p7_mirai_udpplain, columns = chosen_columns)\n",
    "df_p7_mirai_udpplain = df_p7_mirai_udpplain.sample(frac=1)\n",
    "\n",
    "# Bashlite\n",
    "\n",
    "p7_bashlite_combo = pd.read_csv('nbaiot/Provision_PT_737E_Security_Camera/gafgyt/combo.csv', encoding = \"utf-8\", sep = ',' ) \n",
    "df_p7_bashlite_combo = p7_bashlite_combo.copy(deep=True)\n",
    "df_p7_bashlite_combo = pd.DataFrame(df_p7_bashlite_combo, columns = chosen_columns)\n",
    "df_p7_bashlite_combo = df_p7_bashlite_combo.sample(frac=1)\n",
    "\n",
    "p7_bashlite_junk = pd.read_csv('nbaiot/Provision_PT_737E_Security_Camera/gafgyt/junk.csv', encoding = \"utf-8\", sep = ',' ) \n",
    "df_p7_bashlite_junk = p7_bashlite_junk.copy(deep=True)\n",
    "df_p7_bashlite_junk = pd.DataFrame(df_p7_bashlite_junk, columns = chosen_columns)\n",
    "df_p7_bashlite_junk = df_p7_bashlite_junk.sample(frac=1)\n",
    "\n",
    "p7_bashlite_scan = pd.read_csv('nbaiot/Provision_PT_737E_Security_Camera/gafgyt/scan.csv', encoding = \"utf-8\", sep = ',' ) \n",
    "df_p7_bashlite_scan = p7_bashlite_scan.copy(deep=True)\n",
    "df_p7_bashlite_scan = pd.DataFrame(df_p7_bashlite_scan, columns = chosen_columns)\n",
    "df_p7_bashlite_scan = df_p7_bashlite_scan.sample(frac=1)\n",
    "\n",
    "p7_bashlite_udp = pd.read_csv('nbaiot/Provision_PT_737E_Security_Camera/gafgyt/udp.csv', encoding = \"utf-8\", sep = ',' ) \n",
    "df_p7_bashlite_udp = p7_bashlite_udp.copy(deep=True)\n",
    "df_p7_bashlite_udp = pd.DataFrame(df_p7_bashlite_udp, columns = chosen_columns)\n",
    "df_p7_bashlite_udp = df_p7_bashlite_udp.sample(frac=1)\n",
    "\n",
    "p7_bashlite_tcp = pd.read_csv('nbaiot/Provision_PT_737E_Security_Camera/gafgyt/tcp.csv', encoding = \"utf-8\", sep = ',' ) \n",
    "df_p7_bashlite_tcp = p7_bashlite_tcp.copy(deep=True)\n",
    "df_p7_bashlite_tcp = pd.DataFrame(df_p7_bashlite_tcp, columns = chosen_columns)\n",
    "df_p7_bashlite_tcp = df_p7_bashlite_tcp.sample(frac=1)"
   ]
  },
  {
   "cell_type": "code",
   "execution_count": 4,
   "id": "163ff1fd",
   "metadata": {},
   "outputs": [],
   "source": [
    "# Normalizing information\n",
    "\n",
    "scaler = MinMaxScaler()\n",
    "\n",
    "df_p7_miraiack_norm = scaler.fit_transform(df_p7_mirai_ack)\n",
    "df_p7_miraiscan_norm = scaler.fit_transform(df_p7_mirai_scan)\n",
    "df_p7_miraisyn_norm = scaler.fit_transform(df_p7_mirai_syn)\n",
    "df_p7_miraiudp_norm = scaler.fit_transform(df_p7_mirai_udp)\n",
    "df_p7_miraiudpplain_norm = scaler.fit_transform(df_p7_mirai_udpplain)\n",
    "\n",
    "df_p7_bashlitecombo_norm = scaler.fit_transform(df_p7_bashlite_combo)\n",
    "df_p7_bashlitejunk_norm = scaler.fit_transform(df_p7_bashlite_junk)\n",
    "df_p7_bashlitescan_norm = scaler.fit_transform(df_p7_bashlite_scan)\n",
    "df_p7_bashliteudp_norm = scaler.fit_transform(df_p7_bashlite_udp)\n",
    "df_p7_bashlitetcp_norm = scaler.fit_transform(df_p7_bashlite_tcp)"
   ]
  },
  {
   "cell_type": "code",
   "execution_count": 5,
   "id": "637cf691",
   "metadata": {},
   "outputs": [],
   "source": [
    "# Mirai attack labelization\n",
    "\n",
    "label_mirai_ack = list(np.full(df_p7_miraiack_norm.shape[0], 0))\n",
    "miraiack_norm = pd.DataFrame(df_p7_miraiack_norm)\n",
    "miraiack_norm['Label'] = label_mirai_ack\n",
    "\n",
    "label_mirai_scan = list(np.full(df_p7_miraiscan_norm.shape[0], 1))\n",
    "miraiscan_norm = pd.DataFrame(df_p7_miraiscan_norm)\n",
    "miraiscan_norm['Label'] = label_mirai_scan\n",
    "\n",
    "label_mirai_syn = list(np.full(df_p7_miraisyn_norm.shape[0], 2))\n",
    "miraisyn_norm = pd.DataFrame(df_p7_miraisyn_norm)\n",
    "miraisyn_norm['Label'] = label_mirai_syn\n",
    "\n",
    "label_mirai_udp = list(np.full(df_p7_miraiudp_norm.shape[0], 3))\n",
    "miraiudp_norm = pd.DataFrame(df_p7_miraiudp_norm)\n",
    "miraiudp_norm['Label'] = label_mirai_udp\n",
    "\n",
    "label_mirai_udpplain = list(np.full(df_p7_miraiudpplain_norm.shape[0], 4))\n",
    "miraiudpplain_norm = pd.DataFrame(df_p7_miraiudpplain_norm)\n",
    "miraiudpplain_norm['Label'] = label_mirai_udpplain\n",
    "\n",
    "# Bashlite attack labelization\n",
    "\n",
    "label_bashlite_combo = list(np.full(df_p7_bashlitecombo_norm.shape[0], 5))\n",
    "bashlitecombo_norm = pd.DataFrame(df_p7_bashlitecombo_norm)\n",
    "bashlitecombo_norm['Label'] = label_bashlite_combo\n",
    "\n",
    "label_bashlite_junk = list(np.full(df_p7_bashlitejunk_norm.shape[0], 6))\n",
    "bashlitejunk_norm = pd.DataFrame(df_p7_bashlitejunk_norm)\n",
    "bashlitejunk_norm['Label'] = label_bashlite_junk\n",
    "\n",
    "label_bashlite_scan = list(np.full(df_p7_bashlitescan_norm.shape[0], 7))\n",
    "bashlitescan_norm = pd.DataFrame(df_p7_bashlitescan_norm)\n",
    "bashlitescan_norm['Label'] = label_bashlite_scan\n",
    "\n",
    "label_bashlite_udp = list(np.full(df_p7_bashliteudp_norm.shape[0], 8))\n",
    "bashliteudp_norm = pd.DataFrame(df_p7_bashliteudp_norm)\n",
    "bashliteudp_norm['Label'] = label_bashlite_udp\n",
    "\n",
    "label_bashlite_tcp = list(np.full(df_p7_bashlitetcp_norm.shape[0], 9))\n",
    "bashlitetcp_norm = pd.DataFrame(df_p7_bashlitetcp_norm)\n",
    "bashlitetcp_norm['Label'] = label_bashlite_tcp"
   ]
  },
  {
   "cell_type": "markdown",
   "id": "c734d752",
   "metadata": {},
   "source": [
    "# CNN - Attack Classification"
   ]
  },
  {
   "cell_type": "markdown",
   "id": "30489bd3",
   "metadata": {},
   "source": [
    "## Model"
   ]
  },
  {
   "cell_type": "code",
   "execution_count": 6,
   "id": "417aa4df",
   "metadata": {},
   "outputs": [],
   "source": [
    "batch_size = 32\n",
    "number_features = 23\n",
    "learning_rate = 0.01\n",
    "epochs = 50"
   ]
  },
  {
   "cell_type": "code",
   "execution_count": 7,
   "id": "794890bb",
   "metadata": {},
   "outputs": [
    {
     "name": "stdout",
     "output_type": "stream",
     "text": [
      "536269\n"
     ]
    }
   ],
   "source": [
    "# Train set\n",
    "\n",
    "len_mirai_ack_train = int(0.7 * len(miraiack_norm))\n",
    "X_train_mirai_ack = miraiack_norm[:len_mirai_ack_train]\n",
    "\n",
    "len_mirai_scan_train = int(0.7 * len(miraiscan_norm))\n",
    "X_train_mirai_scan = miraiscan_norm[:len_mirai_scan_train]\n",
    "\n",
    "len_mirai_syn_train = int(0.7 * len(miraisyn_norm))\n",
    "X_train_mirai_syn = miraisyn_norm[:len_mirai_syn_train]\n",
    "\n",
    "len_mirai_udp_train = int(0.7 * len(miraiudp_norm))\n",
    "X_train_mirai_udp = miraiudp_norm[:len_mirai_udp_train]\n",
    "\n",
    "len_mirai_udpplain_train = int(0.7 * len(miraiudpplain_norm))\n",
    "X_train_mirai_udpplain = miraiudpplain_norm[:len_mirai_udpplain_train]\n",
    "\n",
    "len_bashlite_combo_train = int(0.7 * len(bashlitecombo_norm))\n",
    "X_train_bashlite_combo = bashlitecombo_norm[:len_bashlite_combo_train]\n",
    "\n",
    "len_bashlite_junk_train = int(0.7 * len(bashlitejunk_norm))\n",
    "X_train_bashlite_junk = bashlitejunk_norm[:len_bashlite_junk_train]\n",
    "\n",
    "len_bashlite_scan_train = int(0.7 * len(bashlitescan_norm))\n",
    "X_train_bashlite_scan = bashlitescan_norm[:len_bashlite_scan_train]\n",
    "\n",
    "len_bashlite_udp_train = int(0.7 * len(bashliteudp_norm))\n",
    "X_train_bashlite_udp = bashliteudp_norm[:len_bashlite_udp_train]\n",
    "\n",
    "len_bashlite_tcp_train = int(0.7 * len(bashlitetcp_norm))\n",
    "X_train_bashlite_tcp = bashlitetcp_norm[:len_bashlite_tcp_train]\n",
    "\n",
    "np_train = np.concatenate([X_train_mirai_ack, X_train_mirai_scan, X_train_mirai_syn, X_train_mirai_udp, X_train_mirai_udpplain,\n",
    "                          X_train_bashlite_combo, X_train_bashlite_junk, X_train_bashlite_scan, X_train_bashlite_udp,\n",
    "                          X_train_bashlite_tcp])\n",
    "\n",
    "df_train = pd.DataFrame(np_train)\n",
    "label_train = df_train.pop(number_features)\n",
    "\n",
    "X_train = df_train.to_numpy()\n",
    "Y_train = label_train.to_numpy()\n",
    "\n",
    "print(len(X_train))"
   ]
  },
  {
   "cell_type": "code",
   "execution_count": 8,
   "id": "bb416951",
   "metadata": {},
   "outputs": [
    {
     "name": "stdout",
     "output_type": "stream",
     "text": [
      "114912\n"
     ]
    }
   ],
   "source": [
    "# Test set\n",
    "\n",
    "len_mirai_ack_test = len_mirai_ack_train + int(0.15 * len(miraiack_norm))\n",
    "X_test_mirai_ack = miraiack_norm[len_mirai_ack_train : len_mirai_ack_test]\n",
    "\n",
    "len_mirai_scan_test = len_mirai_scan_train + int(0.15 * len(miraiscan_norm))\n",
    "X_test_mirai_scan = miraiscan_norm[len_mirai_scan_train : len_mirai_scan_test]\n",
    "\n",
    "len_mirai_syn_test = len_mirai_syn_train + int(0.15 * len(miraisyn_norm))\n",
    "X_test_mirai_syn = miraisyn_norm[len_mirai_syn_train : len_mirai_syn_test]\n",
    "\n",
    "len_mirai_udp_test = len_mirai_udp_train + int(0.15 * len(miraiudp_norm))\n",
    "X_test_mirai_udp = miraiudp_norm[len_mirai_udp_train : len_mirai_udp_test]\n",
    "\n",
    "len_mirai_udpplain_test = len_mirai_udpplain_train + int(0.15 * len(miraiudpplain_norm))\n",
    "X_test_mirai_udpplain = miraiudpplain_norm[len_mirai_udpplain_train : len_mirai_udpplain_test]\n",
    "\n",
    "len_bashlite_combo_test = len_bashlite_combo_train + int(0.15 * len(bashlitecombo_norm))\n",
    "X_test_bashlite_combo = bashlitecombo_norm[len_bashlite_combo_train : len_bashlite_combo_test]\n",
    "\n",
    "len_bashlite_junk_test = len_bashlite_junk_train + int(0.15 * len(bashlitejunk_norm))\n",
    "X_test_bashlite_junk = bashlitejunk_norm[len_bashlite_junk_train : len_bashlite_junk_test]\n",
    "\n",
    "len_bashlite_scan_test = len_bashlite_scan_train + int(0.15 * len(bashlitescan_norm))\n",
    "X_test_bashlite_scan = bashlitescan_norm[len_bashlite_scan_train : len_bashlite_scan_test]\n",
    "\n",
    "len_bashlite_udp_test = len_bashlite_udp_train + int(0.15 * len(bashliteudp_norm))\n",
    "X_test_bashlite_udp = bashliteudp_norm[len_bashlite_udp_train : len_bashlite_udp_test]\n",
    "\n",
    "len_bashlite_tcp_test = len_bashlite_tcp_train + int(0.15 * len(bashlitetcp_norm))\n",
    "X_test_bashlite_tcp = bashlitetcp_norm[len_bashlite_tcp_train : len_bashlite_tcp_test]\n",
    "\n",
    "np_test = np.concatenate([X_test_mirai_ack, X_test_mirai_scan, X_test_mirai_syn, X_test_mirai_udp, X_test_mirai_udpplain,\n",
    "                          X_test_bashlite_combo, X_test_bashlite_junk, X_test_bashlite_scan, X_test_bashlite_udp,\n",
    "                          X_test_bashlite_tcp])\n",
    "\n",
    "df_test = pd.DataFrame(np_test)\n",
    "label_test = df_test.pop(number_features)\n",
    "\n",
    "X_test = df_test.to_numpy()\n",
    "Y_test = label_test.to_numpy()\n",
    "\n",
    "print(len(X_test))"
   ]
  },
  {
   "cell_type": "code",
   "execution_count": 9,
   "id": "36c07d4b",
   "metadata": {},
   "outputs": [],
   "source": [
    "# Validation set\n",
    "\n",
    "X_val_mirai_ack = miraiack_norm[len_mirai_ack_test:]\n",
    "X_val_mirai_scan = miraiscan_norm[len_mirai_scan_test:]\n",
    "X_val_mirai_syn = miraisyn_norm[len_mirai_syn_test:]\n",
    "X_val_mirai_udp = miraiudp_norm[len_mirai_udp_test:]\n",
    "X_val_mirai_udpplain = miraiudpplain_norm[len_mirai_udpplain_test:]\n",
    "\n",
    "X_val_bashlite_combo = bashlitecombo_norm[len_bashlite_combo_test:]\n",
    "X_val_bashlite_junk = bashlitejunk_norm[len_bashlite_junk_test:]\n",
    "X_val_bashlite_scan = bashlitescan_norm[len_bashlite_scan_test:]\n",
    "X_val_bashlite_udp = bashlitetcp_norm[len_bashlite_udp_test:]\n",
    "X_val_bashlite_tcp = bashlitetcp_norm[len_bashlite_tcp_test:]\n",
    "\n",
    "np_val = np.concatenate([X_val_mirai_ack, X_val_mirai_scan, X_val_mirai_syn, X_val_mirai_udp, X_val_mirai_udpplain,\n",
    "                          X_val_bashlite_combo, X_val_bashlite_junk, X_val_bashlite_scan, X_val_bashlite_udp,\n",
    "                          X_val_bashlite_tcp])\n",
    "\n",
    "df_val = pd.DataFrame(np_test)\n",
    "label_test = df_val.pop(number_features)\n",
    "\n",
    "X_val = df_val.to_numpy()\n",
    "Y_val = label_test.to_numpy()"
   ]
  },
  {
   "cell_type": "code",
   "execution_count": 10,
   "id": "b160bf20",
   "metadata": {},
   "outputs": [],
   "source": [
    "X_train_CNN = np.reshape(X_train, (X_train.shape[0], X_train.shape[1], 1))\n",
    "X_test_CNN = np.reshape(X_test, (X_test.shape[0], X_test.shape[1], 1))\n",
    "X_val_CNN = np.reshape(X_val, (X_val.shape[0], X_val.shape[1], 1))\n",
    "\n",
    "Y_train_CNN = Y_train\n",
    "Y_test_CNN = Y_test\n",
    "Y_val_CNN = Y_val\n",
    "\n",
    "samples, feature, depth = X_train_CNN.shape"
   ]
  },
  {
   "cell_type": "code",
   "execution_count": 11,
   "id": "6cb23327",
   "metadata": {},
   "outputs": [],
   "source": [
    "# CNN model with 1D convolutional layer\n",
    "\n",
    "def CNN():\n",
    "    model = models.Sequential()\n",
    "    model.add(layers.Conv1D(32, 3, activation='relu', padding = 'same', kernel_initializer = 'he_uniform', input_shape=(feature, depth)))\n",
    "    model.add(layers.MaxPooling1D(pool_size = 2, strides = 2))\n",
    "    model.add(layers.Conv1D(64, 3, activation='relu', padding = 'same', kernel_initializer = 'he_uniform'))\n",
    "    model.add(layers.MaxPooling1D(pool_size = 2, strides = 2))\n",
    "    model.add(layers.Conv1D(64, 3, activation='relu', padding = 'same', kernel_initializer = 'he_uniform'))\n",
    "    \n",
    "    model.add(layers.Flatten())\n",
    "    model.add(layers.Dense(64, activation='relu'))\n",
    "    model.add(layers.Dense(10, activation='softmax'))\n",
    "    \n",
    "    return model"
   ]
  },
  {
   "cell_type": "code",
   "execution_count": 12,
   "id": "b85a0e08",
   "metadata": {},
   "outputs": [
    {
     "name": "stdout",
     "output_type": "stream",
     "text": [
      "Model: \"sequential\"\n",
      "_________________________________________________________________\n",
      " Layer (type)                Output Shape              Param #   \n",
      "=================================================================\n",
      " conv1d (Conv1D)             (None, 23, 32)            128       \n",
      "                                                                 \n",
      " max_pooling1d (MaxPooling1D  (None, 11, 32)           0         \n",
      " )                                                               \n",
      "                                                                 \n",
      " conv1d_1 (Conv1D)           (None, 11, 64)            6208      \n",
      "                                                                 \n",
      " max_pooling1d_1 (MaxPooling  (None, 5, 64)            0         \n",
      " 1D)                                                             \n",
      "                                                                 \n",
      " conv1d_2 (Conv1D)           (None, 5, 64)             12352     \n",
      "                                                                 \n",
      " flatten (Flatten)           (None, 320)               0         \n",
      "                                                                 \n",
      " dense (Dense)               (None, 64)                20544     \n",
      "                                                                 \n",
      " dense_1 (Dense)             (None, 10)                650       \n",
      "                                                                 \n",
      "=================================================================\n",
      "Total params: 39,882\n",
      "Trainable params: 39,882\n",
      "Non-trainable params: 0\n",
      "_________________________________________________________________\n"
     ]
    }
   ],
   "source": [
    "model = CNN()\n",
    "model.summary()"
   ]
  },
  {
   "cell_type": "code",
   "execution_count": 13,
   "id": "b5896ac4",
   "metadata": {},
   "outputs": [],
   "source": [
    "# Regularization\n",
    "\n",
    "reduce_lr = ReduceLROnPlateau(moniter = 'val_loss', factor = 0.1, patience = 10)\n",
    "nadam = optimizers.Nadam(learning_rate = learning_rate, beta_1 = 0.9, beta_2 = 0.999, epsilon = 1e-08, schedule_decay = 0.004)\n",
    "model.compile(loss = \"sparse_categorical_crossentropy\", optimizer = \"nadam\", metrics = [\"accuracy\"])"
   ]
  },
  {
   "cell_type": "markdown",
   "id": "61cbc860",
   "metadata": {},
   "source": [
    "## Train"
   ]
  },
  {
   "cell_type": "code",
   "execution_count": 14,
   "id": "20b0d09c",
   "metadata": {},
   "outputs": [
    {
     "name": "stdout",
     "output_type": "stream",
     "text": [
      "Train on 536269 samples, validate on 114912 samples\n",
      "Epoch 1/50\n"
     ]
    },
    {
     "name": "stderr",
     "output_type": "stream",
     "text": [
      "2022-05-05 17:06:45.496420: W tensorflow/core/common_runtime/gpu/gpu_device.cc:1850] Cannot dlopen some GPU libraries. Please make sure the missing libraries mentioned above are installed properly if you would like to use GPU. Follow the guide at https://www.tensorflow.org/install/gpu for how to download and setup the required libraries for your platform.\n",
      "Skipping registering GPU devices...\n"
     ]
    },
    {
     "name": "stdout",
     "output_type": "stream",
     "text": [
      "536032/536269 [============================>.] - ETA: 0s - loss: 0.2468 - accuracy: 0.9035"
     ]
    },
    {
     "name": "stderr",
     "output_type": "stream",
     "text": [
      "/home/andressa.amaral/.local/lib/python3.7/site-packages/keras/engine/training_v1.py:2057: UserWarning: `Model.state_updates` will be removed in a future version. This property should not be used in TensorFlow 2.0, as `updates` are applied automatically.\n",
      "  updates = self.state_updates\n"
     ]
    },
    {
     "name": "stdout",
     "output_type": "stream",
     "text": [
      "536269/536269 [==============================] - 48s 89us/sample - loss: 0.2468 - accuracy: 0.9035 - val_loss: 0.1960 - val_accuracy: 0.9228 - lr: 0.0010\n",
      "Epoch 2/50\n",
      "536269/536269 [==============================] - 49s 91us/sample - loss: 0.2013 - accuracy: 0.9202 - val_loss: 0.1995 - val_accuracy: 0.9201 - lr: 0.0010\n",
      "Epoch 3/50\n",
      "536269/536269 [==============================] - 49s 91us/sample - loss: 0.1954 - accuracy: 0.9221 - val_loss: 0.1936 - val_accuracy: 0.9241 - lr: 0.0010\n",
      "Epoch 4/50\n",
      "536269/536269 [==============================] - 49s 91us/sample - loss: 0.1927 - accuracy: 0.9230 - val_loss: 0.1965 - val_accuracy: 0.9225 - lr: 0.0010\n",
      "Epoch 5/50\n",
      "536269/536269 [==============================] - 49s 91us/sample - loss: 0.1901 - accuracy: 0.9236 - val_loss: 0.1861 - val_accuracy: 0.9258 - lr: 0.0010\n",
      "Epoch 6/50\n",
      "536269/536269 [==============================] - 49s 91us/sample - loss: 0.1887 - accuracy: 0.9240 - val_loss: 0.1868 - val_accuracy: 0.9258 - lr: 0.0010\n",
      "Epoch 7/50\n",
      "536269/536269 [==============================] - 49s 91us/sample - loss: 0.1877 - accuracy: 0.9244 - val_loss: 0.1906 - val_accuracy: 0.9249 - lr: 0.0010\n",
      "Epoch 8/50\n",
      "536269/536269 [==============================] - 49s 91us/sample - loss: 0.1864 - accuracy: 0.9245 - val_loss: 0.1905 - val_accuracy: 0.9250 - lr: 0.0010\n",
      "Epoch 9/50\n",
      "536269/536269 [==============================] - 49s 91us/sample - loss: 0.1852 - accuracy: 0.9251 - val_loss: 0.1879 - val_accuracy: 0.9270 - lr: 0.0010\n",
      "Epoch 10/50\n",
      "536269/536269 [==============================] - 49s 91us/sample - loss: 0.1843 - accuracy: 0.9251 - val_loss: 0.1862 - val_accuracy: 0.9268 - lr: 0.0010\n",
      "Epoch 11/50\n",
      "536269/536269 [==============================] - 49s 91us/sample - loss: 0.1832 - accuracy: 0.9258 - val_loss: 0.1847 - val_accuracy: 0.9267 - lr: 0.0010\n",
      "Epoch 12/50\n",
      "536269/536269 [==============================] - 49s 91us/sample - loss: 0.1821 - accuracy: 0.9260 - val_loss: 0.1848 - val_accuracy: 0.9282 - lr: 0.0010\n",
      "Epoch 13/50\n",
      "536269/536269 [==============================] - 49s 91us/sample - loss: 0.1801 - accuracy: 0.9268 - val_loss: 0.1876 - val_accuracy: 0.9273 - lr: 0.0010\n",
      "Epoch 14/50\n",
      "536269/536269 [==============================] - 49s 91us/sample - loss: 0.1762 - accuracy: 0.9285 - val_loss: 0.1721 - val_accuracy: 0.9328 - lr: 0.0010\n",
      "Epoch 15/50\n",
      "536269/536269 [==============================] - 49s 91us/sample - loss: 0.1692 - accuracy: 0.9318 - val_loss: 0.1664 - val_accuracy: 0.9356 - lr: 0.0010\n",
      "Epoch 16/50\n",
      "536269/536269 [==============================] - 49s 91us/sample - loss: 0.1641 - accuracy: 0.9341 - val_loss: 0.1569 - val_accuracy: 0.9414 - lr: 0.0010\n",
      "Epoch 17/50\n",
      "536269/536269 [==============================] - 49s 91us/sample - loss: 0.1590 - accuracy: 0.9363 - val_loss: 0.1588 - val_accuracy: 0.9393 - lr: 0.0010\n",
      "Epoch 18/50\n",
      "536269/536269 [==============================] - 49s 91us/sample - loss: 0.1561 - accuracy: 0.9376 - val_loss: 0.1572 - val_accuracy: 0.9405 - lr: 0.0010\n",
      "Epoch 19/50\n",
      "536269/536269 [==============================] - 49s 92us/sample - loss: 0.1542 - accuracy: 0.9384 - val_loss: 0.1691 - val_accuracy: 0.9380 - lr: 0.0010\n",
      "Epoch 20/50\n",
      "536269/536269 [==============================] - 49s 91us/sample - loss: 0.1517 - accuracy: 0.9394 - val_loss: 0.1581 - val_accuracy: 0.9423 - lr: 0.0010\n",
      "Epoch 21/50\n",
      "536269/536269 [==============================] - 52s 98us/sample - loss: 0.1487 - accuracy: 0.9407 - val_loss: 0.1433 - val_accuracy: 0.9479 - lr: 0.0010\n",
      "Epoch 22/50\n",
      "536269/536269 [==============================] - 57s 106us/sample - loss: 0.1483 - accuracy: 0.9408 - val_loss: 0.1638 - val_accuracy: 0.9358 - lr: 0.0010\n",
      "Epoch 23/50\n",
      "536269/536269 [==============================] - 61s 113us/sample - loss: 0.1480 - accuracy: 0.9411 - val_loss: 0.1562 - val_accuracy: 0.9428 - lr: 0.0010\n",
      "Epoch 24/50\n",
      "536269/536269 [==============================] - 77s 144us/sample - loss: 0.1464 - accuracy: 0.9417 - val_loss: 0.1562 - val_accuracy: 0.9441 - lr: 0.0010\n",
      "Epoch 25/50\n",
      "536269/536269 [==============================] - 93s 174us/sample - loss: 0.1474 - accuracy: 0.9414 - val_loss: 0.1516 - val_accuracy: 0.9453 - lr: 0.0010\n",
      "Epoch 26/50\n",
      "536269/536269 [==============================] - 96s 178us/sample - loss: 0.1449 - accuracy: 0.9422 - val_loss: 0.1724 - val_accuracy: 0.9340 - lr: 0.0010\n",
      "Epoch 27/50\n",
      "536269/536269 [==============================] - 95s 177us/sample - loss: 0.1448 - accuracy: 0.9423 - val_loss: 0.1617 - val_accuracy: 0.9428 - lr: 0.0010\n",
      "Epoch 28/50\n",
      "536269/536269 [==============================] - 95s 177us/sample - loss: 0.1448 - accuracy: 0.9424 - val_loss: 0.1616 - val_accuracy: 0.9415 - lr: 0.0010\n",
      "Epoch 29/50\n",
      "536269/536269 [==============================] - 95s 178us/sample - loss: 0.1438 - accuracy: 0.9426 - val_loss: 0.1562 - val_accuracy: 0.9441 - lr: 0.0010\n",
      "Epoch 30/50\n",
      "536269/536269 [==============================] - 96s 178us/sample - loss: 0.1431 - accuracy: 0.9429 - val_loss: 0.1527 - val_accuracy: 0.9473 - lr: 0.0010\n",
      "Epoch 31/50\n",
      "536269/536269 [==============================] - 96s 180us/sample - loss: 0.1423 - accuracy: 0.9429 - val_loss: 0.1532 - val_accuracy: 0.9479 - lr: 0.0010\n",
      "Epoch 32/50\n",
      "536269/536269 [==============================] - 96s 180us/sample - loss: 0.1203 - accuracy: 0.9513 - val_loss: 0.1391 - val_accuracy: 0.9521 - lr: 1.0000e-04\n",
      "Epoch 33/50\n",
      "536269/536269 [==============================] - 95s 178us/sample - loss: 0.1163 - accuracy: 0.9524 - val_loss: 0.1366 - val_accuracy: 0.9538 - lr: 1.0000e-04\n",
      "Epoch 34/50\n",
      "536269/536269 [==============================] - 96s 179us/sample - loss: 0.1151 - accuracy: 0.9527 - val_loss: 0.1398 - val_accuracy: 0.9532 - lr: 1.0000e-04\n",
      "Epoch 35/50\n",
      "536269/536269 [==============================] - 96s 178us/sample - loss: 0.1140 - accuracy: 0.9531 - val_loss: 0.1367 - val_accuracy: 0.9531 - lr: 1.0000e-04\n",
      "Epoch 36/50\n",
      "536269/536269 [==============================] - 96s 178us/sample - loss: 0.1133 - accuracy: 0.9534 - val_loss: 0.1368 - val_accuracy: 0.9536 - lr: 1.0000e-04\n",
      "Epoch 37/50\n",
      "536269/536269 [==============================] - 93s 173us/sample - loss: 0.1129 - accuracy: 0.9534 - val_loss: 0.1470 - val_accuracy: 0.9499 - lr: 1.0000e-04\n",
      "Epoch 38/50\n",
      "536269/536269 [==============================] - 88s 164us/sample - loss: 0.1125 - accuracy: 0.9535 - val_loss: 0.1355 - val_accuracy: 0.9539 - lr: 1.0000e-04\n",
      "Epoch 39/50\n",
      "536269/536269 [==============================] - 86s 160us/sample - loss: 0.1121 - accuracy: 0.9536 - val_loss: 0.1359 - val_accuracy: 0.9540 - lr: 1.0000e-04\n",
      "Epoch 40/50\n",
      "536269/536269 [==============================] - 82s 153us/sample - loss: 0.1118 - accuracy: 0.9537 - val_loss: 0.1364 - val_accuracy: 0.9537 - lr: 1.0000e-04\n",
      "Epoch 41/50\n",
      "536269/536269 [==============================] - 84s 157us/sample - loss: 0.1115 - accuracy: 0.9539 - val_loss: 0.1367 - val_accuracy: 0.9541 - lr: 1.0000e-04\n",
      "Epoch 42/50\n",
      "536269/536269 [==============================] - 84s 156us/sample - loss: 0.1111 - accuracy: 0.9538 - val_loss: 0.1353 - val_accuracy: 0.9538 - lr: 1.0000e-04\n",
      "Epoch 43/50\n",
      "536269/536269 [==============================] - 81s 151us/sample - loss: 0.1109 - accuracy: 0.9540 - val_loss: 0.1326 - val_accuracy: 0.9547 - lr: 1.0000e-04\n",
      "Epoch 44/50\n",
      "536269/536269 [==============================] - 79s 147us/sample - loss: 0.1106 - accuracy: 0.9541 - val_loss: 0.1350 - val_accuracy: 0.9546 - lr: 1.0000e-04\n",
      "Epoch 45/50\n",
      "536269/536269 [==============================] - 76s 143us/sample - loss: 0.1104 - accuracy: 0.9541 - val_loss: 0.1341 - val_accuracy: 0.9547 - lr: 1.0000e-04\n",
      "Epoch 46/50\n",
      "536269/536269 [==============================] - 77s 143us/sample - loss: 0.1102 - accuracy: 0.9542 - val_loss: 0.1335 - val_accuracy: 0.9542 - lr: 1.0000e-04\n",
      "Epoch 47/50\n",
      "536269/536269 [==============================] - 76s 142us/sample - loss: 0.1100 - accuracy: 0.9542 - val_loss: 0.1308 - val_accuracy: 0.9554 - lr: 1.0000e-04\n",
      "Epoch 48/50\n",
      "536269/536269 [==============================] - 75s 140us/sample - loss: 0.1097 - accuracy: 0.9543 - val_loss: 0.1356 - val_accuracy: 0.9532 - lr: 1.0000e-04\n",
      "Epoch 49/50\n",
      "536269/536269 [==============================] - 75s 140us/sample - loss: 0.1093 - accuracy: 0.9546 - val_loss: 0.1374 - val_accuracy: 0.9525 - lr: 1.0000e-04\n"
     ]
    },
    {
     "name": "stdout",
     "output_type": "stream",
     "text": [
      "Epoch 50/50\n",
      "536269/536269 [==============================] - 79s 147us/sample - loss: 0.1093 - accuracy: 0.9545 - val_loss: 0.1359 - val_accuracy: 0.9528 - lr: 1.0000e-04\n",
      "Training time: 3504.243329524994\n"
     ]
    }
   ],
   "source": [
    "# Training step\n",
    "\n",
    "train_start = time.time()\n",
    "\n",
    "history = model.fit(X_train_CNN, Y_train_CNN, \n",
    "                    epochs = epochs, \n",
    "                    batch_size = batch_size, \n",
    "                    validation_data = (X_val_CNN, Y_val_CNN),\n",
    "                    callbacks = [reduce_lr])\n",
    "\n",
    "train_end = time.time()\n",
    "train_time = train_end - train_start\n",
    "print(\"Training time:\", train_time)"
   ]
  },
  {
   "cell_type": "code",
   "execution_count": 15,
   "id": "8312f268",
   "metadata": {},
   "outputs": [],
   "source": [
    "scores = model.evaluate(X_test_CNN, Y_test_CNN)"
   ]
  },
  {
   "cell_type": "markdown",
   "id": "cc56ac36",
   "metadata": {},
   "source": [
    "## Test"
   ]
  },
  {
   "cell_type": "code",
   "execution_count": 16,
   "id": "7028c826",
   "metadata": {},
   "outputs": [
    {
     "name": "stderr",
     "output_type": "stream",
     "text": [
      "/home/andressa.amaral/.local/lib/python3.7/site-packages/keras/engine/training_v1.py:2079: UserWarning: `Model.state_updates` will be removed in a future version. This property should not be used in TensorFlow 2.0, as `updates` are applied automatically.\n",
      "  updates=self.state_updates,\n"
     ]
    },
    {
     "name": "stdout",
     "output_type": "stream",
     "text": [
      "Testing time: 6.28371787071228\n"
     ]
    }
   ],
   "source": [
    "# Testing step\n",
    "\n",
    "test_start = time.time()\n",
    "\n",
    "Y_pred = model.predict(X_test_CNN)\n",
    "\n",
    "test_end = time.time()\n",
    "test_time = test_end - test_start\n",
    "print(\"Testing time:\", test_time)"
   ]
  },
  {
   "cell_type": "code",
   "execution_count": 17,
   "id": "6e15bef1",
   "metadata": {},
   "outputs": [
    {
     "name": "stdout",
     "output_type": "stream",
     "text": [
      "[0 3 0 ... 9 9 9]\n"
     ]
    }
   ],
   "source": [
    "Y_pred_CNN = np.argmax(Y_pred, axis = 1)\n",
    "print(Y_pred_CNN)\n",
    "Y_true_CNN = Y_test_CNN.astype(int)"
   ]
  },
  {
   "cell_type": "markdown",
   "id": "963c1efe",
   "metadata": {},
   "source": [
    "## Metrics"
   ]
  },
  {
   "cell_type": "code",
   "execution_count": 18,
   "id": "bf0b59e2",
   "metadata": {},
   "outputs": [],
   "source": [
    "labels = ['Mirai_Ack','Mirai_Scan','Mirai_Syn','Mirai_Udp','Mirai_Udpplain',\n",
    "          'Bashlite_Combo','Bashlite_Junk','Bashlite_Scan','Bashlite_Udp', 'Bashlite_Tcp']"
   ]
  },
  {
   "cell_type": "code",
   "execution_count": 19,
   "id": "13eecafb",
   "metadata": {},
   "outputs": [],
   "source": [
    "# Multi classification metrics\n",
    "\n",
    "acc = accuracy_score(Y_true_CNN, Y_pred_CNN) \n",
    "f1 = f1_score(Y_true_CNN, Y_pred_CNN, average = 'weighted')\n",
    "pre = precision_score(Y_true_CNN, Y_pred_CNN, labels = None, pos_label = 1, average = 'weighted')\n",
    "recall = recall_score(Y_true_CNN, Y_pred_CNN, labels = None, pos_label = 1, average = 'weighted', sample_weight = None)"
   ]
  },
  {
   "cell_type": "code",
   "execution_count": 20,
   "id": "56caa768",
   "metadata": {},
   "outputs": [],
   "source": [
    "sys.stdout = open(\"Results/P737_camera_cnn.txt\", \"a\")\n",
    "\n",
    "print(\" ==== Test \" + str(number_features) + \" features \" + str(learning_rate) + \"====\")\n",
    "print(\"Training time:\" + str(train_time))\n",
    "print(\"Testing time:\" + str(test_time))\n",
    "print(\"Accuracy:\" + str(acc))\n",
    "print(\"F1-score:\" + str(f1))\n",
    "print(\"Precision:\" + str(pre))\n",
    "print(\"Recall:\" + str(recall))\n",
    "print(classification_report(Y_true_CNN,Y_pred_CNN, target_names = labels))"
   ]
  },
  {
   "cell_type": "markdown",
   "id": "49a3e5da",
   "metadata": {},
   "source": [
    "## Naive Bayes Model"
   ]
  },
  {
   "cell_type": "code",
   "execution_count": 21,
   "id": "cf44eaa5",
   "metadata": {},
   "outputs": [],
   "source": [
    "# Model\n",
    "nb = GaussianNB()\n",
    "\n",
    "# Train\n",
    "train_nb_start = time.time()\n",
    "\n",
    "nb.fit(X_train, Y_train)\n",
    "\n",
    "train_nb_end = time.time()\n",
    "train_nb_time = train_nb_end - train_nb_start\n",
    "\n",
    "# Test\n",
    "test_nb_start = time.time()\n",
    "\n",
    "Y_pred_nb = nb.predict(X_test)\n",
    "\n",
    "test_nb_end = time.time()\n",
    "test_nb_time = test_nb_end - test_nb_start\n",
    "\n",
    "# Metrics\n",
    "acc_nb = accuracy_score(Y_test, Y_pred_nb) \n",
    "f1_nb = f1_score(Y_test, Y_pred_nb, average = 'weighted')\n",
    "pre_nb = precision_score(Y_test, Y_pred_nb, labels = None, pos_label = 1, average = 'weighted')\n",
    "recall_nb = recall_score(Y_test, Y_pred_nb, labels = None, pos_label = 1, average = 'weighted', sample_weight = None)\n",
    "\n",
    "print()\n",
    "print(\" ==== Naive Bayes \" + str(number_features) + \" features ====\")\n",
    "print(\"Training time:\" + str(train_nb_time))\n",
    "print(\"Testing time:\" + str(test_nb_time))\n",
    "print(\"Accuracy:\" + str(acc_nb))\n",
    "print(\"F1-score:\" + str(f1_nb))\n",
    "print(\"Precision:\" + str(pre_nb))\n",
    "print(\"Recall:\" + str(recall_nb))\n",
    "print(classification_report(Y_test,Y_pred_nb, target_names = labels))"
   ]
  },
  {
   "cell_type": "markdown",
   "id": "ca71b29f",
   "metadata": {},
   "source": [
    "## KNN Model"
   ]
  },
  {
   "cell_type": "code",
   "execution_count": 22,
   "id": "a4ed84da",
   "metadata": {},
   "outputs": [],
   "source": [
    "# Model\n",
    "knn = KNeighborsClassifier(n_neighbors = 50)\n",
    "\n",
    "# Train\n",
    "train_knn_start = time.time()\n",
    "\n",
    "knn.fit(X_train, Y_train)\n",
    "\n",
    "train_knn_end = time.time()\n",
    "train_knn_time = train_knn_end - train_knn_start\n",
    "\n",
    "# Test\n",
    "test_knn_start = time.time()\n",
    "\n",
    "Y_pred_knn = knn.predict(X_test)\n",
    "\n",
    "test_knn_end = time.time()\n",
    "test_knn_time = test_knn_end - test_knn_start\n",
    "\n",
    "# Metrics\n",
    "acc_knn = accuracy_score(Y_test, Y_pred_knn) \n",
    "f1_knn = f1_score(Y_test, Y_pred_knn, average = 'weighted')\n",
    "pre_knn = precision_score(Y_test, Y_pred_knn, labels = None, pos_label = 1, average = 'weighted')\n",
    "recall_knn = recall_score(Y_test, Y_pred_knn, labels = None, pos_label = 1, average = 'weighted', sample_weight = None)\n",
    "\n",
    "print()\n",
    "print(\" ==== KNN \" + str(number_features) + \" features ====\")\n",
    "print(\"Training time:\" + str(train_knn_time))\n",
    "print(\"Testing time:\" + str(test_knn_time))\n",
    "print(\"Accuracy:\" + str(acc_knn))\n",
    "print(\"F1-score:\" + str(f1_knn))\n",
    "print(\"Precision:\" + str(pre_knn))\n",
    "print(\"Recall:\" + str(recall_knn))\n",
    "print(classification_report(Y_test,Y_pred_knn, target_names = labels))"
   ]
  }
 ],
 "metadata": {
  "kernelspec": {
   "display_name": "Python 3 (ipykernel)",
   "language": "python",
   "name": "python3"
  },
  "language_info": {
   "codemirror_mode": {
    "name": "ipython",
    "version": 3
   },
   "file_extension": ".py",
   "mimetype": "text/x-python",
   "name": "python",
   "nbconvert_exporter": "python",
   "pygments_lexer": "ipython3",
   "version": "3.7.5"
  }
 },
 "nbformat": 4,
 "nbformat_minor": 5
}
