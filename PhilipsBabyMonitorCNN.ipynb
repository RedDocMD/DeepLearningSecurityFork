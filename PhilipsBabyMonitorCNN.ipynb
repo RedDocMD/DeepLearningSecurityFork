{
 "cells": [
  {
   "cell_type": "code",
   "execution_count": 1,
   "id": "78e744b9",
   "metadata": {},
   "outputs": [
    {
     "name": "stdout",
     "output_type": "stream",
     "text": [
      "Defaulting to user installation because normal site-packages is not writeable\n",
      "Requirement already satisfied: pandas in /home/andressa.amaral/.local/lib/python3.7/site-packages (1.3.5)\n",
      "Requirement already satisfied: pytz>=2017.3 in /home/andressa.amaral/.local/lib/python3.7/site-packages (from pandas) (2022.1)\n",
      "Requirement already satisfied: numpy>=1.17.3 in /home/andressa.amaral/.local/lib/python3.7/site-packages (from pandas) (1.21.5)\n",
      "Requirement already satisfied: python-dateutil>=2.7.3 in /home/andressa.amaral/.local/lib/python3.7/site-packages (from pandas) (2.8.2)\n",
      "Requirement already satisfied: six>=1.5 in /home/andressa.amaral/.local/lib/python3.7/site-packages (from python-dateutil>=2.7.3->pandas) (1.16.0)\n",
      "Defaulting to user installation because normal site-packages is not writeable\n",
      "Requirement already satisfied: seaborn in /home/andressa.amaral/.local/lib/python3.7/site-packages (0.11.2)\n",
      "Requirement already satisfied: scipy>=1.0 in /home/andressa.amaral/.local/lib/python3.7/site-packages (from seaborn) (1.7.3)\n",
      "Requirement already satisfied: matplotlib>=2.2 in /home/andressa.amaral/.local/lib/python3.7/site-packages (from seaborn) (3.5.1)\n",
      "Requirement already satisfied: pandas>=0.23 in /home/andressa.amaral/.local/lib/python3.7/site-packages (from seaborn) (1.3.5)\n",
      "Requirement already satisfied: numpy>=1.15 in /home/andressa.amaral/.local/lib/python3.7/site-packages (from seaborn) (1.21.5)\n",
      "Requirement already satisfied: pyparsing>=2.2.1 in /home/andressa.amaral/.local/lib/python3.7/site-packages (from matplotlib>=2.2->seaborn) (3.0.7)\n",
      "Requirement already satisfied: packaging>=20.0 in /home/andressa.amaral/.local/lib/python3.7/site-packages (from matplotlib>=2.2->seaborn) (21.3)\n",
      "Requirement already satisfied: python-dateutil>=2.7 in /home/andressa.amaral/.local/lib/python3.7/site-packages (from matplotlib>=2.2->seaborn) (2.8.2)\n",
      "Requirement already satisfied: pillow>=6.2.0 in /home/andressa.amaral/.local/lib/python3.7/site-packages (from matplotlib>=2.2->seaborn) (9.0.1)\n",
      "Requirement already satisfied: fonttools>=4.22.0 in /home/andressa.amaral/.local/lib/python3.7/site-packages (from matplotlib>=2.2->seaborn) (4.31.1)\n",
      "Requirement already satisfied: kiwisolver>=1.0.1 in /home/andressa.amaral/.local/lib/python3.7/site-packages (from matplotlib>=2.2->seaborn) (1.4.0)\n",
      "Requirement already satisfied: cycler>=0.10 in /home/andressa.amaral/.local/lib/python3.7/site-packages (from matplotlib>=2.2->seaborn) (0.11.0)\n",
      "Requirement already satisfied: pytz>=2017.3 in /home/andressa.amaral/.local/lib/python3.7/site-packages (from pandas>=0.23->seaborn) (2022.1)\n",
      "Requirement already satisfied: typing-extensions in /home/andressa.amaral/.local/lib/python3.7/site-packages (from kiwisolver>=1.0.1->matplotlib>=2.2->seaborn) (4.1.1)\n",
      "Requirement already satisfied: six>=1.5 in /home/andressa.amaral/.local/lib/python3.7/site-packages (from python-dateutil>=2.7->matplotlib>=2.2->seaborn) (1.16.0)\n",
      "Defaulting to user installation because normal site-packages is not writeable\n",
      "Requirement already satisfied: tensorflow-gpu in /home/andressa.amaral/.local/lib/python3.7/site-packages (2.8.0)\n",
      "Requirement already satisfied: astunparse>=1.6.0 in /home/andressa.amaral/.local/lib/python3.7/site-packages (from tensorflow-gpu) (1.6.3)\n",
      "Requirement already satisfied: six>=1.12.0 in /home/andressa.amaral/.local/lib/python3.7/site-packages (from tensorflow-gpu) (1.16.0)\n",
      "Requirement already satisfied: wrapt>=1.11.0 in /home/andressa.amaral/.local/lib/python3.7/site-packages (from tensorflow-gpu) (1.14.0)\n",
      "Requirement already satisfied: flatbuffers>=1.12 in /home/andressa.amaral/.local/lib/python3.7/site-packages (from tensorflow-gpu) (2.0)\n",
      "Requirement already satisfied: numpy>=1.20 in /home/andressa.amaral/.local/lib/python3.7/site-packages (from tensorflow-gpu) (1.21.5)\n",
      "Requirement already satisfied: grpcio<2.0,>=1.24.3 in /home/andressa.amaral/.local/lib/python3.7/site-packages (from tensorflow-gpu) (1.44.0)\n",
      "Requirement already satisfied: h5py>=2.9.0 in /home/andressa.amaral/.local/lib/python3.7/site-packages (from tensorflow-gpu) (3.6.0)\n",
      "Requirement already satisfied: tensorflow-io-gcs-filesystem>=0.23.1 in /home/andressa.amaral/.local/lib/python3.7/site-packages (from tensorflow-gpu) (0.24.0)\n",
      "Requirement already satisfied: typing-extensions>=3.6.6 in /home/andressa.amaral/.local/lib/python3.7/site-packages (from tensorflow-gpu) (4.1.1)\n",
      "Requirement already satisfied: tensorboard<2.9,>=2.8 in /home/andressa.amaral/.local/lib/python3.7/site-packages (from tensorflow-gpu) (2.8.0)\n",
      "Requirement already satisfied: tf-estimator-nightly==2.8.0.dev2021122109 in /home/andressa.amaral/.local/lib/python3.7/site-packages (from tensorflow-gpu) (2.8.0.dev2021122109)\n",
      "Requirement already satisfied: setuptools in /home/andressa.amaral/.local/lib/python3.7/site-packages (from tensorflow-gpu) (60.10.0)\n",
      "Requirement already satisfied: google-pasta>=0.1.1 in /home/andressa.amaral/.local/lib/python3.7/site-packages (from tensorflow-gpu) (0.2.0)\n",
      "Requirement already satisfied: protobuf>=3.9.2 in /home/andressa.amaral/.local/lib/python3.7/site-packages (from tensorflow-gpu) (3.19.4)\n",
      "Requirement already satisfied: absl-py>=0.4.0 in /home/andressa.amaral/.local/lib/python3.7/site-packages (from tensorflow-gpu) (1.0.0)\n",
      "Requirement already satisfied: termcolor>=1.1.0 in /home/andressa.amaral/.local/lib/python3.7/site-packages (from tensorflow-gpu) (1.1.0)\n",
      "Requirement already satisfied: opt-einsum>=2.3.2 in /home/andressa.amaral/.local/lib/python3.7/site-packages (from tensorflow-gpu) (3.3.0)\n",
      "Requirement already satisfied: gast>=0.2.1 in /home/andressa.amaral/.local/lib/python3.7/site-packages (from tensorflow-gpu) (0.5.3)\n",
      "Requirement already satisfied: libclang>=9.0.1 in /home/andressa.amaral/.local/lib/python3.7/site-packages (from tensorflow-gpu) (13.0.0)\n",
      "Requirement already satisfied: keras<2.9,>=2.8.0rc0 in /home/andressa.amaral/.local/lib/python3.7/site-packages (from tensorflow-gpu) (2.8.0)\n",
      "Requirement already satisfied: keras-preprocessing>=1.1.1 in /home/andressa.amaral/.local/lib/python3.7/site-packages (from tensorflow-gpu) (1.1.2)\n",
      "Requirement already satisfied: wheel<1.0,>=0.23.0 in /usr/lib/python3/dist-packages (from astunparse>=1.6.0->tensorflow-gpu) (0.30.0)\n",
      "Requirement already satisfied: cached-property in /home/andressa.amaral/.local/lib/python3.7/site-packages (from h5py>=2.9.0->tensorflow-gpu) (1.5.2)\n",
      "Requirement already satisfied: google-auth-oauthlib<0.5,>=0.4.1 in /home/andressa.amaral/.local/lib/python3.7/site-packages (from tensorboard<2.9,>=2.8->tensorflow-gpu) (0.4.6)\n",
      "Requirement already satisfied: requests<3,>=2.21.0 in /home/andressa.amaral/.local/lib/python3.7/site-packages (from tensorboard<2.9,>=2.8->tensorflow-gpu) (2.27.1)\n",
      "Requirement already satisfied: google-auth<3,>=1.6.3 in /home/andressa.amaral/.local/lib/python3.7/site-packages (from tensorboard<2.9,>=2.8->tensorflow-gpu) (2.6.2)\n",
      "Requirement already satisfied: werkzeug>=0.11.15 in /home/andressa.amaral/.local/lib/python3.7/site-packages (from tensorboard<2.9,>=2.8->tensorflow-gpu) (2.0.3)\n",
      "Requirement already satisfied: tensorboard-data-server<0.7.0,>=0.6.0 in /home/andressa.amaral/.local/lib/python3.7/site-packages (from tensorboard<2.9,>=2.8->tensorflow-gpu) (0.6.1)\n",
      "Requirement already satisfied: markdown>=2.6.8 in /home/andressa.amaral/.local/lib/python3.7/site-packages (from tensorboard<2.9,>=2.8->tensorflow-gpu) (3.3.6)\n",
      "Requirement already satisfied: tensorboard-plugin-wit>=1.6.0 in /home/andressa.amaral/.local/lib/python3.7/site-packages (from tensorboard<2.9,>=2.8->tensorflow-gpu) (1.8.1)\n",
      "Requirement already satisfied: rsa<5,>=3.1.4 in /home/andressa.amaral/.local/lib/python3.7/site-packages (from google-auth<3,>=1.6.3->tensorboard<2.9,>=2.8->tensorflow-gpu) (4.8)\n",
      "Requirement already satisfied: pyasn1-modules>=0.2.1 in /home/andressa.amaral/.local/lib/python3.7/site-packages (from google-auth<3,>=1.6.3->tensorboard<2.9,>=2.8->tensorflow-gpu) (0.2.8)\n",
      "Requirement already satisfied: cachetools<6.0,>=2.0.0 in /home/andressa.amaral/.local/lib/python3.7/site-packages (from google-auth<3,>=1.6.3->tensorboard<2.9,>=2.8->tensorflow-gpu) (5.0.0)\n",
      "Requirement already satisfied: requests-oauthlib>=0.7.0 in /home/andressa.amaral/.local/lib/python3.7/site-packages (from google-auth-oauthlib<0.5,>=0.4.1->tensorboard<2.9,>=2.8->tensorflow-gpu) (1.3.1)\n"
     ]
    },
    {
     "name": "stdout",
     "output_type": "stream",
     "text": [
      "Requirement already satisfied: importlib-metadata>=4.4 in /home/andressa.amaral/.local/lib/python3.7/site-packages (from markdown>=2.6.8->tensorboard<2.9,>=2.8->tensorflow-gpu) (4.11.3)\n",
      "Requirement already satisfied: idna<4,>=2.5 in /usr/lib/python3/dist-packages (from requests<3,>=2.21.0->tensorboard<2.9,>=2.8->tensorflow-gpu) (2.6)\n",
      "Requirement already satisfied: urllib3<1.27,>=1.21.1 in /usr/lib/python3/dist-packages (from requests<3,>=2.21.0->tensorboard<2.9,>=2.8->tensorflow-gpu) (1.22)\n",
      "Requirement already satisfied: certifi>=2017.4.17 in /usr/lib/python3/dist-packages (from requests<3,>=2.21.0->tensorboard<2.9,>=2.8->tensorflow-gpu) (2018.1.18)\n",
      "Requirement already satisfied: charset-normalizer~=2.0.0 in /home/andressa.amaral/.local/lib/python3.7/site-packages (from requests<3,>=2.21.0->tensorboard<2.9,>=2.8->tensorflow-gpu) (2.0.12)\n",
      "Requirement already satisfied: zipp>=0.5 in /home/andressa.amaral/.local/lib/python3.7/site-packages (from importlib-metadata>=4.4->markdown>=2.6.8->tensorboard<2.9,>=2.8->tensorflow-gpu) (3.7.0)\n",
      "Requirement already satisfied: pyasn1<0.5.0,>=0.4.6 in /home/andressa.amaral/.local/lib/python3.7/site-packages (from pyasn1-modules>=0.2.1->google-auth<3,>=1.6.3->tensorboard<2.9,>=2.8->tensorflow-gpu) (0.4.8)\n",
      "Requirement already satisfied: oauthlib>=3.0.0 in /home/andressa.amaral/.local/lib/python3.7/site-packages (from requests-oauthlib>=0.7.0->google-auth-oauthlib<0.5,>=0.4.1->tensorboard<2.9,>=2.8->tensorflow-gpu) (3.2.0)\n"
     ]
    },
    {
     "name": "stderr",
     "output_type": "stream",
     "text": [
      "2022-05-01 20:23:31.740548: W tensorflow/stream_executor/platform/default/dso_loader.cc:64] Could not load dynamic library 'libcudart.so.11.0'; dlerror: libcudart.so.11.0: cannot open shared object file: No such file or directory\n",
      "2022-05-01 20:23:31.740595: I tensorflow/stream_executor/cuda/cudart_stub.cc:29] Ignore above cudart dlerror if you do not have a GPU set up on your machine.\n"
     ]
    }
   ],
   "source": [
    "!pip3 install pandas\n",
    "!pip3 install seaborn\n",
    "!pip3 install --upgrade tensorflow-gpu\n",
    "\n",
    "from datetime import datetime\n",
    "import matplotlib.pyplot as plt\n",
    "import seaborn as sns\n",
    "import numpy as np\n",
    "import pandas as pd\n",
    "import math\n",
    "import pickle\n",
    "import time\n",
    "import sys\n",
    "\n",
    "import tensorflow as tf\n",
    "tf.compat.v1.disable_eager_execution()\n",
    "from tensorflow.keras import models, layers\n",
    "from tensorflow.keras.layers import Lambda, Input, Dense, Dropout, Conv1D, MaxPooling1D, Flatten, GlobalAveragePooling1D, BatchNormalization\n",
    "from tensorflow.keras.losses import mse\n",
    "from tensorflow.keras import optimizers\n",
    "from tensorflow.keras import backend as K\n",
    "from tensorflow.keras.callbacks import LearningRateScheduler, ModelCheckpoint, ReduceLROnPlateau\n",
    "from tensorflow.keras import initializers\n",
    "from tensorflow.keras import regularizers\n",
    "\n",
    "from sklearn.model_selection import train_test_split\n",
    "from sklearn.pipeline import Pipeline\n",
    "from sklearn.preprocessing import MinMaxScaler\n",
    "from sklearn.decomposition import PCA\n",
    "from sklearn.metrics import classification_report, mean_squared_error, confusion_matrix, accuracy_score, f1_score, precision_score, recall_score\n",
    "\n",
    "%matplotlib inline"
   ]
  },
  {
   "cell_type": "code",
   "execution_count": 2,
   "id": "b338ac85",
   "metadata": {},
   "outputs": [
    {
     "name": "stderr",
     "output_type": "stream",
     "text": [
      "2022-05-01 20:23:33.590989: I tensorflow/core/platform/cpu_feature_guard.cc:151] This TensorFlow binary is optimized with oneAPI Deep Neural Network Library (oneDNN) to use the following CPU instructions in performance-critical operations:  AVX2 AVX512F FMA\n",
      "To enable them in other operations, rebuild TensorFlow with the appropriate compiler flags.\n",
      "2022-05-01 20:23:33.622111: W tensorflow/stream_executor/platform/default/dso_loader.cc:64] Could not load dynamic library 'libcudart.so.11.0'; dlerror: libcudart.so.11.0: cannot open shared object file: No such file or directory\n",
      "2022-05-01 20:23:33.622205: W tensorflow/stream_executor/platform/default/dso_loader.cc:64] Could not load dynamic library 'libcublas.so.11'; dlerror: libcublas.so.11: cannot open shared object file: No such file or directory\n",
      "2022-05-01 20:23:33.622266: W tensorflow/stream_executor/platform/default/dso_loader.cc:64] Could not load dynamic library 'libcublasLt.so.11'; dlerror: libcublasLt.so.11: cannot open shared object file: No such file or directory\n",
      "2022-05-01 20:23:33.624760: W tensorflow/stream_executor/platform/default/dso_loader.cc:64] Could not load dynamic library 'libcusolver.so.11'; dlerror: libcusolver.so.11: cannot open shared object file: No such file or directory\n",
      "2022-05-01 20:23:33.625020: W tensorflow/stream_executor/platform/default/dso_loader.cc:64] Could not load dynamic library 'libcusparse.so.11'; dlerror: libcusparse.so.11: cannot open shared object file: No such file or directory\n",
      "2022-05-01 20:23:33.625098: W tensorflow/stream_executor/platform/default/dso_loader.cc:64] Could not load dynamic library 'libcudnn.so.8'; dlerror: libcudnn.so.8: cannot open shared object file: No such file or directory\n",
      "2022-05-01 20:23:33.625111: W tensorflow/core/common_runtime/gpu/gpu_device.cc:1850] Cannot dlopen some GPU libraries. Please make sure the missing libraries mentioned above are installed properly if you would like to use GPU. Follow the guide at https://www.tensorflow.org/install/gpu for how to download and setup the required libraries for your platform.\n",
      "Skipping registering GPU devices...\n"
     ]
    }
   ],
   "source": [
    "gpu_options = tf.compat.v1.GPUOptions(per_process_gpu_memory_fraction = 0.333)\n",
    "sess = tf.compat.v1.Session(config = tf.compat.v1.ConfigProto(gpu_options = gpu_options))"
   ]
  },
  {
   "cell_type": "markdown",
   "id": "f2a5d6eb",
   "metadata": {},
   "source": [
    "# Philips Monitor Data Pre-Processing"
   ]
  },
  {
   "cell_type": "code",
   "execution_count": 3,
   "id": "7cf63a9a",
   "metadata": {},
   "outputs": [],
   "source": [
    "# Benign traffic\n",
    "\n",
    "pb_benign = pd.read_csv('nbaiot/Philips_B120N10_Baby_Monitor/benign_traffic.csv', encoding = \"utf-8\", sep = ',' ) \n",
    "df_pb_benign = pb_benign.copy(deep=True)\n",
    "\n",
    "columns = list(df_pb_benign.columns)\n",
    "chosen_columns = []\n",
    "for column in columns:\n",
    "    if column.find('L5') != -1:\n",
    "        chosen_columns.append(column)\n",
    "\n",
    "df_pb_benign = pd.DataFrame(df_pb_benign, columns = chosen_columns)\n",
    "\n",
    "# Mirai\n",
    "\n",
    "pb_mirai_ack = pd.read_csv('nbaiot/Philips_B120N10_Baby_Monitor/mirai/ack.csv', encoding = \"utf-8\", sep = ',' ) \n",
    "df_pb_mirai_ack = pb_mirai_ack.copy(deep=True)\n",
    "df_pb_mirai_ack = pd.DataFrame(df_pb_mirai_ack, columns = chosen_columns)\n",
    "df_pb_mirai_ack = df_pb_mirai_ack.sample(frac=1)\n",
    "\n",
    "pb_mirai_scan = pd.read_csv('nbaiot/Philips_B120N10_Baby_Monitor/mirai/scan.csv', encoding = \"utf-8\", sep = ',' ) \n",
    "df_pb_mirai_scan = pb_mirai_scan.copy(deep=True)\n",
    "df_pb_mirai_scan = pd.DataFrame(df_pb_mirai_scan, columns = chosen_columns)\n",
    "df_pb_mirai_scan = df_pb_mirai_scan.sample(frac=1)\n",
    "\n",
    "pb_mirai_syn = pd.read_csv('nbaiot/Philips_B120N10_Baby_Monitor/mirai/syn.csv', encoding = \"utf-8\", sep = ',' ) \n",
    "df_pb_mirai_syn = pb_mirai_syn.copy(deep=True)\n",
    "df_pb_mirai_syn = pd.DataFrame(df_pb_mirai_syn, columns = chosen_columns)\n",
    "df_pb_mirai_syn = df_pb_mirai_syn.sample(frac=1)\n",
    "\n",
    "pb_mirai_udp = pd.read_csv('nbaiot/Philips_B120N10_Baby_Monitor/mirai/udp.csv', encoding = \"utf-8\", sep = ',' ) \n",
    "df_pb_mirai_udp = pb_mirai_udp.copy(deep=True)\n",
    "df_pb_mirai_udp = pd.DataFrame(df_pb_mirai_udp, columns = chosen_columns)\n",
    "df_pb_mirai_udp = df_pb_mirai_udp.sample(frac=1)\n",
    "\n",
    "pb_mirai_udpplain = pd.read_csv('nbaiot/Philips_B120N10_Baby_Monitor/mirai/udpplain.csv', encoding = \"utf-8\", sep = ',' ) \n",
    "df_pb_mirai_udpplain = pb_mirai_udpplain.copy(deep=True)\n",
    "df_pb_mirai_udpplain = pd.DataFrame(df_pb_mirai_udpplain, columns = chosen_columns)\n",
    "df_pb_mirai_udpplain = df_pb_mirai_udpplain.sample(frac=1)\n",
    "\n",
    "# Bashlite\n",
    "\n",
    "pb_bashlite_combo = pd.read_csv('nbaiot/Philips_B120N10_Baby_Monitor/gafgyt/combo.csv', encoding = \"utf-8\", sep = ',' ) \n",
    "df_pb_bashlite_combo = pb_bashlite_combo.copy(deep=True)\n",
    "df_pb_bashlite_combo = pd.DataFrame(df_pb_bashlite_combo, columns = chosen_columns)\n",
    "df_pb_bashlite_combo = df_pb_bashlite_combo.sample(frac=1)\n",
    "\n",
    "pb_bashlite_junk = pd.read_csv('nbaiot/Philips_B120N10_Baby_Monitor/gafgyt/junk.csv', encoding = \"utf-8\", sep = ',' ) \n",
    "df_pb_bashlite_junk = pb_bashlite_junk.copy(deep=True)\n",
    "df_pb_bashlite_junk = pd.DataFrame(df_pb_bashlite_junk, columns = chosen_columns)\n",
    "df_pb_bashlite_junk = df_pb_bashlite_junk.sample(frac=1)\n",
    "\n",
    "pb_bashlite_scan = pd.read_csv('nbaiot/Philips_B120N10_Baby_Monitor/gafgyt/scan.csv', encoding = \"utf-8\", sep = ',' ) \n",
    "df_pb_bashlite_scan = pb_bashlite_scan.copy(deep=True)\n",
    "df_pb_bashlite_scan = pd.DataFrame(df_pb_bashlite_scan, columns = chosen_columns)\n",
    "df_pb_bashlite_scan = df_pb_bashlite_scan.sample(frac=1)\n",
    "\n",
    "pb_bashlite_udp = pd.read_csv('nbaiot/Philips_B120N10_Baby_Monitor/gafgyt/udp.csv', encoding = \"utf-8\", sep = ',' ) \n",
    "df_pb_bashlite_udp = pb_bashlite_udp.copy(deep=True)\n",
    "df_pb_bashlite_udp = pd.DataFrame(df_pb_bashlite_udp, columns = chosen_columns)\n",
    "df_pb_bashlite_udp = df_pb_bashlite_udp.sample(frac=1)\n",
    "\n",
    "pb_bashlite_tcp = pd.read_csv('nbaiot/Philips_B120N10_Baby_Monitor/gafgyt/tcp.csv', encoding = \"utf-8\", sep = ',' ) \n",
    "df_pb_bashlite_tcp = pb_bashlite_tcp.copy(deep=True)\n",
    "df_pb_bashlite_tcp = pd.DataFrame(df_pb_bashlite_tcp, columns = chosen_columns)\n",
    "df_pb_bashlite_tcp = df_pb_bashlite_tcp.sample(frac=1)"
   ]
  },
  {
   "cell_type": "code",
   "execution_count": 4,
   "id": "514e5110",
   "metadata": {},
   "outputs": [],
   "source": [
    "# Normalizing information\n",
    "\n",
    "scaler = MinMaxScaler()\n",
    "\n",
    "df_pb_miraiack_norm = scaler.fit_transform(df_pb_mirai_ack)\n",
    "df_pb_miraiscan_norm = scaler.fit_transform(df_pb_mirai_scan)\n",
    "df_pb_miraisyn_norm = scaler.fit_transform(df_pb_mirai_syn)\n",
    "df_pb_miraiudp_norm = scaler.fit_transform(df_pb_mirai_udp)\n",
    "df_pb_miraiudpplain_norm = scaler.fit_transform(df_pb_mirai_udpplain)\n",
    "\n",
    "df_pb_bashlitecombo_norm = scaler.fit_transform(df_pb_bashlite_combo)\n",
    "df_pb_bashlitejunk_norm = scaler.fit_transform(df_pb_bashlite_junk)\n",
    "df_pb_bashlitescan_norm = scaler.fit_transform(df_pb_bashlite_scan)\n",
    "df_pb_bashliteudp_norm = scaler.fit_transform(df_pb_bashlite_udp)\n",
    "df_pb_bashlitetcp_norm = scaler.fit_transform(df_pb_bashlite_tcp)"
   ]
  },
  {
   "cell_type": "code",
   "execution_count": 5,
   "id": "fdbde6da",
   "metadata": {},
   "outputs": [],
   "source": [
    "# Mirai attack labelization\n",
    "\n",
    "label_mirai_ack = list(np.full(df_pb_miraiack_norm.shape[0], 0))\n",
    "miraiack_norm = pd.DataFrame(df_pb_miraiack_norm)\n",
    "miraiack_norm['Label'] = label_mirai_ack\n",
    "\n",
    "label_mirai_scan = list(np.full(df_pb_miraiscan_norm.shape[0], 1))\n",
    "miraiscan_norm = pd.DataFrame(df_pb_miraiscan_norm)\n",
    "miraiscan_norm['Label'] = label_mirai_scan\n",
    "\n",
    "label_mirai_syn = list(np.full(df_pb_miraisyn_norm.shape[0], 2))\n",
    "miraisyn_norm = pd.DataFrame(df_pb_miraisyn_norm)\n",
    "miraisyn_norm['Label'] = label_mirai_syn\n",
    "\n",
    "label_mirai_udp = list(np.full(df_pb_miraiudp_norm.shape[0], 3))\n",
    "miraiudp_norm = pd.DataFrame(df_pb_miraiudp_norm)\n",
    "miraiudp_norm['Label'] = label_mirai_udp\n",
    "\n",
    "label_mirai_udpplain = list(np.full(df_pb_miraiudpplain_norm.shape[0], 4))\n",
    "miraiudpplain_norm = pd.DataFrame(df_pb_miraiudpplain_norm)\n",
    "miraiudpplain_norm['Label'] = label_mirai_udpplain\n",
    "\n",
    "# Bashlite attack labelization\n",
    "\n",
    "label_bashlite_combo = list(np.full(df_pb_bashlitecombo_norm.shape[0], 5))\n",
    "bashlitecombo_norm = pd.DataFrame(df_pb_bashlitecombo_norm)\n",
    "bashlitecombo_norm['Label'] = label_bashlite_combo\n",
    "\n",
    "label_bashlite_junk = list(np.full(df_pb_bashlitejunk_norm.shape[0], 6))\n",
    "bashlitejunk_norm = pd.DataFrame(df_pb_bashlitejunk_norm)\n",
    "bashlitejunk_norm['Label'] = label_bashlite_junk\n",
    "\n",
    "label_bashlite_scan = list(np.full(df_pb_bashlitescan_norm.shape[0], 7))\n",
    "bashlitescan_norm = pd.DataFrame(df_pb_bashlitescan_norm)\n",
    "bashlitescan_norm['Label'] = label_bashlite_scan\n",
    "\n",
    "label_bashlite_udp = list(np.full(df_pb_bashliteudp_norm.shape[0], 8))\n",
    "bashliteudp_norm = pd.DataFrame(df_pb_bashliteudp_norm)\n",
    "bashliteudp_norm['Label'] = label_bashlite_udp\n",
    "\n",
    "label_bashlite_tcp = list(np.full(df_pb_bashlitetcp_norm.shape[0], 9))\n",
    "bashlitetcp_norm = pd.DataFrame(df_pb_bashlitetcp_norm)\n",
    "bashlitetcp_norm['Label'] = label_bashlite_tcp"
   ]
  },
  {
   "cell_type": "markdown",
   "id": "2bb8975e",
   "metadata": {},
   "source": [
    "# CNN - Attack Classification"
   ]
  },
  {
   "cell_type": "markdown",
   "id": "a3e8c4df",
   "metadata": {},
   "source": [
    "## Model"
   ]
  },
  {
   "cell_type": "code",
   "execution_count": 6,
   "id": "9f03f0d5",
   "metadata": {},
   "outputs": [],
   "source": [
    "batch_size = 50\n",
    "number_features = 23\n",
    "learning_rate = 0.008\n",
    "epochs = 25"
   ]
  },
  {
   "cell_type": "code",
   "execution_count": 7,
   "id": "46757b40",
   "metadata": {},
   "outputs": [],
   "source": [
    "# Train set\n",
    "\n",
    "len_mirai_ack_train = int(0.7 * len(miraiack_norm))\n",
    "X_train_mirai_ack = miraiack_norm[:len_mirai_ack_train]\n",
    "\n",
    "len_mirai_scan_train = int(0.7 * len(miraiscan_norm))\n",
    "X_train_mirai_scan = miraiscan_norm[:len_mirai_scan_train]\n",
    "\n",
    "len_mirai_syn_train = int(0.7 * len(miraisyn_norm))\n",
    "X_train_mirai_syn = miraisyn_norm[:len_mirai_syn_train]\n",
    "\n",
    "len_mirai_udp_train = int(0.7 * len(miraiudp_norm))\n",
    "X_train_mirai_udp = miraiudp_norm[:len_mirai_udp_train]\n",
    "\n",
    "len_mirai_udpplain_train = int(0.7 * len(miraiudpplain_norm))\n",
    "X_train_mirai_udpplain = miraiudpplain_norm[:len_mirai_udpplain_train]\n",
    "\n",
    "len_bashlite_combo_train = int(0.7 * len(bashlitecombo_norm))\n",
    "X_train_bashlite_combo = bashlitecombo_norm[:len_bashlite_combo_train]\n",
    "\n",
    "len_bashlite_junk_train = int(0.7 * len(bashlitejunk_norm))\n",
    "X_train_bashlite_junk = bashlitejunk_norm[:len_bashlite_junk_train]\n",
    "\n",
    "len_bashlite_scan_train = int(0.7 * len(bashlitescan_norm))\n",
    "X_train_bashlite_scan = bashlitescan_norm[:len_bashlite_scan_train]\n",
    "\n",
    "len_bashlite_udp_train = int(0.7 * len(bashliteudp_norm))\n",
    "X_train_bashlite_udp = bashliteudp_norm[:len_bashlite_udp_train]\n",
    "\n",
    "len_bashlite_tcp_train = int(0.7 * len(bashlitetcp_norm))\n",
    "X_train_bashlite_tcp = bashlitetcp_norm[:len_bashlite_tcp_train]\n",
    "\n",
    "np_train = np.concatenate([X_train_mirai_ack, X_train_mirai_scan, X_train_mirai_syn, X_train_mirai_udp, X_train_mirai_udpplain,\n",
    "                          X_train_bashlite_combo, X_train_bashlite_junk, X_train_bashlite_scan, X_train_bashlite_udp,\n",
    "                          X_train_bashlite_tcp])\n",
    "\n",
    "df_train = pd.DataFrame(np_train)\n",
    "label_train = df_train.pop(number_features)\n",
    "\n",
    "X_train = df_train.to_numpy()\n",
    "Y_train = label_train.to_numpy()"
   ]
  },
  {
   "cell_type": "code",
   "execution_count": 8,
   "id": "36f25d14",
   "metadata": {},
   "outputs": [],
   "source": [
    "# Test set\n",
    "\n",
    "len_mirai_ack_test = len_mirai_ack_train + int(0.15 * len(miraiack_norm))\n",
    "X_test_mirai_ack = miraiack_norm[len_mirai_ack_train : len_mirai_ack_test]\n",
    "\n",
    "len_mirai_scan_test = len_mirai_scan_train + int(0.15 * len(miraiscan_norm))\n",
    "X_test_mirai_scan = miraiscan_norm[len_mirai_scan_train : len_mirai_scan_test]\n",
    "\n",
    "len_mirai_syn_test = len_mirai_syn_train + int(0.15 * len(miraisyn_norm))\n",
    "X_test_mirai_syn = miraisyn_norm[len_mirai_syn_train : len_mirai_syn_test]\n",
    "\n",
    "len_mirai_udp_test = len_mirai_udp_train + int(0.15 * len(miraiudp_norm))\n",
    "X_test_mirai_udp = miraiudp_norm[len_mirai_udp_train : len_mirai_udp_test]\n",
    "\n",
    "len_mirai_udpplain_test = len_mirai_udpplain_train + int(0.15 * len(miraiudpplain_norm))\n",
    "X_test_mirai_udpplain = miraiudpplain_norm[len_mirai_udpplain_train : len_mirai_udpplain_test]\n",
    "\n",
    "len_bashlite_combo_test = len_bashlite_combo_train + int(0.15 * len(bashlitecombo_norm))\n",
    "X_test_bashlite_combo = bashlitecombo_norm[len_bashlite_combo_train : len_bashlite_combo_test]\n",
    "\n",
    "len_bashlite_junk_test = len_bashlite_junk_train + int(0.15 * len(bashlitejunk_norm))\n",
    "X_test_bashlite_junk = bashlitejunk_norm[len_bashlite_junk_train : len_bashlite_junk_test]\n",
    "\n",
    "len_bashlite_scan_test = len_bashlite_scan_train + int(0.15 * len(bashlitescan_norm))\n",
    "X_test_bashlite_scan = bashlitescan_norm[len_bashlite_scan_train : len_bashlite_scan_test]\n",
    "\n",
    "len_bashlite_udp_test = len_bashlite_udp_train + int(0.15 * len(bashliteudp_norm))\n",
    "X_test_bashlite_udp = bashliteudp_norm[len_bashlite_udp_train : len_bashlite_udp_test]\n",
    "\n",
    "len_bashlite_tcp_test = len_bashlite_tcp_train + int(0.15 * len(bashlitetcp_norm))\n",
    "X_test_bashlite_tcp = bashlitetcp_norm[len_bashlite_tcp_train : len_bashlite_tcp_test]\n",
    "\n",
    "np_test = np.concatenate([X_test_mirai_ack, X_test_mirai_scan, X_test_mirai_syn, X_test_mirai_udp, X_test_mirai_udpplain,\n",
    "                          X_test_bashlite_combo, X_test_bashlite_junk, X_test_bashlite_scan, X_test_bashlite_udp,\n",
    "                          X_test_bashlite_tcp])\n",
    "\n",
    "df_test = pd.DataFrame(np_test)\n",
    "label_test = df_test.pop(number_features)\n",
    "\n",
    "X_test = df_test.to_numpy()\n",
    "Y_test = label_test.to_numpy()"
   ]
  },
  {
   "cell_type": "code",
   "execution_count": 9,
   "id": "ae236224",
   "metadata": {},
   "outputs": [],
   "source": [
    "# Validation set\n",
    "\n",
    "X_val_mirai_ack = miraiack_norm[len_mirai_ack_test:]\n",
    "X_val_mirai_scan = miraiscan_norm[len_mirai_scan_test:]\n",
    "X_val_mirai_syn = miraisyn_norm[len_mirai_syn_test:]\n",
    "X_val_mirai_udp = miraiudp_norm[len_mirai_udp_test:]\n",
    "X_val_mirai_udpplain = miraiudpplain_norm[len_mirai_udpplain_test:]\n",
    "\n",
    "X_val_bashlite_combo = bashlitecombo_norm[len_bashlite_combo_test:]\n",
    "X_val_bashlite_junk = bashlitejunk_norm[len_bashlite_junk_test:]\n",
    "X_val_bashlite_scan = bashlitescan_norm[len_bashlite_scan_test:]\n",
    "X_val_bashlite_udp = bashlitetcp_norm[len_bashlite_udp_test:]\n",
    "X_val_bashlite_tcp = bashlitetcp_norm[len_bashlite_tcp_test:]\n",
    "\n",
    "np_val = np.concatenate([X_val_mirai_ack, X_val_mirai_scan, X_val_mirai_syn, X_val_mirai_udp, X_val_mirai_udpplain,\n",
    "                          X_val_bashlite_combo, X_val_bashlite_junk, X_val_bashlite_scan, X_val_bashlite_udp,\n",
    "                          X_val_bashlite_tcp])\n",
    "\n",
    "df_val = pd.DataFrame(np_test)\n",
    "label_test = df_val.pop(number_features)\n",
    "\n",
    "X_val = df_val.to_numpy()\n",
    "Y_val = label_test.to_numpy()"
   ]
  },
  {
   "cell_type": "code",
   "execution_count": 10,
   "id": "4f94e8d6",
   "metadata": {},
   "outputs": [],
   "source": [
    "X_train_CNN = np.reshape(X_train, (X_train.shape[0], X_train.shape[1], 1))\n",
    "X_test_CNN = np.reshape(X_test, (X_test.shape[0], X_test.shape[1], 1))\n",
    "X_val_CNN = np.reshape(X_val, (X_val.shape[0], X_val.shape[1], 1))\n",
    "\n",
    "Y_train_CNN = Y_train\n",
    "Y_test_CNN = Y_test\n",
    "Y_val_CNN = Y_val\n",
    "\n",
    "samples, feature, depth = X_train_CNN.shape"
   ]
  },
  {
   "cell_type": "code",
   "execution_count": 11,
   "id": "9dbde30f",
   "metadata": {},
   "outputs": [],
   "source": [
    "# CNN model with 1D convolutional layer\n",
    "\n",
    "def CNN():\n",
    "    model = models.Sequential()\n",
    "    model.add(layers.Conv1D(32, 3, activation='relu', padding = 'same', kernel_initializer = 'he_uniform', input_shape=(23, 1)))\n",
    "    model.add(layers.MaxPooling1D(pool_size = 2, strides = 2))\n",
    "    model.add(layers.Conv1D(64, 3, activation='relu', padding = 'same', kernel_initializer = 'he_uniform'))\n",
    "    model.add(layers.MaxPooling1D(pool_size = 2, strides = 2))\n",
    "    model.add(layers.Conv1D(64, 3, activation='relu', padding = 'same', kernel_initializer = 'he_uniform'))\n",
    "    \n",
    "    model.add(layers.Flatten())\n",
    "    model.add(layers.Dense(64, activation='relu'))\n",
    "    model.add(layers.Dense(10, activation='softmax'))\n",
    "    \n",
    "    return model"
   ]
  },
  {
   "cell_type": "code",
   "execution_count": 12,
   "id": "4fe1df74",
   "metadata": {},
   "outputs": [
    {
     "name": "stdout",
     "output_type": "stream",
     "text": [
      "Model: \"sequential\"\n",
      "_________________________________________________________________\n",
      " Layer (type)                Output Shape              Param #   \n",
      "=================================================================\n",
      " conv1d (Conv1D)             (None, 23, 32)            128       \n",
      "                                                                 \n",
      " max_pooling1d (MaxPooling1D  (None, 11, 32)           0         \n",
      " )                                                               \n",
      "                                                                 \n",
      " conv1d_1 (Conv1D)           (None, 11, 64)            6208      \n",
      "                                                                 \n",
      " max_pooling1d_1 (MaxPooling  (None, 5, 64)            0         \n",
      " 1D)                                                             \n",
      "                                                                 \n",
      " conv1d_2 (Conv1D)           (None, 5, 64)             12352     \n",
      "                                                                 \n",
      " flatten (Flatten)           (None, 320)               0         \n",
      "                                                                 \n",
      " dense (Dense)               (None, 64)                20544     \n",
      "                                                                 \n",
      " dense_1 (Dense)             (None, 10)                650       \n",
      "                                                                 \n",
      "=================================================================\n",
      "Total params: 39,882\n",
      "Trainable params: 39,882\n",
      "Non-trainable params: 0\n",
      "_________________________________________________________________\n"
     ]
    }
   ],
   "source": [
    "model = CNN()\n",
    "model.summary()"
   ]
  },
  {
   "cell_type": "code",
   "execution_count": 13,
   "id": "d7789b01",
   "metadata": {},
   "outputs": [],
   "source": [
    "# Regularization\n",
    "\n",
    "reduce_lr = ReduceLROnPlateau(moniter = 'val_loss', factor = 0.1, patience = 10)\n",
    "nadam = optimizers.Nadam(learning_rate = learning_rate, beta_1 = 0.9, beta_2 = 0.999, epsilon = 1e-08, schedule_decay = 0.004)\n",
    "model.compile(loss = \"sparse_categorical_crossentropy\", optimizer = \"nadam\", metrics = [\"accuracy\"])"
   ]
  },
  {
   "cell_type": "markdown",
   "id": "6779aa04",
   "metadata": {},
   "source": [
    "## Train"
   ]
  },
  {
   "cell_type": "code",
   "execution_count": 14,
   "id": "eb63b362",
   "metadata": {},
   "outputs": [
    {
     "name": "stdout",
     "output_type": "stream",
     "text": [
      "Train on 646401 samples, validate on 138512 samples\n",
      "Epoch 1/25\n"
     ]
    },
    {
     "name": "stderr",
     "output_type": "stream",
     "text": [
      "2022-05-01 20:24:01.278151: W tensorflow/core/common_runtime/gpu/gpu_device.cc:1850] Cannot dlopen some GPU libraries. Please make sure the missing libraries mentioned above are installed properly if you would like to use GPU. Follow the guide at https://www.tensorflow.org/install/gpu for how to download and setup the required libraries for your platform.\n",
      "Skipping registering GPU devices...\n"
     ]
    },
    {
     "name": "stdout",
     "output_type": "stream",
     "text": [
      "646350/646401 [============================>.] - ETA: 0s - loss: 0.0583 - accuracy: 0.9792"
     ]
    },
    {
     "name": "stderr",
     "output_type": "stream",
     "text": [
      "/home/andressa.amaral/.local/lib/python3.7/site-packages/keras/engine/training_v1.py:2057: UserWarning: `Model.state_updates` will be removed in a future version. This property should not be used in TensorFlow 2.0, as `updates` are applied automatically.\n",
      "  updates = self.state_updates\n"
     ]
    },
    {
     "name": "stdout",
     "output_type": "stream",
     "text": [
      "646401/646401 [==============================] - 54s 84us/sample - loss: 0.0583 - accuracy: 0.9792 - val_loss: 0.0192 - val_accuracy: 0.9942 - lr: 0.0010\n",
      "Epoch 2/25\n",
      "646401/646401 [==============================] - 54s 83us/sample - loss: 0.0199 - accuracy: 0.9931 - val_loss: 0.0268 - val_accuracy: 0.9899 - lr: 0.0010\n",
      "Epoch 3/25\n",
      "646401/646401 [==============================] - 54s 83us/sample - loss: 0.0148 - accuracy: 0.9947 - val_loss: 0.0089 - val_accuracy: 0.9970 - lr: 0.0010\n",
      "Epoch 4/25\n",
      "646401/646401 [==============================] - 54s 83us/sample - loss: 0.0125 - accuracy: 0.9955 - val_loss: 0.0118 - val_accuracy: 0.9960 - lr: 0.0010\n",
      "Epoch 5/25\n",
      "646401/646401 [==============================] - 52s 80us/sample - loss: 0.0113 - accuracy: 0.9960 - val_loss: 0.0114 - val_accuracy: 0.9959 - lr: 0.0010\n",
      "Epoch 6/25\n",
      "646401/646401 [==============================] - 44s 68us/sample - loss: 0.0101 - accuracy: 0.9963 - val_loss: 0.0083 - val_accuracy: 0.9972 - lr: 0.0010\n",
      "Epoch 7/25\n",
      "646401/646401 [==============================] - 44s 68us/sample - loss: 0.0094 - accuracy: 0.9967 - val_loss: 0.0065 - val_accuracy: 0.9980 - lr: 0.0010\n",
      "Epoch 8/25\n",
      "646401/646401 [==============================] - 44s 68us/sample - loss: 0.0088 - accuracy: 0.9968 - val_loss: 0.0135 - val_accuracy: 0.9957 - lr: 0.0010\n",
      "Epoch 9/25\n",
      "646401/646401 [==============================] - 44s 68us/sample - loss: 0.0086 - accuracy: 0.9970 - val_loss: 0.0073 - val_accuracy: 0.9977 - lr: 0.0010\n",
      "Epoch 10/25\n",
      "646401/646401 [==============================] - 44s 68us/sample - loss: 0.0080 - accuracy: 0.9972 - val_loss: 0.0057 - val_accuracy: 0.9984 - lr: 0.0010\n",
      "Epoch 11/25\n",
      "646401/646401 [==============================] - 44s 68us/sample - loss: 0.0080 - accuracy: 0.9972 - val_loss: 0.0083 - val_accuracy: 0.9978 - lr: 0.0010\n",
      "Epoch 12/25\n",
      "646401/646401 [==============================] - 44s 68us/sample - loss: 0.0076 - accuracy: 0.9974 - val_loss: 0.0143 - val_accuracy: 0.9951 - lr: 0.0010\n",
      "Epoch 13/25\n",
      "646401/646401 [==============================] - 72s 112us/sample - loss: 0.0074 - accuracy: 0.9974 - val_loss: 0.0138 - val_accuracy: 0.9957 - lr: 0.0010\n",
      "Epoch 14/25\n",
      "646401/646401 [==============================] - 73s 113us/sample - loss: 0.0071 - accuracy: 0.9975 - val_loss: 0.0099 - val_accuracy: 0.9964 - lr: 0.0010\n",
      "Epoch 15/25\n",
      "646401/646401 [==============================] - 74s 114us/sample - loss: 0.0068 - accuracy: 0.9977 - val_loss: 0.0086 - val_accuracy: 0.9982 - lr: 0.0010\n",
      "Epoch 16/25\n",
      "646401/646401 [==============================] - 83s 128us/sample - loss: 0.0068 - accuracy: 0.9976 - val_loss: 0.0070 - val_accuracy: 0.9977 - lr: 0.0010\n",
      "Epoch 17/25\n",
      "646401/646401 [==============================] - 81s 126us/sample - loss: 0.0068 - accuracy: 0.9977 - val_loss: 0.0070 - val_accuracy: 0.9981 - lr: 0.0010\n",
      "Epoch 18/25\n",
      "646401/646401 [==============================] - 81s 126us/sample - loss: 0.0064 - accuracy: 0.9978 - val_loss: 0.0060 - val_accuracy: 0.9982 - lr: 0.0010\n",
      "Epoch 19/25\n",
      "646401/646401 [==============================] - 81s 126us/sample - loss: 0.0065 - accuracy: 0.9978 - val_loss: 0.0121 - val_accuracy: 0.9967 - lr: 0.0010\n",
      "Epoch 20/25\n",
      "646401/646401 [==============================] - 81s 126us/sample - loss: 0.0061 - accuracy: 0.9978 - val_loss: 0.0127 - val_accuracy: 0.9967 - lr: 0.0010\n",
      "Epoch 21/25\n",
      "646401/646401 [==============================] - 81s 126us/sample - loss: 0.0031 - accuracy: 0.9990 - val_loss: 0.0043 - val_accuracy: 0.9992 - lr: 1.0000e-04\n",
      "Epoch 22/25\n",
      "646401/646401 [==============================] - 81s 126us/sample - loss: 0.0023 - accuracy: 0.9993 - val_loss: 0.0040 - val_accuracy: 0.9994 - lr: 1.0000e-04\n",
      "Epoch 23/25\n",
      "646401/646401 [==============================] - 81s 126us/sample - loss: 0.0021 - accuracy: 0.9993 - val_loss: 0.0041 - val_accuracy: 0.9993 - lr: 1.0000e-04\n",
      "Epoch 24/25\n",
      "646401/646401 [==============================] - 81s 126us/sample - loss: 0.0020 - accuracy: 0.9993 - val_loss: 0.0037 - val_accuracy: 0.9995 - lr: 1.0000e-04\n",
      "Epoch 25/25\n",
      "646401/646401 [==============================] - 81s 126us/sample - loss: 0.0019 - accuracy: 0.9994 - val_loss: 0.0041 - val_accuracy: 0.9992 - lr: 1.0000e-04\n",
      "Training time: 1607.9820380210876\n"
     ]
    }
   ],
   "source": [
    "# Training step\n",
    "\n",
    "train_start = time.time()\n",
    "\n",
    "history = model.fit(X_train_CNN, Y_train_CNN, \n",
    "                    epochs = epochs, \n",
    "                    batch_size = batch_size,\n",
    "                    validation_data = (X_val_CNN, Y_val_CNN),\n",
    "                    callbacks = [reduce_lr])\n",
    "\n",
    "train_end = time.time()\n",
    "train_time = train_end - train_start\n",
    "print(\"Training time:\", train_time)"
   ]
  },
  {
   "cell_type": "code",
   "execution_count": 15,
   "id": "93decc54",
   "metadata": {},
   "outputs": [],
   "source": [
    "scores = model.evaluate(X_test_CNN, Y_test_CNN)"
   ]
  },
  {
   "cell_type": "markdown",
   "id": "c2f0d9f0",
   "metadata": {},
   "source": [
    "## Test"
   ]
  },
  {
   "cell_type": "code",
   "execution_count": 16,
   "id": "f10db7da",
   "metadata": {},
   "outputs": [
    {
     "name": "stderr",
     "output_type": "stream",
     "text": [
      "/home/andressa.amaral/.local/lib/python3.7/site-packages/keras/engine/training_v1.py:2079: UserWarning: `Model.state_updates` will be removed in a future version. This property should not be used in TensorFlow 2.0, as `updates` are applied automatically.\n",
      "  updates=self.state_updates,\n"
     ]
    },
    {
     "name": "stdout",
     "output_type": "stream",
     "text": [
      "Testing time: 7.929607391357422\n"
     ]
    }
   ],
   "source": [
    "# Testing step\n",
    "\n",
    "test_start = time.time()\n",
    "\n",
    "Y_pred = model.predict(X_test_CNN)\n",
    "\n",
    "test_end = time.time()\n",
    "test_time = test_end - test_start\n",
    "print(\"Testing time:\", test_time)"
   ]
  },
  {
   "cell_type": "code",
   "execution_count": 17,
   "id": "2536ee25",
   "metadata": {},
   "outputs": [],
   "source": [
    "Y_pred_CNN = np.argmax(Y_pred, axis = 1)\n",
    "Y_true_CNN = Y_test_CNN.astype(int)"
   ]
  },
  {
   "cell_type": "markdown",
   "id": "0529b9d1",
   "metadata": {},
   "source": [
    "## Metrics"
   ]
  },
  {
   "cell_type": "code",
   "execution_count": 18,
   "id": "a85179be",
   "metadata": {},
   "outputs": [],
   "source": [
    "labels = ['Mirai_Ack','Mirai_Scan','Mirai_Syn','Mirai_Udp','Mirai_Udpplain',\n",
    "          'Bashlite_Combo','Bashlite_Junk','Bashlite_Scan','Bashlite_Udp', 'Bashlite_Tcp']"
   ]
  },
  {
   "cell_type": "code",
   "execution_count": 19,
   "id": "2421d7d2",
   "metadata": {},
   "outputs": [],
   "source": [
    "# Multi classification metrics\n",
    "\n",
    "acc = accuracy_score(Y_true_CNN, Y_pred_CNN) \n",
    "f1 = f1_score(Y_true_CNN, Y_pred_CNN, average = 'weighted')\n",
    "pre = precision_score(Y_true_CNN, Y_pred_CNN, labels = None, pos_label = 1, average = 'weighted')\n",
    "recall = recall_score(Y_true_CNN, Y_pred_CNN, labels = None, pos_label = 1, average = 'weighted', sample_weight = None)"
   ]
  },
  {
   "cell_type": "code",
   "execution_count": 20,
   "id": "e9d1086c",
   "metadata": {},
   "outputs": [],
   "source": [
    "sys.stdout = open(\"Results/philips_monitor_cnn.txt\", \"a\")\n",
    "\n",
    "print(\" ==== Test \" + str(number_features) + \" features ====\")\n",
    "print(\"Training time:\" + str(train_time))\n",
    "print(\"Testing time:\" + str(test_time))\n",
    "print(\"Accuracy:\" + str(acc))\n",
    "print(\"F1-score:\" + str(f1))\n",
    "print(\"Accuracy:\" + str(pre))\n",
    "print(\"F1-score:\" + str(recall))\n",
    "print(classification_report(Y_true_CNN,Y_pred_CNN, target_names = labels))"
   ]
  },
  {
   "cell_type": "code",
   "execution_count": null,
   "id": "784d5fef",
   "metadata": {},
   "outputs": [],
   "source": []
  }
 ],
 "metadata": {
  "kernelspec": {
   "display_name": "Python 3 (ipykernel)",
   "language": "python",
   "name": "python3"
  },
  "language_info": {
   "codemirror_mode": {
    "name": "ipython",
    "version": 3
   },
   "file_extension": ".py",
   "mimetype": "text/x-python",
   "name": "python",
   "nbconvert_exporter": "python",
   "pygments_lexer": "ipython3",
   "version": "3.7.5"
  }
 },
 "nbformat": 4,
 "nbformat_minor": 5
}
