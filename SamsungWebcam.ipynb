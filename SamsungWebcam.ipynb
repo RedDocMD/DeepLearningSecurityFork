{
 "cells": [
  {
   "cell_type": "code",
   "execution_count": 1,
   "id": "615b49dc",
   "metadata": {},
   "outputs": [
    {
     "name": "stdout",
     "output_type": "stream",
     "text": [
      "Defaulting to user installation because normal site-packages is not writeable\n",
      "Requirement already satisfied: pandas in /home/andressa.amaral/.local/lib/python3.6/site-packages (1.1.5)\n",
      "Requirement already satisfied: pytz>=2017.2 in /home/andressa.amaral/.local/lib/python3.6/site-packages (from pandas) (2021.3)\n",
      "Requirement already satisfied: numpy>=1.15.4 in /home/andressa.amaral/.local/lib/python3.6/site-packages (from pandas) (1.19.5)\n",
      "Requirement already satisfied: python-dateutil>=2.7.3 in /home/andressa.amaral/.local/lib/python3.6/site-packages (from pandas) (2.8.2)\n",
      "Requirement already satisfied: six>=1.5 in /home/andressa.amaral/.local/lib/python3.6/site-packages (from python-dateutil>=2.7.3->pandas) (1.15.0)\n",
      "\u001b[33mWARNING: You are using pip version 21.0.1; however, version 21.3.1 is available.\n",
      "You should consider upgrading via the '/usr/bin/python3 -m pip install --upgrade pip' command.\u001b[0m\n",
      "Defaulting to user installation because normal site-packages is not writeable\n",
      "Requirement already satisfied: seaborn in /home/andressa.amaral/.local/lib/python3.6/site-packages (0.11.2)\n",
      "Requirement already satisfied: numpy>=1.15 in /home/andressa.amaral/.local/lib/python3.6/site-packages (from seaborn) (1.19.5)\n",
      "Requirement already satisfied: pandas>=0.23 in /home/andressa.amaral/.local/lib/python3.6/site-packages (from seaborn) (1.1.5)\n",
      "Requirement already satisfied: matplotlib>=2.2 in /home/andressa.amaral/.local/lib/python3.6/site-packages (from seaborn) (3.3.4)\n",
      "Requirement already satisfied: scipy>=1.0 in /home/andressa.amaral/.local/lib/python3.6/site-packages (from seaborn) (1.5.4)\n",
      "Requirement already satisfied: pillow>=6.2.0 in /home/andressa.amaral/.local/lib/python3.6/site-packages (from matplotlib>=2.2->seaborn) (8.1.2)\n",
      "Requirement already satisfied: kiwisolver>=1.0.1 in /home/andressa.amaral/.local/lib/python3.6/site-packages (from matplotlib>=2.2->seaborn) (1.3.1)\n",
      "Requirement already satisfied: cycler>=0.10 in /home/andressa.amaral/.local/lib/python3.6/site-packages (from matplotlib>=2.2->seaborn) (0.10.0)\n",
      "Requirement already satisfied: pyparsing!=2.0.4,!=2.1.2,!=2.1.6,>=2.0.3 in /usr/lib/python3/dist-packages (from matplotlib>=2.2->seaborn) (2.2.0)\n",
      "Requirement already satisfied: python-dateutil>=2.1 in /home/andressa.amaral/.local/lib/python3.6/site-packages (from matplotlib>=2.2->seaborn) (2.8.2)\n",
      "Requirement already satisfied: six in /home/andressa.amaral/.local/lib/python3.6/site-packages (from cycler>=0.10->matplotlib>=2.2->seaborn) (1.15.0)\n",
      "Requirement already satisfied: pytz>=2017.2 in /home/andressa.amaral/.local/lib/python3.6/site-packages (from pandas>=0.23->seaborn) (2021.3)\n",
      "\u001b[33mWARNING: You are using pip version 21.0.1; however, version 21.3.1 is available.\n",
      "You should consider upgrading via the '/usr/bin/python3 -m pip install --upgrade pip' command.\u001b[0m\n",
      "Defaulting to user installation because normal site-packages is not writeable\n",
      "Requirement already satisfied: tensorflow-gpu in /home/andressa.amaral/.local/lib/python3.6/site-packages (2.6.2)\n",
      "Requirement already satisfied: keras<2.7,>=2.6.0 in /home/andressa.amaral/.local/lib/python3.6/site-packages (from tensorflow-gpu) (2.6.0)\n",
      "Requirement already satisfied: typing-extensions~=3.7.4 in /home/andressa.amaral/.local/lib/python3.6/site-packages (from tensorflow-gpu) (3.7.4.3)\n",
      "Requirement already satisfied: keras-preprocessing~=1.1.2 in /home/andressa.amaral/.local/lib/python3.6/site-packages (from tensorflow-gpu) (1.1.2)\n",
      "Requirement already satisfied: protobuf>=3.9.2 in /home/andressa.amaral/.local/lib/python3.6/site-packages (from tensorflow-gpu) (3.19.4)\n",
      "Requirement already satisfied: absl-py~=0.10 in /home/andressa.amaral/.local/lib/python3.6/site-packages (from tensorflow-gpu) (0.15.0)\n",
      "Requirement already satisfied: termcolor~=1.1.0 in /usr/local/lib/python3.6/dist-packages (from tensorflow-gpu) (1.1.0)\n",
      "Requirement already satisfied: wrapt~=1.12.1 in /home/andressa.amaral/.local/lib/python3.6/site-packages (from tensorflow-gpu) (1.12.1)\n",
      "Requirement already satisfied: astunparse~=1.6.3 in /home/andressa.amaral/.local/lib/python3.6/site-packages (from tensorflow-gpu) (1.6.3)\n",
      "Requirement already satisfied: gast==0.4.0 in /home/andressa.amaral/.local/lib/python3.6/site-packages (from tensorflow-gpu) (0.4.0)\n",
      "Requirement already satisfied: grpcio<2.0,>=1.37.0 in /home/andressa.amaral/.local/lib/python3.6/site-packages (from tensorflow-gpu) (1.43.0)\n",
      "Requirement already satisfied: tensorflow-estimator<2.7,>=2.6.0 in /home/andressa.amaral/.local/lib/python3.6/site-packages (from tensorflow-gpu) (2.6.0)\n",
      "Requirement already satisfied: tensorboard<2.7,>=2.6.0 in /home/andressa.amaral/.local/lib/python3.6/site-packages (from tensorflow-gpu) (2.6.0)\n",
      "Requirement already satisfied: six~=1.15.0 in /home/andressa.amaral/.local/lib/python3.6/site-packages (from tensorflow-gpu) (1.15.0)\n",
      "Requirement already satisfied: numpy~=1.19.2 in /home/andressa.amaral/.local/lib/python3.6/site-packages (from tensorflow-gpu) (1.19.5)\n",
      "Requirement already satisfied: wheel~=0.35 in /home/andressa.amaral/.local/lib/python3.6/site-packages (from tensorflow-gpu) (0.37.1)\n",
      "Requirement already satisfied: clang~=5.0 in /home/andressa.amaral/.local/lib/python3.6/site-packages (from tensorflow-gpu) (5.0)\n",
      "Requirement already satisfied: flatbuffers~=1.12.0 in /home/andressa.amaral/.local/lib/python3.6/site-packages (from tensorflow-gpu) (1.12)\n",
      "Requirement already satisfied: h5py~=3.1.0 in /home/andressa.amaral/.local/lib/python3.6/site-packages (from tensorflow-gpu) (3.1.0)\n",
      "Requirement already satisfied: google-pasta~=0.2 in /home/andressa.amaral/.local/lib/python3.6/site-packages (from tensorflow-gpu) (0.2.0)\n",
      "Requirement already satisfied: opt-einsum~=3.3.0 in /home/andressa.amaral/.local/lib/python3.6/site-packages (from tensorflow-gpu) (3.3.0)\n",
      "Requirement already satisfied: cached-property in /home/andressa.amaral/.local/lib/python3.6/site-packages (from h5py~=3.1.0->tensorflow-gpu) (1.5.2)\n",
      "Requirement already satisfied: tensorboard-plugin-wit>=1.6.0 in /home/andressa.amaral/.local/lib/python3.6/site-packages (from tensorboard<2.7,>=2.6.0->tensorflow-gpu) (1.8.1)\n",
      "Requirement already satisfied: tensorboard-data-server<0.7.0,>=0.6.0 in /home/andressa.amaral/.local/lib/python3.6/site-packages (from tensorboard<2.7,>=2.6.0->tensorflow-gpu) (0.6.1)\n",
      "Requirement already satisfied: markdown>=2.6.8 in /usr/local/lib/python3.6/dist-packages (from tensorboard<2.7,>=2.6.0->tensorflow-gpu) (3.1.1)\n",
      "Requirement already satisfied: requests<3,>=2.21.0 in /home/andressa.amaral/.local/lib/python3.6/site-packages (from tensorboard<2.7,>=2.6.0->tensorflow-gpu) (2.27.1)\n",
      "Requirement already satisfied: google-auth<2,>=1.6.3 in /home/andressa.amaral/.local/lib/python3.6/site-packages (from tensorboard<2.7,>=2.6.0->tensorflow-gpu) (1.35.0)\n",
      "Requirement already satisfied: google-auth-oauthlib<0.5,>=0.4.1 in /home/andressa.amaral/.local/lib/python3.6/site-packages (from tensorboard<2.7,>=2.6.0->tensorflow-gpu) (0.4.6)\n",
      "Requirement already satisfied: setuptools>=41.0.0 in /usr/local/lib/python3.6/dist-packages (from tensorboard<2.7,>=2.6.0->tensorflow-gpu) (41.2.0)\n",
      "Requirement already satisfied: werkzeug>=0.11.15 in /usr/local/lib/python3.6/dist-packages (from tensorboard<2.7,>=2.6.0->tensorflow-gpu) (0.15.5)\n",
      "Requirement already satisfied: pyasn1-modules>=0.2.1 in /home/andressa.amaral/.local/lib/python3.6/site-packages (from google-auth<2,>=1.6.3->tensorboard<2.7,>=2.6.0->tensorflow-gpu) (0.2.8)\n",
      "Requirement already satisfied: rsa<5,>=3.1.4 in /home/andressa.amaral/.local/lib/python3.6/site-packages (from google-auth<2,>=1.6.3->tensorboard<2.7,>=2.6.0->tensorflow-gpu) (4.8)\n",
      "Requirement already satisfied: cachetools<5.0,>=2.0.0 in /home/andressa.amaral/.local/lib/python3.6/site-packages (from google-auth<2,>=1.6.3->tensorboard<2.7,>=2.6.0->tensorflow-gpu) (4.2.4)\n",
      "Requirement already satisfied: requests-oauthlib>=0.7.0 in /home/andressa.amaral/.local/lib/python3.6/site-packages (from google-auth-oauthlib<0.5,>=0.4.1->tensorboard<2.7,>=2.6.0->tensorflow-gpu) (1.3.1)\n",
      "Requirement already satisfied: pyasn1<0.5.0,>=0.4.6 in /home/andressa.amaral/.local/lib/python3.6/site-packages (from pyasn1-modules>=0.2.1->google-auth<2,>=1.6.3->tensorboard<2.7,>=2.6.0->tensorflow-gpu) (0.4.8)\n",
      "Requirement already satisfied: idna<4,>=2.5 in /usr/lib/python3/dist-packages (from requests<3,>=2.21.0->tensorboard<2.7,>=2.6.0->tensorflow-gpu) (2.6)\n",
      "Requirement already satisfied: urllib3<1.27,>=1.21.1 in /usr/lib/python3/dist-packages (from requests<3,>=2.21.0->tensorboard<2.7,>=2.6.0->tensorflow-gpu) (1.22)\n",
      "Requirement already satisfied: charset-normalizer~=2.0.0 in /home/andressa.amaral/.local/lib/python3.6/site-packages (from requests<3,>=2.21.0->tensorboard<2.7,>=2.6.0->tensorflow-gpu) (2.0.11)\n",
      "Requirement already satisfied: certifi>=2017.4.17 in /usr/lib/python3/dist-packages (from requests<3,>=2.21.0->tensorboard<2.7,>=2.6.0->tensorflow-gpu) (2018.1.18)\n",
      "Requirement already satisfied: oauthlib>=3.0.0 in /home/andressa.amaral/.local/lib/python3.6/site-packages (from requests-oauthlib>=0.7.0->google-auth-oauthlib<0.5,>=0.4.1->tensorboard<2.7,>=2.6.0->tensorflow-gpu) (3.2.0)\n"
     ]
    },
    {
     "name": "stdout",
     "output_type": "stream",
     "text": [
      "\u001b[33mWARNING: You are using pip version 21.0.1; however, version 21.3.1 is available.\n",
      "You should consider upgrading via the '/usr/bin/python3 -m pip install --upgrade pip' command.\u001b[0m\n",
      "Defaulting to user installation because normal site-packages is not writeable\n",
      "Requirement already satisfied: import-ipynb in /home/andressa.amaral/.local/lib/python3.6/site-packages (0.1.3)\n",
      "\u001b[33mWARNING: You are using pip version 21.0.1; however, version 21.3.1 is available.\n",
      "You should consider upgrading via the '/usr/bin/python3 -m pip install --upgrade pip' command.\u001b[0m\n",
      "importing Jupyter notebook from VariationalAutoencoderModel.ipynb\n",
      "Defaulting to user installation because normal site-packages is not writeable\n",
      "Requirement already satisfied: pandas in /home/andressa.amaral/.local/lib/python3.6/site-packages (1.1.5)\n",
      "Requirement already satisfied: numpy>=1.15.4 in /home/andressa.amaral/.local/lib/python3.6/site-packages (from pandas) (1.19.5)\n",
      "Requirement already satisfied: pytz>=2017.2 in /home/andressa.amaral/.local/lib/python3.6/site-packages (from pandas) (2021.3)\n",
      "Requirement already satisfied: python-dateutil>=2.7.3 in /home/andressa.amaral/.local/lib/python3.6/site-packages (from pandas) (2.8.2)\n",
      "Requirement already satisfied: six>=1.5 in /home/andressa.amaral/.local/lib/python3.6/site-packages (from python-dateutil>=2.7.3->pandas) (1.15.0)\n",
      "\u001b[33mWARNING: You are using pip version 21.0.1; however, version 21.3.1 is available.\n",
      "You should consider upgrading via the '/usr/bin/python3 -m pip install --upgrade pip' command.\u001b[0m\n",
      "Defaulting to user installation because normal site-packages is not writeable\n",
      "Requirement already satisfied: seaborn in /home/andressa.amaral/.local/lib/python3.6/site-packages (0.11.2)\n",
      "Requirement already satisfied: matplotlib>=2.2 in /home/andressa.amaral/.local/lib/python3.6/site-packages (from seaborn) (3.3.4)\n",
      "Requirement already satisfied: numpy>=1.15 in /home/andressa.amaral/.local/lib/python3.6/site-packages (from seaborn) (1.19.5)\n",
      "Requirement already satisfied: pandas>=0.23 in /home/andressa.amaral/.local/lib/python3.6/site-packages (from seaborn) (1.1.5)\n",
      "Requirement already satisfied: scipy>=1.0 in /home/andressa.amaral/.local/lib/python3.6/site-packages (from seaborn) (1.5.4)\n",
      "Requirement already satisfied: pillow>=6.2.0 in /home/andressa.amaral/.local/lib/python3.6/site-packages (from matplotlib>=2.2->seaborn) (8.1.2)\n",
      "Requirement already satisfied: pyparsing!=2.0.4,!=2.1.2,!=2.1.6,>=2.0.3 in /usr/lib/python3/dist-packages (from matplotlib>=2.2->seaborn) (2.2.0)\n",
      "Requirement already satisfied: cycler>=0.10 in /home/andressa.amaral/.local/lib/python3.6/site-packages (from matplotlib>=2.2->seaborn) (0.10.0)\n",
      "Requirement already satisfied: python-dateutil>=2.1 in /home/andressa.amaral/.local/lib/python3.6/site-packages (from matplotlib>=2.2->seaborn) (2.8.2)\n",
      "Requirement already satisfied: kiwisolver>=1.0.1 in /home/andressa.amaral/.local/lib/python3.6/site-packages (from matplotlib>=2.2->seaborn) (1.3.1)\n",
      "Requirement already satisfied: six in /home/andressa.amaral/.local/lib/python3.6/site-packages (from cycler>=0.10->matplotlib>=2.2->seaborn) (1.15.0)\n",
      "Requirement already satisfied: pytz>=2017.2 in /home/andressa.amaral/.local/lib/python3.6/site-packages (from pandas>=0.23->seaborn) (2021.3)\n",
      "\u001b[33mWARNING: You are using pip version 21.0.1; however, version 21.3.1 is available.\n",
      "You should consider upgrading via the '/usr/bin/python3 -m pip install --upgrade pip' command.\u001b[0m\n",
      "Defaulting to user installation because normal site-packages is not writeable\n",
      "Requirement already satisfied: tensorflow-gpu in /home/andressa.amaral/.local/lib/python3.6/site-packages (2.6.2)\n",
      "Requirement already satisfied: h5py~=3.1.0 in /home/andressa.amaral/.local/lib/python3.6/site-packages (from tensorflow-gpu) (3.1.0)\n",
      "Requirement already satisfied: flatbuffers~=1.12.0 in /home/andressa.amaral/.local/lib/python3.6/site-packages (from tensorflow-gpu) (1.12)\n",
      "Requirement already satisfied: astunparse~=1.6.3 in /home/andressa.amaral/.local/lib/python3.6/site-packages (from tensorflow-gpu) (1.6.3)\n",
      "Requirement already satisfied: wheel~=0.35 in /home/andressa.amaral/.local/lib/python3.6/site-packages (from tensorflow-gpu) (0.37.1)\n",
      "Requirement already satisfied: keras-preprocessing~=1.1.2 in /home/andressa.amaral/.local/lib/python3.6/site-packages (from tensorflow-gpu) (1.1.2)\n",
      "Requirement already satisfied: keras<2.7,>=2.6.0 in /home/andressa.amaral/.local/lib/python3.6/site-packages (from tensorflow-gpu) (2.6.0)\n",
      "Requirement already satisfied: tensorflow-estimator<2.7,>=2.6.0 in /home/andressa.amaral/.local/lib/python3.6/site-packages (from tensorflow-gpu) (2.6.0)\n",
      "Requirement already satisfied: six~=1.15.0 in /home/andressa.amaral/.local/lib/python3.6/site-packages (from tensorflow-gpu) (1.15.0)\n",
      "Requirement already satisfied: tensorboard<2.7,>=2.6.0 in /home/andressa.amaral/.local/lib/python3.6/site-packages (from tensorflow-gpu) (2.6.0)\n",
      "Requirement already satisfied: protobuf>=3.9.2 in /home/andressa.amaral/.local/lib/python3.6/site-packages (from tensorflow-gpu) (3.19.4)\n",
      "Requirement already satisfied: typing-extensions~=3.7.4 in /home/andressa.amaral/.local/lib/python3.6/site-packages (from tensorflow-gpu) (3.7.4.3)\n",
      "Requirement already satisfied: clang~=5.0 in /home/andressa.amaral/.local/lib/python3.6/site-packages (from tensorflow-gpu) (5.0)\n",
      "Requirement already satisfied: gast==0.4.0 in /home/andressa.amaral/.local/lib/python3.6/site-packages (from tensorflow-gpu) (0.4.0)\n",
      "Requirement already satisfied: grpcio<2.0,>=1.37.0 in /home/andressa.amaral/.local/lib/python3.6/site-packages (from tensorflow-gpu) (1.43.0)\n",
      "Requirement already satisfied: absl-py~=0.10 in /home/andressa.amaral/.local/lib/python3.6/site-packages (from tensorflow-gpu) (0.15.0)\n",
      "Requirement already satisfied: google-pasta~=0.2 in /home/andressa.amaral/.local/lib/python3.6/site-packages (from tensorflow-gpu) (0.2.0)\n",
      "Requirement already satisfied: termcolor~=1.1.0 in /usr/local/lib/python3.6/dist-packages (from tensorflow-gpu) (1.1.0)\n",
      "Requirement already satisfied: numpy~=1.19.2 in /home/andressa.amaral/.local/lib/python3.6/site-packages (from tensorflow-gpu) (1.19.5)\n",
      "Requirement already satisfied: wrapt~=1.12.1 in /home/andressa.amaral/.local/lib/python3.6/site-packages (from tensorflow-gpu) (1.12.1)\n",
      "Requirement already satisfied: opt-einsum~=3.3.0 in /home/andressa.amaral/.local/lib/python3.6/site-packages (from tensorflow-gpu) (3.3.0)\n",
      "Requirement already satisfied: cached-property in /home/andressa.amaral/.local/lib/python3.6/site-packages (from h5py~=3.1.0->tensorflow-gpu) (1.5.2)\n",
      "Requirement already satisfied: requests<3,>=2.21.0 in /home/andressa.amaral/.local/lib/python3.6/site-packages (from tensorboard<2.7,>=2.6.0->tensorflow-gpu) (2.27.1)\n",
      "Requirement already satisfied: google-auth-oauthlib<0.5,>=0.4.1 in /home/andressa.amaral/.local/lib/python3.6/site-packages (from tensorboard<2.7,>=2.6.0->tensorflow-gpu) (0.4.6)\n",
      "Requirement already satisfied: google-auth<2,>=1.6.3 in /home/andressa.amaral/.local/lib/python3.6/site-packages (from tensorboard<2.7,>=2.6.0->tensorflow-gpu) (1.35.0)\n",
      "Requirement already satisfied: tensorboard-plugin-wit>=1.6.0 in /home/andressa.amaral/.local/lib/python3.6/site-packages (from tensorboard<2.7,>=2.6.0->tensorflow-gpu) (1.8.1)\n",
      "Requirement already satisfied: werkzeug>=0.11.15 in /usr/local/lib/python3.6/dist-packages (from tensorboard<2.7,>=2.6.0->tensorflow-gpu) (0.15.5)\n",
      "Requirement already satisfied: markdown>=2.6.8 in /usr/local/lib/python3.6/dist-packages (from tensorboard<2.7,>=2.6.0->tensorflow-gpu) (3.1.1)\n",
      "Requirement already satisfied: tensorboard-data-server<0.7.0,>=0.6.0 in /home/andressa.amaral/.local/lib/python3.6/site-packages (from tensorboard<2.7,>=2.6.0->tensorflow-gpu) (0.6.1)\n",
      "Requirement already satisfied: setuptools>=41.0.0 in /usr/local/lib/python3.6/dist-packages (from tensorboard<2.7,>=2.6.0->tensorflow-gpu) (41.2.0)\n",
      "Requirement already satisfied: cachetools<5.0,>=2.0.0 in /home/andressa.amaral/.local/lib/python3.6/site-packages (from google-auth<2,>=1.6.3->tensorboard<2.7,>=2.6.0->tensorflow-gpu) (4.2.4)\n",
      "Requirement already satisfied: pyasn1-modules>=0.2.1 in /home/andressa.amaral/.local/lib/python3.6/site-packages (from google-auth<2,>=1.6.3->tensorboard<2.7,>=2.6.0->tensorflow-gpu) (0.2.8)\n",
      "Requirement already satisfied: rsa<5,>=3.1.4 in /home/andressa.amaral/.local/lib/python3.6/site-packages (from google-auth<2,>=1.6.3->tensorboard<2.7,>=2.6.0->tensorflow-gpu) (4.8)\n",
      "Requirement already satisfied: requests-oauthlib>=0.7.0 in /home/andressa.amaral/.local/lib/python3.6/site-packages (from google-auth-oauthlib<0.5,>=0.4.1->tensorboard<2.7,>=2.6.0->tensorflow-gpu) (1.3.1)\n"
     ]
    },
    {
     "name": "stdout",
     "output_type": "stream",
     "text": [
      "Requirement already satisfied: pyasn1<0.5.0,>=0.4.6 in /home/andressa.amaral/.local/lib/python3.6/site-packages (from pyasn1-modules>=0.2.1->google-auth<2,>=1.6.3->tensorboard<2.7,>=2.6.0->tensorflow-gpu) (0.4.8)\n",
      "Requirement already satisfied: charset-normalizer~=2.0.0 in /home/andressa.amaral/.local/lib/python3.6/site-packages (from requests<3,>=2.21.0->tensorboard<2.7,>=2.6.0->tensorflow-gpu) (2.0.11)\n",
      "Requirement already satisfied: urllib3<1.27,>=1.21.1 in /usr/lib/python3/dist-packages (from requests<3,>=2.21.0->tensorboard<2.7,>=2.6.0->tensorflow-gpu) (1.22)\n",
      "Requirement already satisfied: idna<4,>=2.5 in /usr/lib/python3/dist-packages (from requests<3,>=2.21.0->tensorboard<2.7,>=2.6.0->tensorflow-gpu) (2.6)\n",
      "Requirement already satisfied: certifi>=2017.4.17 in /usr/lib/python3/dist-packages (from requests<3,>=2.21.0->tensorboard<2.7,>=2.6.0->tensorflow-gpu) (2018.1.18)\n",
      "Requirement already satisfied: oauthlib>=3.0.0 in /home/andressa.amaral/.local/lib/python3.6/site-packages (from requests-oauthlib>=0.7.0->google-auth-oauthlib<0.5,>=0.4.1->tensorboard<2.7,>=2.6.0->tensorflow-gpu) (3.2.0)\n",
      "\u001b[33mWARNING: You are using pip version 21.0.1; however, version 21.3.1 is available.\n",
      "You should consider upgrading via the '/usr/bin/python3 -m pip install --upgrade pip' command.\u001b[0m\n"
     ]
    }
   ],
   "source": [
    "!pip3 install pandas\n",
    "!pip3 install seaborn\n",
    "!pip3 install --upgrade tensorflow-gpu\n",
    "!pip3 install import-ipynb\n",
    "\n",
    "from datetime import datetime\n",
    "import matplotlib.pyplot as plt\n",
    "import seaborn as sns\n",
    "import numpy as np\n",
    "import pandas as pd\n",
    "import math\n",
    "import pickle\n",
    "import time\n",
    "import sys\n",
    "\n",
    "import import_ipynb\n",
    "import VariationalAutoencoderModel\n",
    "\n",
    "import tensorflow as tf\n",
    "tf.compat.v1.disable_eager_execution()\n",
    "from tensorflow.keras.models import Model\n",
    "from tensorflow.keras.layers import Lambda, Input, Dense\n",
    "from tensorflow.keras.losses import mse\n",
    "from tensorflow.keras import optimizers\n",
    "from tensorflow.keras import backend as K\n",
    "\n",
    "from sklearn.pipeline import Pipeline\n",
    "from sklearn.preprocessing import MinMaxScaler\n",
    "from sklearn.decomposition import PCA\n",
    "from sklearn.metrics import classification_report, mean_squared_error, confusion_matrix, accuracy_score, f1_score, precision_score, recall_score\n",
    "\n",
    "%matplotlib inline"
   ]
  },
  {
   "cell_type": "code",
   "execution_count": 2,
   "id": "b54cf187",
   "metadata": {},
   "outputs": [],
   "source": [
    "gpu_options = tf.compat.v1.GPUOptions(per_process_gpu_memory_fraction = 0.333)\n",
    "sess = tf.compat.v1.Session(config = tf.compat.v1.ConfigProto(gpu_options = gpu_options))"
   ]
  },
  {
   "cell_type": "markdown",
   "id": "fc6d1025",
   "metadata": {},
   "source": [
    "# Samsung Webcam Data Pre-Processing"
   ]
  },
  {
   "cell_type": "code",
   "execution_count": 3,
   "id": "2aeb764b",
   "metadata": {},
   "outputs": [],
   "source": [
    "# Benign traffic\n",
    "\n",
    "sw_benign = pd.read_csv('nbaiot/Samsung_SNH_1011_N_Webcam/benign_traffic.csv', encoding = \"utf-8\", sep = ',' ) \n",
    "df_sw_benign = sw_benign.copy(deep=True)\n",
    "\n",
    "columns = list(df_sw_benign.columns)\n",
    "chosen_columns = []\n",
    "for column in columns:\n",
    "    if column.find('L5') != -1 or column.find('L3') != -1 or column.find('L1') != -1:\n",
    "        chosen_columns.append(column)\n",
    "        \n",
    "df_sw_benign = pd.DataFrame(df_sw_benign, columns = chosen_columns)\n",
    "\n",
    "# Bashlite\n",
    "\n",
    "sw_bashlite_combo = pd.read_csv('nbaiot/Samsung_SNH_1011_N_Webcam/gafgyt/combo.csv', encoding = \"utf-8\", sep = ',' ) \n",
    "df_sw_bashlite_combo = sw_bashlite_combo.copy(deep=True)\n",
    "df_sw_bashlite_combo = pd.DataFrame(df_sw_bashlite_combo, columns = chosen_columns)\n",
    "\n",
    "sw_bashlite_junk = pd.read_csv('nbaiot/Samsung_SNH_1011_N_Webcam/gafgyt/junk.csv', encoding = \"utf-8\", sep = ',' ) \n",
    "df_sw_bashlite_junk = sw_bashlite_junk.copy(deep=True)\n",
    "df_sw_bashlite_junk = pd.DataFrame(df_sw_bashlite_junk, columns = chosen_columns)\n",
    "\n",
    "sw_bashlite_scan = pd.read_csv('nbaiot/Samsung_SNH_1011_N_Webcam/gafgyt/scan.csv', encoding = \"utf-8\", sep = ',' ) \n",
    "df_sw_bashlite_scan = sw_bashlite_scan.copy(deep=True)\n",
    "df_sw_bashlite_scan = pd.DataFrame(df_sw_bashlite_scan, columns = chosen_columns)\n",
    "\n",
    "sw_bashlite_udp = pd.read_csv('nbaiot/Samsung_SNH_1011_N_Webcam/gafgyt/udp.csv', encoding = \"utf-8\", sep = ',' ) \n",
    "df_sw_bashlite_udp = sw_bashlite_udp.copy(deep=True)\n",
    "df_sw_bashlite_udp = pd.DataFrame(df_sw_bashlite_udp, columns = chosen_columns)\n",
    "\n",
    "sw_bashlite_tcp = pd.read_csv('nbaiot/Samsung_SNH_1011_N_Webcam/gafgyt/tcp.csv', encoding = \"utf-8\", sep = ',' ) \n",
    "df_sw_bashlite_tcp = sw_bashlite_tcp.copy(deep=True)\n",
    "df_sw_bashlite_tcp = pd.DataFrame(df_sw_bashlite_tcp, columns = chosen_columns)"
   ]
  },
  {
   "cell_type": "code",
   "execution_count": 4,
   "id": "3c043e13",
   "metadata": {},
   "outputs": [],
   "source": [
    "scaler = MinMaxScaler()\n",
    "df_sw_benign_norm = scaler.fit_transform(df_sw_benign)\n",
    "\n",
    "df_sw_bashlitecombo_norm = scaler.fit_transform(df_sw_bashlite_combo)\n",
    "df_sw_bashlitejunk_norm = scaler.fit_transform(df_sw_bashlite_junk)\n",
    "df_sw_bashlitescan_norm = scaler.fit_transform(df_sw_bashlite_scan)\n",
    "df_sw_bashliteudp_norm = scaler.fit_transform(df_sw_bashlite_udp)\n",
    "df_sw_bashlitetcp_norm = scaler.fit_transform(df_sw_bashlite_tcp)"
   ]
  },
  {
   "cell_type": "markdown",
   "id": "a2c7f5c9",
   "metadata": {},
   "source": [
    "# Variational Autoencoder - Attack Detection"
   ]
  },
  {
   "cell_type": "markdown",
   "id": "ae66a5a1",
   "metadata": {},
   "source": [
    "## Model"
   ]
  },
  {
   "cell_type": "code",
   "execution_count": 5,
   "id": "6b12dbe4",
   "metadata": {},
   "outputs": [],
   "source": [
    "# Train set\n",
    "\n",
    "len_benign = len(df_sw_benign_norm)\n",
    "len_benign_train = int(0.7 * len_benign)\n",
    "X_train_VAE = df_sw_benign_norm[:len_benign_train]\n",
    "\n",
    "# Test set - 30% benign and the rest is attack\n",
    "\n",
    "X_test_benign = df_sw_benign_norm[len_benign_train:]\n",
    "\n",
    "len_attack_test = len(X_test_benign)\n",
    "X_test_bashlite_combo = df_sw_bashlitecombo_norm\n",
    "X_test_bashlite_junk = df_sw_bashlitejunk_norm\n",
    "X_test_bashlite_scan = df_sw_bashlitescan_norm\n",
    "X_test_bashlite_tcp = df_sw_bashlitetcp_norm\n",
    "X_test_bashlite_udp = df_sw_bashliteudp_norm\n",
    "\n",
    "X_test_VAE = np.concatenate([X_test_benign, X_test_bashlite_combo, X_test_bashlite_junk, X_test_bashlite_scan,\n",
    "                             X_test_bashlite_tcp, X_test_bashlite_udp])\n",
    "\n",
    "Y_test_VAE = np.ones(len(X_test_VAE))\n",
    "Y_test_VAE[:len(X_test_benign)] = 0"
   ]
  },
  {
   "cell_type": "code",
   "execution_count": 6,
   "id": "f6ff0b5f",
   "metadata": {},
   "outputs": [],
   "source": [
    "# KL Loss function\n",
    "\n",
    "def vae_loss(x, x_decoded_mean):\n",
    "    # Compute the average MSE error, then scale it up (sum on all axes)\n",
    "    \n",
    "    reconstruction_loss = K.sum(K.square(x - x_decoded_mean))\n",
    "    \n",
    "    # Compute the KL loss\n",
    "    \n",
    "    kl_loss = - 0.5 * K.sum(1 + z_var - K.square(z_mean) - K.square(K.exp(z_var)), axis=-1)\n",
    "    \n",
    "    # Return the average loss over all \n",
    "    \n",
    "    total_loss = K.mean(reconstruction_loss + kl_loss) # Total_loss = reconstruction_loss + kl_loss \n",
    "    return total_loss\n",
    "\n",
    "# (1) Reconstruction Loss - Forces the encoder to generate latent features that minimize the reconstruction error, or else is\n",
    "# penalized\n",
    "# (2) KL Loss - Forces the distribution generated by the encoder to be similar to the prior probability of the input vector, \n",
    "# pushing latent feature space to normality"
   ]
  },
  {
   "cell_type": "code",
   "execution_count": 7,
   "id": "be9e907e",
   "metadata": {},
   "outputs": [],
   "source": [
    "# Parameters\n",
    "\n",
    "original_dim = X_train_VAE.shape[1]\n",
    "input_shape = (original_dim,)\n",
    "intermediate_dim = int(original_dim / 2)\n",
    "latent_dim = int(original_dim / 3)\n",
    "\n",
    "epochs = 150\n",
    "learning_rate = 0.0001\n",
    "batch_size = 32\n",
    "anomaly_threshold = 0.05\n",
    "number_features = 69"
   ]
  },
  {
   "cell_type": "code",
   "execution_count": 8,
   "id": "66625817",
   "metadata": {},
   "outputs": [
    {
     "name": "stdout",
     "output_type": "stream",
     "text": [
      "Model: \"encoder\"\n",
      "__________________________________________________________________________________________________\n",
      "Layer (type)                    Output Shape         Param #     Connected to                     \n",
      "==================================================================================================\n",
      "encoder_input (InputLayer)      [(None, 69)]         0                                            \n",
      "__________________________________________________________________________________________________\n",
      "dense (Dense)                   (None, 34)           2380        encoder_input[0][0]              \n",
      "__________________________________________________________________________________________________\n",
      "z_mean (Dense)                  (None, 23)           805         dense[0][0]                      \n",
      "__________________________________________________________________________________________________\n",
      "z_var (Dense)                   (None, 23)           805         dense[0][0]                      \n",
      "__________________________________________________________________________________________________\n",
      "z (Lambda)                      (None, 23)           0           z_mean[0][0]                     \n",
      "                                                                 z_var[0][0]                      \n",
      "==================================================================================================\n",
      "Total params: 3,990\n",
      "Trainable params: 3,990\n",
      "Non-trainable params: 0\n",
      "__________________________________________________________________________________________________\n"
     ]
    }
   ],
   "source": [
    "# Encoder\n",
    "\n",
    "inputs, encoder, z_var, z_mean = VariationalAutoencoderModel.vae_encoder(\n",
    "    input_shape, \n",
    "    intermediate_dim, \n",
    "    latent_dim, \n",
    "    VariationalAutoencoderModel.sample)\n",
    "\n",
    "encoder.summary()"
   ]
  },
  {
   "cell_type": "code",
   "execution_count": 9,
   "id": "c86f3bed",
   "metadata": {},
   "outputs": [
    {
     "name": "stdout",
     "output_type": "stream",
     "text": [
      "Model: \"decoder\"\n",
      "_________________________________________________________________\n",
      "Layer (type)                 Output Shape              Param #   \n",
      "=================================================================\n",
      "z_sampling (InputLayer)      [(None, 23)]              0         \n",
      "_________________________________________________________________\n",
      "dense_1 (Dense)              (None, 34)                816       \n",
      "_________________________________________________________________\n",
      "dense_2 (Dense)              (None, 69)                2415      \n",
      "=================================================================\n",
      "Total params: 3,231\n",
      "Trainable params: 3,231\n",
      "Non-trainable params: 0\n",
      "_________________________________________________________________\n"
     ]
    }
   ],
   "source": [
    "# Decoder\n",
    "\n",
    "decoder = VariationalAutoencoderModel.vae_decoder(\n",
    "    intermediate_dim,\n",
    "    latent_dim,\n",
    "    original_dim)\n",
    "\n",
    "decoder.summary()"
   ]
  },
  {
   "cell_type": "code",
   "execution_count": 10,
   "id": "02ddec4d",
   "metadata": {},
   "outputs": [
    {
     "name": "stdout",
     "output_type": "stream",
     "text": [
      "Model: \"vae_mlp\"\n",
      "_________________________________________________________________\n",
      "Layer (type)                 Output Shape              Param #   \n",
      "=================================================================\n",
      "encoder_input (InputLayer)   [(None, 69)]              0         \n",
      "_________________________________________________________________\n",
      "encoder (Functional)         (None, 23)                3990      \n",
      "_________________________________________________________________\n",
      "decoder (Functional)         (None, 69)                3231      \n",
      "=================================================================\n",
      "Total params: 7,221\n",
      "Trainable params: 7,221\n",
      "Non-trainable params: 0\n",
      "_________________________________________________________________\n"
     ]
    }
   ],
   "source": [
    "# VAE model\n",
    "\n",
    "outputs = decoder(encoder(inputs))\n",
    "\n",
    "opt = optimizers.Adam(learning_rate = learning_rate, clipvalue = 0.5)\n",
    "\n",
    "vae_model = Model(inputs, outputs, name = 'vae_mlp')\n",
    "vae_model.compile(optimizer = opt, loss = vae_loss)\n",
    "vae_model.summary()"
   ]
  },
  {
   "cell_type": "markdown",
   "id": "b16b152a",
   "metadata": {},
   "source": [
    "## Train"
   ]
  },
  {
   "cell_type": "code",
   "execution_count": 11,
   "id": "6d852ac0",
   "metadata": {},
   "outputs": [
    {
     "name": "stdout",
     "output_type": "stream",
     "text": [
      "Train on 36505 samples\n",
      "Epoch 1/150\n",
      "36505/36505 [==============================] - 3s 92us/sample - loss: 136.0628\n",
      "Epoch 2/150\n",
      "36505/36505 [==============================] - 3s 87us/sample - loss: 16.8947\n",
      "Epoch 3/150\n",
      "36505/36505 [==============================] - 3s 87us/sample - loss: 11.2495\n",
      "Epoch 4/150\n",
      "36505/36505 [==============================] - 3s 87us/sample - loss: 9.2134\n",
      "Epoch 5/150\n",
      "36505/36505 [==============================] - 3s 87us/sample - loss: 7.8919\n",
      "Epoch 6/150\n",
      "36505/36505 [==============================] - 3s 88us/sample - loss: 6.9314\n",
      "Epoch 7/150\n",
      "36505/36505 [==============================] - 3s 87us/sample - loss: 6.2131\n",
      "Epoch 8/150\n",
      "36505/36505 [==============================] - 3s 87us/sample - loss: 5.6724\n",
      "Epoch 9/150\n",
      "36505/36505 [==============================] - 3s 88us/sample - loss: 5.2962\n",
      "Epoch 10/150\n",
      "36505/36505 [==============================] - 3s 87us/sample - loss: 5.0107\n",
      "Epoch 11/150\n",
      "36505/36505 [==============================] - 3s 87us/sample - loss: 4.7709\n",
      "Epoch 12/150\n",
      "36505/36505 [==============================] - 3s 87us/sample - loss: 4.5733\n",
      "Epoch 13/150\n",
      "36505/36505 [==============================] - 3s 87us/sample - loss: 4.3410\n",
      "Epoch 14/150\n",
      "36505/36505 [==============================] - 3s 87us/sample - loss: 4.1025\n",
      "Epoch 15/150\n",
      "36505/36505 [==============================] - 3s 88us/sample - loss: 3.8831\n",
      "Epoch 16/150\n",
      "36505/36505 [==============================] - 3s 86us/sample - loss: 3.6972\n",
      "Epoch 17/150\n",
      "36505/36505 [==============================] - 3s 88us/sample - loss: 3.5168\n",
      "Epoch 18/150\n",
      "36505/36505 [==============================] - 3s 87us/sample - loss: 3.3486\n",
      "Epoch 19/150\n",
      "36505/36505 [==============================] - 3s 87us/sample - loss: 3.2505\n",
      "Epoch 20/150\n",
      "36505/36505 [==============================] - 3s 87us/sample - loss: 3.1871\n",
      "Epoch 21/150\n",
      "36505/36505 [==============================] - 3s 88us/sample - loss: 3.1061\n",
      "Epoch 22/150\n",
      "36505/36505 [==============================] - 3s 87us/sample - loss: 3.0297\n",
      "Epoch 23/150\n",
      "36505/36505 [==============================] - 3s 87us/sample - loss: 2.9710\n",
      "Epoch 24/150\n",
      "36505/36505 [==============================] - 3s 87us/sample - loss: 2.9110\n",
      "Epoch 25/150\n",
      "36505/36505 [==============================] - 3s 87us/sample - loss: 2.8899\n",
      "Epoch 26/150\n",
      "36505/36505 [==============================] - 3s 87us/sample - loss: 2.8394\n",
      "Epoch 27/150\n",
      "36505/36505 [==============================] - 3s 88us/sample - loss: 2.7996\n",
      "Epoch 28/150\n",
      "36505/36505 [==============================] - 3s 87us/sample - loss: 2.7628\n",
      "Epoch 29/150\n",
      "36505/36505 [==============================] - 3s 87us/sample - loss: 2.7340\n",
      "Epoch 30/150\n",
      "36505/36505 [==============================] - 3s 88us/sample - loss: 2.7107\n",
      "Epoch 31/150\n",
      "36505/36505 [==============================] - 3s 84us/sample - loss: 2.6824\n",
      "Epoch 32/150\n",
      "36505/36505 [==============================] - 3s 85us/sample - loss: 2.6672\n",
      "Epoch 33/150\n",
      "36505/36505 [==============================] - 3s 85us/sample - loss: 2.6357\n",
      "Epoch 34/150\n",
      "36505/36505 [==============================] - 3s 85us/sample - loss: 2.6197\n",
      "Epoch 35/150\n",
      "36505/36505 [==============================] - 3s 81us/sample - loss: 2.6081\n",
      "Epoch 36/150\n",
      "36505/36505 [==============================] - 3s 82us/sample - loss: 2.5770\n",
      "Epoch 37/150\n",
      "36505/36505 [==============================] - 3s 83us/sample - loss: 2.5731\n",
      "Epoch 38/150\n",
      "36505/36505 [==============================] - 3s 82us/sample - loss: 2.5544\n",
      "Epoch 39/150\n",
      "36505/36505 [==============================] - 3s 83us/sample - loss: 2.5503\n",
      "Epoch 40/150\n",
      "36505/36505 [==============================] - 3s 83us/sample - loss: 2.5380\n",
      "Epoch 41/150\n",
      "36505/36505 [==============================] - 3s 83us/sample - loss: 2.5163\n",
      "Epoch 42/150\n",
      "36505/36505 [==============================] - 3s 77us/sample - loss: 2.4951\n",
      "Epoch 43/150\n",
      "36505/36505 [==============================] - 3s 79us/sample - loss: 2.4788\n",
      "Epoch 44/150\n",
      "36505/36505 [==============================] - 3s 79us/sample - loss: 2.4372\n",
      "Epoch 45/150\n",
      "36505/36505 [==============================] - 3s 79us/sample - loss: 2.4189\n",
      "Epoch 46/150\n",
      "36505/36505 [==============================] - 3s 80us/sample - loss: 2.4097\n",
      "Epoch 47/150\n",
      "36505/36505 [==============================] - 3s 79us/sample - loss: 2.3860\n",
      "Epoch 48/150\n",
      "36505/36505 [==============================] - 3s 80us/sample - loss: 2.3549\n",
      "Epoch 49/150\n",
      "36505/36505 [==============================] - 3s 79us/sample - loss: 2.3645\n",
      "Epoch 50/150\n",
      "36505/36505 [==============================] - 3s 79us/sample - loss: 2.3380\n",
      "Epoch 51/150\n",
      "36505/36505 [==============================] - 3s 79us/sample - loss: 2.3276\n",
      "Epoch 52/150\n",
      "36505/36505 [==============================] - 3s 79us/sample - loss: 2.3080\n",
      "Epoch 53/150\n",
      "36505/36505 [==============================] - 3s 79us/sample - loss: 2.2903\n",
      "Epoch 54/150\n",
      "36505/36505 [==============================] - 3s 79us/sample - loss: 2.2776\n",
      "Epoch 55/150\n",
      "36505/36505 [==============================] - 3s 71us/sample - loss: 2.2692\n",
      "Epoch 56/150\n",
      "36505/36505 [==============================] - 3s 72us/sample - loss: 2.2374\n",
      "Epoch 57/150\n",
      "36505/36505 [==============================] - 3s 78us/sample - loss: 2.2447\n",
      "Epoch 58/150\n",
      "36505/36505 [==============================] - 3s 78us/sample - loss: 2.2303\n",
      "Epoch 59/150\n",
      "36505/36505 [==============================] - 3s 78us/sample - loss: 2.2227\n",
      "Epoch 60/150\n",
      "36505/36505 [==============================] - 3s 78us/sample - loss: 2.2188\n",
      "Epoch 61/150\n",
      "36505/36505 [==============================] - 3s 77us/sample - loss: 2.2008\n",
      "Epoch 62/150\n",
      "36505/36505 [==============================] - 3s 78us/sample - loss: 2.2001\n",
      "Epoch 63/150\n",
      "36505/36505 [==============================] - 3s 77us/sample - loss: 2.1910\n",
      "Epoch 64/150\n",
      "36505/36505 [==============================] - 3s 77us/sample - loss: 2.1852\n",
      "Epoch 65/150\n",
      "36505/36505 [==============================] - 3s 77us/sample - loss: 2.1758\n",
      "Epoch 66/150\n",
      "36505/36505 [==============================] - 3s 78us/sample - loss: 2.1722\n",
      "Epoch 67/150\n",
      "36505/36505 [==============================] - 3s 78us/sample - loss: 2.1714\n",
      "Epoch 68/150\n",
      "36505/36505 [==============================] - 3s 78us/sample - loss: 2.1683\n",
      "Epoch 69/150\n",
      "36505/36505 [==============================] - 3s 78us/sample - loss: 2.1716\n",
      "Epoch 70/150\n",
      "36505/36505 [==============================] - 3s 78us/sample - loss: 2.1491\n",
      "Epoch 71/150\n",
      "36505/36505 [==============================] - 3s 77us/sample - loss: 2.1505\n",
      "Epoch 72/150\n",
      "36505/36505 [==============================] - 3s 77us/sample - loss: 2.1409\n",
      "Epoch 73/150\n",
      "36505/36505 [==============================] - 3s 78us/sample - loss: 2.1363\n",
      "Epoch 74/150\n",
      "36505/36505 [==============================] - 3s 78us/sample - loss: 2.1235\n",
      "Epoch 75/150\n",
      "36505/36505 [==============================] - 3s 78us/sample - loss: 2.1137\n",
      "Epoch 76/150\n",
      "36505/36505 [==============================] - 3s 78us/sample - loss: 2.1302\n",
      "Epoch 77/150\n",
      "36505/36505 [==============================] - 3s 78us/sample - loss: 2.1301\n",
      "Epoch 78/150\n",
      "36505/36505 [==============================] - 3s 77us/sample - loss: 2.1213\n",
      "Epoch 79/150\n",
      "36505/36505 [==============================] - 3s 77us/sample - loss: 2.1058\n",
      "Epoch 80/150\n",
      "36505/36505 [==============================] - 3s 77us/sample - loss: 2.1141\n",
      "Epoch 81/150\n",
      "36505/36505 [==============================] - 3s 78us/sample - loss: 2.1022\n",
      "Epoch 82/150\n",
      "36505/36505 [==============================] - 3s 78us/sample - loss: 2.1100\n",
      "Epoch 83/150\n",
      "36505/36505 [==============================] - 3s 77us/sample - loss: 2.0899\n",
      "Epoch 84/150\n",
      "36505/36505 [==============================] - 3s 78us/sample - loss: 2.0942\n",
      "Epoch 85/150\n",
      "36505/36505 [==============================] - 3s 77us/sample - loss: 2.0908\n",
      "Epoch 86/150\n",
      "36505/36505 [==============================] - 3s 78us/sample - loss: 2.0967\n",
      "Epoch 87/150\n",
      "36505/36505 [==============================] - 3s 77us/sample - loss: 2.0967\n",
      "Epoch 88/150\n",
      "36505/36505 [==============================] - 3s 77us/sample - loss: 2.0978\n",
      "Epoch 89/150\n",
      "36505/36505 [==============================] - 3s 77us/sample - loss: 2.0951\n",
      "Epoch 90/150\n",
      "36505/36505 [==============================] - 3s 78us/sample - loss: 2.0915\n",
      "Epoch 91/150\n"
     ]
    },
    {
     "name": "stdout",
     "output_type": "stream",
     "text": [
      "36505/36505 [==============================] - 3s 78us/sample - loss: 2.0907\n",
      "Epoch 92/150\n",
      "36505/36505 [==============================] - 3s 77us/sample - loss: 2.0721\n",
      "Epoch 93/150\n",
      "36505/36505 [==============================] - 3s 78us/sample - loss: 2.0854\n",
      "Epoch 94/150\n",
      "36505/36505 [==============================] - 3s 78us/sample - loss: 2.0697\n",
      "Epoch 95/150\n",
      "36505/36505 [==============================] - 3s 78us/sample - loss: 2.0540\n",
      "Epoch 96/150\n",
      "36505/36505 [==============================] - 3s 78us/sample - loss: 2.0677\n",
      "Epoch 97/150\n",
      "36505/36505 [==============================] - 3s 78us/sample - loss: 2.0807\n",
      "Epoch 98/150\n",
      "36505/36505 [==============================] - 3s 78us/sample - loss: 2.0598\n",
      "Epoch 99/150\n",
      "36505/36505 [==============================] - 3s 77us/sample - loss: 2.0637\n",
      "Epoch 100/150\n",
      "36505/36505 [==============================] - 3s 77us/sample - loss: 2.0514\n",
      "Epoch 101/150\n",
      "36505/36505 [==============================] - 3s 77us/sample - loss: 2.0529\n",
      "Epoch 102/150\n",
      "36505/36505 [==============================] - 3s 77us/sample - loss: 2.0639\n",
      "Epoch 103/150\n",
      "36505/36505 [==============================] - 3s 78us/sample - loss: 2.0684\n",
      "Epoch 104/150\n",
      "36505/36505 [==============================] - 3s 78us/sample - loss: 2.0458\n",
      "Epoch 105/150\n",
      "36505/36505 [==============================] - 3s 78us/sample - loss: 2.0661\n",
      "Epoch 106/150\n",
      "36505/36505 [==============================] - 3s 77us/sample - loss: 2.0518\n",
      "Epoch 107/150\n",
      "36505/36505 [==============================] - 3s 77us/sample - loss: 2.0492\n",
      "Epoch 108/150\n",
      "36505/36505 [==============================] - 3s 77us/sample - loss: 2.0586\n",
      "Epoch 109/150\n",
      "36505/36505 [==============================] - 3s 78us/sample - loss: 2.0666\n",
      "Epoch 110/150\n",
      "36505/36505 [==============================] - 3s 77us/sample - loss: 2.0415\n",
      "Epoch 111/150\n",
      "36505/36505 [==============================] - 3s 78us/sample - loss: 2.0487\n",
      "Epoch 112/150\n",
      "36505/36505 [==============================] - 3s 78us/sample - loss: 2.0377\n",
      "Epoch 113/150\n",
      "36505/36505 [==============================] - 3s 78us/sample - loss: 2.0524\n",
      "Epoch 114/150\n",
      "36505/36505 [==============================] - 3s 77us/sample - loss: 2.0279\n",
      "Epoch 115/150\n",
      "36505/36505 [==============================] - 3s 77us/sample - loss: 2.0439\n",
      "Epoch 116/150\n",
      "36505/36505 [==============================] - 3s 78us/sample - loss: 2.0511\n",
      "Epoch 117/150\n",
      "36505/36505 [==============================] - 3s 77us/sample - loss: 2.0425\n",
      "Epoch 118/150\n",
      "36505/36505 [==============================] - 3s 78us/sample - loss: 2.0414\n",
      "Epoch 119/150\n",
      "36505/36505 [==============================] - 3s 78us/sample - loss: 2.0313\n",
      "Epoch 120/150\n",
      "36505/36505 [==============================] - 3s 78us/sample - loss: 2.0378\n",
      "Epoch 121/150\n",
      "36505/36505 [==============================] - 3s 77us/sample - loss: 2.0368\n",
      "Epoch 122/150\n",
      "36505/36505 [==============================] - 3s 78us/sample - loss: 2.0286\n",
      "Epoch 123/150\n",
      "36505/36505 [==============================] - 3s 77us/sample - loss: 2.0284\n",
      "Epoch 124/150\n",
      "36505/36505 [==============================] - 3s 77us/sample - loss: 2.0157\n",
      "Epoch 125/150\n",
      "36505/36505 [==============================] - 3s 78us/sample - loss: 2.0399\n",
      "Epoch 126/150\n",
      "36505/36505 [==============================] - 3s 77us/sample - loss: 2.0321\n",
      "Epoch 127/150\n",
      "36505/36505 [==============================] - 3s 78us/sample - loss: 2.0188\n",
      "Epoch 128/150\n",
      "36505/36505 [==============================] - 3s 77us/sample - loss: 2.0271\n",
      "Epoch 129/150\n",
      "36505/36505 [==============================] - 3s 77us/sample - loss: 2.0158\n",
      "Epoch 130/150\n",
      "36505/36505 [==============================] - 3s 77us/sample - loss: 1.9969\n",
      "Epoch 131/150\n",
      "36505/36505 [==============================] - 3s 77us/sample - loss: 2.0225\n",
      "Epoch 132/150\n",
      "36505/36505 [==============================] - 3s 78us/sample - loss: 2.0187\n",
      "Epoch 133/150\n",
      "36505/36505 [==============================] - 3s 78us/sample - loss: 2.0305\n",
      "Epoch 134/150\n",
      "36505/36505 [==============================] - 3s 78us/sample - loss: 2.0198\n",
      "Epoch 135/150\n",
      "36505/36505 [==============================] - 3s 77us/sample - loss: 2.0177\n",
      "Epoch 136/150\n",
      "36505/36505 [==============================] - 3s 78us/sample - loss: 2.0163\n",
      "Epoch 137/150\n",
      "36505/36505 [==============================] - 3s 77us/sample - loss: 2.0128\n",
      "Epoch 138/150\n",
      "36505/36505 [==============================] - 3s 77us/sample - loss: 2.0063\n",
      "Epoch 139/150\n",
      "36505/36505 [==============================] - 3s 78us/sample - loss: 2.0184\n",
      "Epoch 140/150\n",
      "36505/36505 [==============================] - 3s 77us/sample - loss: 2.0095\n",
      "Epoch 141/150\n",
      "36505/36505 [==============================] - 3s 78us/sample - loss: 2.0007\n",
      "Epoch 142/150\n",
      "36505/36505 [==============================] - 3s 78us/sample - loss: 2.0052\n",
      "Epoch 143/150\n",
      "36505/36505 [==============================] - 3s 78us/sample - loss: 2.0075\n",
      "Epoch 144/150\n",
      "36505/36505 [==============================] - 3s 78us/sample - loss: 2.0172\n",
      "Epoch 145/150\n",
      "36505/36505 [==============================] - 3s 77us/sample - loss: 1.9992\n",
      "Epoch 146/150\n",
      "36505/36505 [==============================] - 3s 77us/sample - loss: 1.9964\n",
      "Epoch 147/150\n",
      "36505/36505 [==============================] - 3s 78us/sample - loss: 1.9915\n",
      "Epoch 148/150\n",
      "36505/36505 [==============================] - 3s 77us/sample - loss: 1.9951\n",
      "Epoch 149/150\n",
      "36505/36505 [==============================] - 3s 78us/sample - loss: 1.9986\n",
      "Epoch 150/150\n",
      "36505/36505 [==============================] - 3s 78us/sample - loss: 1.9928\n",
      "Training time: 438.1216735839844\n"
     ]
    }
   ],
   "source": [
    "train_start = time.time()\n",
    "\n",
    "results = vae_model.fit(X_train_VAE, X_train_VAE,\n",
    "                        shuffle = True,\n",
    "                        epochs = epochs,\n",
    "                        batch_size = batch_size)\n",
    "\n",
    "train_end = time.time()\n",
    "train_time = train_end - train_start\n",
    "print(\"Training time:\", train_time)"
   ]
  },
  {
   "cell_type": "code",
   "execution_count": 12,
   "id": "1932eac5",
   "metadata": {},
   "outputs": [
    {
     "data": {
      "image/png": "[encoded data removed]",
      "text/plain": [
       "<Figure size 432x288 with 1 Axes>"
      ]
     },
     "metadata": {
      "needs_background": "light"
     },
     "output_type": "display_data"
    }
   ],
   "source": [
    "plt.plot(results.history['loss'])\n",
    "plt.title('Loss Pattern')\n",
    "plt.ylabel('Loss')\n",
    "plt.xlabel('epoch')\n",
    "plt.legend(['Train', 'Test'], loc='upper right');\n",
    "plt.show()"
   ]
  },
  {
   "cell_type": "markdown",
   "id": "c8c35c3e",
   "metadata": {},
   "source": [
    "## Test"
   ]
  },
  {
   "cell_type": "code",
   "execution_count": 13,
   "id": "1739e58d",
   "metadata": {},
   "outputs": [
    {
     "name": "stderr",
     "output_type": "stream",
     "text": [
      "/home/andressa.amaral/.local/lib/python3.6/site-packages/keras/engine/training.py:2470: UserWarning: `Model.state_updates` will be removed in a future version. This property should not be used in TensorFlow 2.0, as `updates` are applied automatically.\n",
      "  warnings.warn('`Model.state_updates` will be removed in a future version. '\n"
     ]
    },
    {
     "name": "stdout",
     "output_type": "stream",
     "text": [
      "0.05\n"
     ]
    }
   ],
   "source": [
    "X_train_pred = vae_model.predict(X_train_VAE)\n",
    "error_vector = VariationalAutoencoderModel.get_error_term(X_train_pred, X_train_VAE, _rmse=False)\n",
    "error_thresh = anomaly_threshold\n",
    "#np.quantile(error_vector, anomaly_threshold)\n",
    "\n",
    "print(error_thresh)\n",
    "\n",
    "# Measure the error between the train set and its output and generates an error vector representing the error of each term\n",
    "# Find an extreme value on the vector to use as the error threshold"
   ]
  },
  {
   "cell_type": "code",
   "execution_count": 14,
   "id": "b303ecb5",
   "metadata": {},
   "outputs": [
    {
     "name": "stdout",
     "output_type": "stream",
     "text": [
      "Testing time: 11.937926530838013\n",
      "[False False False ...  True False  True]\n"
     ]
    },
    {
     "data": {
      "text/plain": [
       "0.8043735625905992"
      ]
     },
     "execution_count": 14,
     "metadata": {},
     "output_type": "execute_result"
    }
   ],
   "source": [
    "test_start = time.time()\n",
    "\n",
    "X_pred_VAE = vae_model.predict(X_test_VAE)\n",
    "\n",
    "test_end = time.time()\n",
    "test_time = test_end - test_start\n",
    "print(\"Testing time:\", test_time)\n",
    "\n",
    "# If the error of the vector is higher than the defined threshold it detects an attack\n",
    "\n",
    "error_vector = VariationalAutoencoderModel.get_error_term(X_pred_VAE, X_test_VAE, _rmse=False)\n",
    "attacks = (error_vector > error_thresh)\n",
    "print(attacks)\n",
    "\n",
    "np.count_nonzero(attacks) / len(attacks) # Percentage of attacks"
   ]
  },
  {
   "cell_type": "code",
   "execution_count": 15,
   "id": "01651b18",
   "metadata": {},
   "outputs": [
    {
     "name": "stdout",
     "output_type": "stream",
     "text": [
      "338717\n"
     ]
    }
   ],
   "source": [
    "print(len(X_test_VAE))"
   ]
  },
  {
   "cell_type": "markdown",
   "id": "93af7ffa",
   "metadata": {},
   "source": [
    "## Metrics"
   ]
  },
  {
   "cell_type": "code",
   "execution_count": 16,
   "id": "ca41593c",
   "metadata": {},
   "outputs": [],
   "source": [
    "sys.stdout = open(\"Results/samsung_webcam.txt\", \"a\")\n",
    "\n",
    "print(\" ==== Test \" + str(number_features) + \" features ====\")\n",
    "print(\"Training time:\" + str(train_time))\n",
    "print(\"Testing time:\" + str(test_time))\n",
    "print(classification_report(Y_test_VAE, attacks, digits = 5))"
   ]
  },
  {
   "cell_type": "code",
   "execution_count": 17,
   "id": "ddf96d11",
   "metadata": {},
   "outputs": [
    {
     "data": {
      "text/plain": [
       "'# Examinig the latent space generated by the encoder\\n\\nX_encoded = encoder.predict(X_test_VAE)\\n\\npca = PCA(n_components=2)\\nX_analysis = pca.fit_transform(X_encoded)'"
      ]
     },
     "execution_count": 17,
     "metadata": {},
     "output_type": "execute_result"
    }
   ],
   "source": [
    "'''# Examinig the latent space generated by the encoder\n",
    "\n",
    "X_encoded = encoder.predict(X_test_VAE)\n",
    "\n",
    "pca = PCA(n_components=2)\n",
    "X_analysis = pca.fit_transform(X_encoded)'''"
   ]
  },
  {
   "cell_type": "code",
   "execution_count": 18,
   "id": "4e17a7b7",
   "metadata": {},
   "outputs": [
    {
     "data": {
      "text/plain": [
       "'plt.figure(figsize = (12, 10))\\nsns.scatterplot(x = X_analysis[:, 0], y = X_analysis[:, 1], s = 20, hue = error_vector)\\nplt.grid()\\nplt.show()\\n\\n# Darker clusters indicate that the error is higher'"
      ]
     },
     "execution_count": 18,
     "metadata": {},
     "output_type": "execute_result"
    }
   ],
   "source": [
    "'''plt.figure(figsize = (12, 10))\n",
    "sns.scatterplot(x = X_analysis[:, 0], y = X_analysis[:, 1], s = 20, hue = error_vector)\n",
    "plt.grid()\n",
    "plt.show()\n",
    "\n",
    "# Darker clusters indicate that the error is higher'''"
   ]
  },
  {
   "cell_type": "code",
   "execution_count": 19,
   "id": "835cd6d5",
   "metadata": {},
   "outputs": [
    {
     "data": {
      "text/plain": [
       "'plt.figure(figsize=(12, 10))\\nsns.scatterplot(x = X_analysis[:, 0], y = X_analysis[:, 1], s = 20, hue = attacks)\\nplt.grid()\\nplt.show()\\n\\n# Orange ones are anomalies'"
      ]
     },
     "execution_count": 19,
     "metadata": {},
     "output_type": "execute_result"
    }
   ],
   "source": [
    "'''plt.figure(figsize=(12, 10))\n",
    "sns.scatterplot(x = X_analysis[:, 0], y = X_analysis[:, 1], s = 20, hue = attacks)\n",
    "plt.grid()\n",
    "plt.show()\n",
    "\n",
    "# Orange ones are anomalies'''"
   ]
  },
  {
   "cell_type": "code",
   "execution_count": 20,
   "id": "f9130fd5",
   "metadata": {},
   "outputs": [
    {
     "data": {
      "text/plain": [
       "'plt.figure(figsize = (12, 10))\\nsns.scatterplot(x = X_analysis[:, 0], y = X_analysis[:, 1], s = 20, hue = Y_test_VAE)\\nplt.grid()\\nplt.show()\\n\\n# Ground truth'"
      ]
     },
     "execution_count": 20,
     "metadata": {},
     "output_type": "execute_result"
    }
   ],
   "source": [
    "'''plt.figure(figsize = (12, 10))\n",
    "sns.scatterplot(x = X_analysis[:, 0], y = X_analysis[:, 1], s = 20, hue = Y_test_VAE)\n",
    "plt.grid()\n",
    "plt.show()\n",
    "\n",
    "# Ground truth'''"
   ]
  },
  {
   "cell_type": "code",
   "execution_count": null,
   "id": "8cc98c73",
   "metadata": {},
   "outputs": [],
   "source": []
  }
 ],
 "metadata": {
  "kernelspec": {
   "display_name": "Python 3",
   "language": "python",
   "name": "python3"
  },
  "language_info": {
   "codemirror_mode": {
    "name": "ipython",
    "version": 3
   },
   "file_extension": ".py",
   "mimetype": "text/x-python",
   "name": "python",
   "nbconvert_exporter": "python",
   "pygments_lexer": "ipython3",
   "version": "3.6.9"
  }
 },
 "nbformat": 4,
 "nbformat_minor": 5
}
