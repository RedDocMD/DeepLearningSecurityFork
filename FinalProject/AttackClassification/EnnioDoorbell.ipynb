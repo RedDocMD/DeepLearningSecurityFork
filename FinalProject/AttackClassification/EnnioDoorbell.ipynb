{
 "cells": [
  {
   "cell_type": "code",
   "execution_count": 1,
   "id": "c04272b3",
   "metadata": {},
   "outputs": [
    {
     "name": "stdout",
     "output_type": "stream",
     "text": [
      "importing Jupyter notebook from AttackClassificationModel.ipynb\n"
     ]
    }
   ],
   "source": [
    "import sys\n",
    "# !pip3 install matplotlib\n",
    "# !pip3 install pandas\n",
    "# !pip3 install seaborn\n",
    "# !pip3 install --upgrade tensorflow-gpu\n",
    "# !pip3 install import-ipynb\n",
    "# !pip3 install cuda-python\n",
    "# !pip3 install -U scikit-learn\n",
    "# !pip3 install bayesian-optimization\n",
    "\n",
    "import os\n",
    "os.environ['TF_CPP_MIN_LOG_LEVEL'] = '3' \n",
    "\n",
    "import matplotlib.pyplot as plt\n",
    "import seaborn as sns\n",
    "import numpy as np\n",
    "import pandas as pd\n",
    "import glob\n",
    "import math\n",
    "import pickle\n",
    "import time\n",
    "\n",
    "import import_ipynb\n",
    "import AttackClassificationModel\n",
    "\n",
    "import tensorflow as tf\n",
    "tf.compat.v1.disable_eager_execution()\n",
    "from tensorflow.keras import optimizers\n",
    "from tensorflow.keras.callbacks import ReduceLROnPlateau\n",
    "\n",
    "from sklearn.pipeline import Pipeline\n",
    "from sklearn.preprocessing import MinMaxScaler\n",
    "from sklearn.metrics import confusion_matrix\n",
    "from sklearn.neighbors import KNeighborsClassifier\n",
    "from sklearn.naive_bayes import GaussianNB\n",
    "\n",
    "from bayes_opt import BayesianOptimization\n",
    "\n",
    "%matplotlib inline"
   ]
  },
  {
   "cell_type": "code",
   "execution_count": 2,
   "id": "20b6ca6f",
   "metadata": {},
   "outputs": [],
   "source": [
    "gpu_options = tf.compat.v1.GPUOptions(per_process_gpu_memory_fraction = 0.333)\n",
    "sess = tf.compat.v1.Session(config = tf.compat.v1.ConfigProto(gpu_options = gpu_options))"
   ]
  },
  {
   "cell_type": "markdown",
   "id": "e0bd4611",
   "metadata": {},
   "source": [
    "# Data Pre-Processing"
   ]
  },
  {
   "cell_type": "code",
   "execution_count": 3,
   "id": "5e0afc1f",
   "metadata": {},
   "outputs": [],
   "source": [
    "df_gafgyt = AttackClassificationModel.get_files_nbaiot_gafgyt_edsw('../../nbaiot/Ennio_Doorbell/gafgyt')\n",
    "\n",
    "# Gafgyt Combo\n",
    "df_gafgyt_combo, label_gafgyt_combo = AttackClassificationModel.get_attack(0, df_gafgyt)\n",
    "\n",
    "# Gafgyt Junk\n",
    "df_gafgyt_junk, label_gafgyt_junk = AttackClassificationModel.get_attack(1, df_gafgyt)\n",
    "\n",
    "# Gafgyt Scan\n",
    "df_gafgyt_scan, label_gafgyt_scan = AttackClassificationModel.get_attack(2, df_gafgyt)\n",
    "\n",
    "# Gafgyt Tcp\n",
    "df_gafgyt_tcp, label_gafgyt_tcp = AttackClassificationModel.get_attack(3, df_gafgyt)\n",
    "\n",
    "# Gafgyt Udp\n",
    "df_gafgyt_udp, label_gafgyt_udp = AttackClassificationModel.get_attack(4, df_gafgyt)"
   ]
  },
  {
   "cell_type": "code",
   "execution_count": 4,
   "id": "6867416d",
   "metadata": {},
   "outputs": [],
   "source": [
    "# Normalize with the min-max scaler\n",
    "scaler = MinMaxScaler()\n",
    "df_gafgyt_combo_norm = scaler.fit_transform(df_gafgyt_combo)\n",
    "df_gafgyt_junk_norm = scaler.fit_transform(df_gafgyt_junk)\n",
    "df_gafgyt_scan_norm = scaler.fit_transform(df_gafgyt_scan)\n",
    "df_gafgyt_tcp_norm = scaler.fit_transform(df_gafgyt_tcp)\n",
    "df_gafgyt_udp_norm = scaler.fit_transform(df_gafgyt_udp)"
   ]
  },
  {
   "cell_type": "markdown",
   "id": "6fc2b73b",
   "metadata": {},
   "source": [
    "# Sets"
   ]
  },
  {
   "cell_type": "code",
   "execution_count": 5,
   "id": "496344fe",
   "metadata": {},
   "outputs": [],
   "source": [
    "# Train\n",
    "len_gafgyt_combo_train = int(0.7 * len(df_gafgyt_combo_norm))\n",
    "X_gafgyt_combo_train = df_gafgyt_combo_norm[:len_gafgyt_combo_train]\n",
    "\n",
    "len_gafgyt_junk_train = int(0.7 * len(df_gafgyt_junk_norm))\n",
    "X_gafgyt_junk_train = df_gafgyt_junk_norm[:len_gafgyt_junk_train]\n",
    "\n",
    "len_gafgyt_scan_train = int(0.7 * len(df_gafgyt_scan_norm))\n",
    "X_gafgyt_scan_train = df_gafgyt_scan_norm[:len_gafgyt_scan_train]\n",
    "\n",
    "len_gafgyt_tcp_train = int(0.7 * len(df_gafgyt_tcp_norm))\n",
    "X_gafgyt_tcp_train = df_gafgyt_tcp_norm[:len_gafgyt_tcp_train]\n",
    "\n",
    "len_gafgyt_udp_train = int(0.7 * len(df_gafgyt_udp_norm))\n",
    "X_gafgyt_udp_train = df_gafgyt_udp_norm[:len_gafgyt_udp_train]\n",
    "\n",
    "X_train = np.concatenate([X_gafgyt_combo_train, X_gafgyt_junk_train, X_gafgyt_scan_train, X_gafgyt_tcp_train, X_gafgyt_udp_train])\n",
    "Y_train = np.concatenate([label_gafgyt_combo[:len_gafgyt_combo_train], label_gafgyt_junk[:len_gafgyt_junk_train], \n",
    "                          label_gafgyt_scan[:len_gafgyt_scan_train], label_gafgyt_tcp[:len_gafgyt_tcp_train], label_gafgyt_udp[:len_gafgyt_udp_train]])"
   ]
  },
  {
   "cell_type": "code",
   "execution_count": 6,
   "id": "a270901d",
   "metadata": {},
   "outputs": [],
   "source": [
    "#Test\n",
    "len_gafgyt_combo_test = len_gafgyt_combo_train + int(0.15 * len(df_gafgyt_combo_norm))\n",
    "X_gafgyt_combo_test = df_gafgyt_combo_norm[len_gafgyt_combo_train : len_gafgyt_combo_test]\n",
    "\n",
    "len_gafgyt_junk_test = len_gafgyt_junk_train + int(0.15 * len(df_gafgyt_junk_norm))\n",
    "X_gafgyt_junk_test = df_gafgyt_junk_norm[len_gafgyt_junk_train : len_gafgyt_junk_test]\n",
    "\n",
    "len_gafgyt_scan_test = len_gafgyt_scan_train + int(0.15 * len(df_gafgyt_scan_norm))\n",
    "X_gafgyt_scan_test = df_gafgyt_scan_norm[len_gafgyt_scan_train : len_gafgyt_scan_test]\n",
    "\n",
    "len_gafgyt_tcp_test = len_gafgyt_tcp_train + int(0.15 * len(df_gafgyt_tcp_norm))\n",
    "X_gafgyt_tcp_test = df_gafgyt_tcp_norm[len_gafgyt_tcp_train : len_gafgyt_tcp_test]\n",
    "\n",
    "len_gafgyt_udp_test = len_gafgyt_udp_train + int(0.15 * len(df_gafgyt_udp_norm))\n",
    "X_gafgyt_udp_test = df_gafgyt_udp_norm[len_gafgyt_udp_train : len_gafgyt_udp_test]\n",
    "\n",
    "X_test = np.concatenate([X_gafgyt_combo_test, X_gafgyt_junk_test, X_gafgyt_scan_test, X_gafgyt_tcp_test, X_gafgyt_udp_test])\n",
    "Y_test = np.concatenate([label_gafgyt_combo[len_gafgyt_combo_train : len_gafgyt_combo_test], label_gafgyt_junk[len_gafgyt_junk_train : len_gafgyt_junk_test], \n",
    "                         label_gafgyt_scan[len_gafgyt_scan_train : len_gafgyt_scan_test], label_gafgyt_tcp[len_gafgyt_tcp_train : len_gafgyt_tcp_test], label_gafgyt_udp[len_gafgyt_udp_train : len_gafgyt_udp_test]])\n"
   ]
  },
  {
   "cell_type": "code",
   "execution_count": 7,
   "id": "10ff145d",
   "metadata": {},
   "outputs": [],
   "source": [
    "# Validation\n",
    "X_gafgyt_combo_val = df_gafgyt_combo_norm[len_gafgyt_combo_test:]\n",
    "X_gafgyt_junk_val = df_gafgyt_junk_norm[len_gafgyt_junk_test:]\n",
    "X_gafgyt_scan_val = df_gafgyt_scan_norm[len_gafgyt_scan_test:]\n",
    "X_gafgyt_tcp_val = df_gafgyt_tcp_norm[len_gafgyt_tcp_test:]\n",
    "X_gafgyt_udp_val = df_gafgyt_udp_norm[len_gafgyt_udp_test:]\n",
    "\n",
    "X_val = np.concatenate([X_gafgyt_combo_val, X_gafgyt_junk_val, X_gafgyt_scan_val, X_gafgyt_tcp_val, X_gafgyt_udp_val])\n",
    "Y_val = np.concatenate([label_gafgyt_combo[len_gafgyt_combo_test:], label_gafgyt_junk[len_gafgyt_junk_test:], \n",
    "                        label_gafgyt_scan[len_gafgyt_scan_test:], label_gafgyt_tcp[len_gafgyt_tcp_test:], label_gafgyt_udp[len_gafgyt_udp_test:]])"
   ]
  },
  {
   "cell_type": "code",
   "execution_count": 8,
   "id": "c1ba7848",
   "metadata": {},
   "outputs": [],
   "source": [
    "X_train_CNN = np.reshape(X_train, (X_train.shape[0], X_train.shape[1], 1))\n",
    "X_test_CNN = np.reshape(X_test, (X_test.shape[0], X_test.shape[1], 1))\n",
    "X_val_CNN = np.reshape(X_val, (X_val.shape[0], X_val.shape[1], 1))\n",
    "\n",
    "samples, feature, depth = X_train_CNN.shape"
   ]
  },
  {
   "cell_type": "markdown",
   "id": "10d94c61",
   "metadata": {},
   "source": [
    "# Model"
   ]
  },
  {
   "cell_type": "code",
   "execution_count": 9,
   "id": "3a22d5e7",
   "metadata": {},
   "outputs": [],
   "source": [
    "# Initial values\n",
    "batch_size = 32\n",
    "learning_rate = 0.008\n",
    "epochs = 5\n",
    "\n",
    "# Dictionary\n",
    "dict_params = { 'learning_rate': learning_rate, 'batch_size': round(batch_size), 'epochs': round(epochs) }\n",
    "pbounds = { 'learning_rate': (0.000001, 0.001), 'batch_size': (10, 23), 'epochs': (1, 100) }"
   ]
  },
  {
   "cell_type": "code",
   "execution_count": 10,
   "id": "74a1b686",
   "metadata": {},
   "outputs": [],
   "source": [
    "cnn_model = AttackClassificationModel.CNN(feature, depth, 5)\n",
    "reduce_lr = ReduceLROnPlateau(moniter = 'val_loss', factor = 0.1, patience = 10)"
   ]
  },
  {
   "cell_type": "markdown",
   "id": "3d3f6244",
   "metadata": {},
   "source": [
    "# Hyperparameter Optimization"
   ]
  },
  {
   "cell_type": "code",
   "execution_count": 11,
   "id": "77f519aa",
   "metadata": {},
   "outputs": [],
   "source": [
    "def maximize_training(X_train = X_train_CNN,\n",
    "                      Y_train = Y_train, \n",
    "                      X_val = X_val_CNN, \n",
    "                      Y_val = Y_val, \n",
    "                      X_test = X_test_CNN, \n",
    "                      Y_test = Y_test, \n",
    "                      learning_rate = learning_rate, \n",
    "                      epochs = epochs, \n",
    "                      batch_size = batch_size,\n",
    "                      reduce_lr = reduce_lr):\n",
    "    \n",
    "    nadam = optimizers.Nadam(learning_rate = dict_params['learning_rate'], beta_1 = 0.9, beta_2 = 0.999, epsilon = 1e-08, schedule_decay = 0.004)\n",
    "    model = AttackClassificationModel.CNN_nbaiot(feature, depth)\n",
    "    model.compile(loss = \"sparse_categorical_crossentropy\", optimizer = \"nadam\", metrics = [\"accuracy\"])\n",
    "    \n",
    "    history = model.fit(X_train, Y_train, \n",
    "                        epochs = dict_params['epochs'], \n",
    "                        batch_size = dict_params['batch_size'], \n",
    "                        validation_data = (X_val, Y_val),\n",
    "                        callbacks = [reduce_lr],\n",
    "                        verbose = 0)\n",
    "\n",
    "    scores = model.evaluate(X_test, Y_test)\n",
    "    return scores[1]"
   ]
  },
  {
   "cell_type": "code",
   "execution_count": 12,
   "id": "91692f01",
   "metadata": {},
   "outputs": [
    {
     "data": {
      "text/plain": [
       "'\\n# Apply Bayesian optimization to choose the best hyperparameters\\n\\nopt = BayesianOptimization(f = maximize_training,\\n                           pbounds = pbounds,\\n                           verbose = 2, \\n                           random_state = 1)\\n\\nopt_start = time.time()\\n\\nopt.maximize(init_points = 5, n_iter = 5)\\n\\nopt_end = time.time()\\nopt_time = opt_end - opt_start\\nprint(\"Optimization time:\", opt_time)\\n\\nlearning_rate = opt.max[\\'params\\'][\\'learning_rate\\']\\nepochs = round(opt.max[\\'params\\'][\\'epochs\\'])\\nbatch_size = round(opt.max[\\'params\\'][\\'batch_size\\'])\\n'"
      ]
     },
     "execution_count": 12,
     "metadata": {},
     "output_type": "execute_result"
    }
   ],
   "source": [
    "'''\n",
    "# Apply Bayesian optimization to choose the best hyperparameters\n",
    "\n",
    "opt = BayesianOptimization(f = maximize_training,\n",
    "                           pbounds = pbounds,\n",
    "                           verbose = 2, \n",
    "                           random_state = 1)\n",
    "\n",
    "opt_start = time.time()\n",
    "\n",
    "opt.maximize(init_points = 5, n_iter = 5)\n",
    "\n",
    "opt_end = time.time()\n",
    "opt_time = opt_end - opt_start\n",
    "print(\"Optimization time:\", opt_time)\n",
    "\n",
    "learning_rate = opt.max['params']['learning_rate']\n",
    "epochs = round(opt.max['params']['epochs'])\n",
    "batch_size = round(opt.max['params']['batch_size'])\n",
    "'''"
   ]
  },
  {
   "cell_type": "markdown",
   "id": "773dcfb6",
   "metadata": {},
   "source": [
    "# Classify Attacks"
   ]
  },
  {
   "cell_type": "code",
   "execution_count": 13,
   "id": "0efbd742",
   "metadata": {},
   "outputs": [],
   "source": [
    "# Training step with the best hyperparameters\n",
    "learning_rate = 0.0037113717265946904\n",
    "epochs = 44\n",
    "batch_size = 51\n",
    "opt_time = 3915.1859345436096"
   ]
  },
  {
   "cell_type": "code",
   "execution_count": 14,
   "id": "67e39738",
   "metadata": {},
   "outputs": [
    {
     "name": "stdout",
     "output_type": "stream",
     "text": [
      "Iteration 0\n",
      "Train on 221478 samples, validate on 47464 samples\n",
      "Epoch 1/44\n",
      "221478/221478 [==============================] - ETA: 0s - loss: 0.0036 - accuracy: 0.9991"
     ]
    },
    {
     "name": "stderr",
     "output_type": "stream",
     "text": [
      "/usr/lib/python3.10/site-packages/keras/engine/training_v1.py:2333: UserWarning: `Model.state_updates` will be removed in a future version. This property should not be used in TensorFlow 2.0, as `updates` are applied automatically.\n",
      "  updates = self.state_updates\n"
     ]
    },
    {
     "name": "stdout",
     "output_type": "stream",
     "text": [
      "221478/221478 [==============================] - 14s 61us/sample - loss: 0.0036 - accuracy: 0.9991 - val_loss: 9.2914e-05 - val_accuracy: 1.0000 - lr: 0.0010\n",
      "Epoch 2/44\n",
      "221478/221478 [==============================] - 12s 54us/sample - loss: 4.0730e-04 - accuracy: 0.9999 - val_loss: 3.2907e-05 - val_accuracy: 1.0000 - lr: 0.0010\n",
      "Epoch 3/44\n",
      "221478/221478 [==============================] - 12s 55us/sample - loss: 3.7570e-04 - accuracy: 0.9999 - val_loss: 6.5003e-06 - val_accuracy: 1.0000 - lr: 0.0010\n",
      "Epoch 4/44\n",
      "221478/221478 [==============================] - 12s 54us/sample - loss: 2.6178e-04 - accuracy: 1.0000 - val_loss: 1.3279e-04 - val_accuracy: 1.0000 - lr: 0.0010\n",
      "Epoch 5/44\n",
      "221478/221478 [==============================] - 12s 55us/sample - loss: 1.9221e-04 - accuracy: 1.0000 - val_loss: 0.0010 - val_accuracy: 0.9999 - lr: 0.0010\n",
      "Epoch 6/44\n",
      "221478/221478 [==============================] - 12s 55us/sample - loss: 1.9615e-04 - accuracy: 1.0000 - val_loss: 1.2883e-04 - val_accuracy: 0.9999 - lr: 0.0010\n",
      "Epoch 7/44\n",
      "221478/221478 [==============================] - 12s 55us/sample - loss: 1.6348e-04 - accuracy: 1.0000 - val_loss: 2.8122e-04 - val_accuracy: 1.0000 - lr: 0.0010\n",
      "Epoch 8/44\n",
      "221478/221478 [==============================] - 12s 55us/sample - loss: 4.1603e-08 - accuracy: 1.0000 - val_loss: 1.9335e-04 - val_accuracy: 1.0000 - lr: 0.0010\n",
      "Epoch 9/44\n",
      "221478/221478 [==============================] - 11s 52us/sample - loss: 7.7504e-10 - accuracy: 1.0000 - val_loss: 1.8960e-04 - val_accuracy: 1.0000 - lr: 0.0010\n",
      "Epoch 10/44\n",
      "221478/221478 [==============================] - 11s 51us/sample - loss: 4.3705e-10 - accuracy: 1.0000 - val_loss: 1.6255e-04 - val_accuracy: 1.0000 - lr: 0.0010\n",
      "Epoch 11/44\n",
      "221478/221478 [==============================] - 11s 51us/sample - loss: 5.8669e-11 - accuracy: 1.0000 - val_loss: 1.5138e-04 - val_accuracy: 1.0000 - lr: 0.0010\n",
      "Epoch 12/44\n",
      "221478/221478 [==============================] - 11s 48us/sample - loss: 2.9603e-11 - accuracy: 1.0000 - val_loss: 1.4977e-04 - val_accuracy: 1.0000 - lr: 1.0000e-04\n",
      "Epoch 13/44\n",
      "221478/221478 [==============================] - 12s 56us/sample - loss: 2.7989e-11 - accuracy: 1.0000 - val_loss: 1.4805e-04 - val_accuracy: 1.0000 - lr: 1.0000e-04\n",
      "Epoch 14/44\n",
      "221478/221478 [==============================] - 12s 52us/sample - loss: 2.5297e-11 - accuracy: 1.0000 - val_loss: 1.4649e-04 - val_accuracy: 1.0000 - lr: 1.0000e-04\n",
      "Epoch 15/44\n",
      "221478/221478 [==============================] - 12s 54us/sample - loss: 2.2606e-11 - accuracy: 1.0000 - val_loss: 1.4511e-04 - val_accuracy: 1.0000 - lr: 1.0000e-04\n",
      "Epoch 16/44\n",
      "221478/221478 [==============================] - 12s 54us/sample - loss: 2.1530e-11 - accuracy: 1.0000 - val_loss: 1.4393e-04 - val_accuracy: 1.0000 - lr: 1.0000e-04\n",
      "Epoch 17/44\n",
      "221478/221478 [==============================] - 11s 50us/sample - loss: 1.8300e-11 - accuracy: 1.0000 - val_loss: 1.4283e-04 - val_accuracy: 1.0000 - lr: 1.0000e-04\n",
      "Epoch 18/44\n",
      "221478/221478 [==============================] - 11s 49us/sample - loss: 1.7762e-11 - accuracy: 1.0000 - val_loss: 1.4193e-04 - val_accuracy: 1.0000 - lr: 1.0000e-04\n",
      "Epoch 19/44\n",
      "221478/221478 [==============================] - 12s 52us/sample - loss: 1.5609e-11 - accuracy: 1.0000 - val_loss: 1.4100e-04 - val_accuracy: 1.0000 - lr: 1.0000e-04\n",
      "Epoch 20/44\n",
      "221478/221478 [==============================] - 12s 55us/sample - loss: 1.5609e-11 - accuracy: 1.0000 - val_loss: 1.4021e-04 - val_accuracy: 1.0000 - lr: 1.0000e-04\n",
      "Epoch 21/44\n",
      "221478/221478 [==============================] - 12s 54us/sample - loss: 1.5071e-11 - accuracy: 1.0000 - val_loss: 1.3955e-04 - val_accuracy: 1.0000 - lr: 1.0000e-04\n",
      "Epoch 22/44\n",
      "221478/221478 [==============================] - 12s 55us/sample - loss: 1.3456e-11 - accuracy: 1.0000 - val_loss: 1.3952e-04 - val_accuracy: 1.0000 - lr: 1.0000e-05\n",
      "Epoch 23/44\n",
      "221478/221478 [==============================] - 12s 53us/sample - loss: 1.3456e-11 - accuracy: 1.0000 - val_loss: 1.3943e-04 - val_accuracy: 1.0000 - lr: 1.0000e-05\n",
      "Epoch 24/44\n",
      "221478/221478 [==============================] - 12s 54us/sample - loss: 1.3456e-11 - accuracy: 1.0000 - val_loss: 1.3937e-04 - val_accuracy: 1.0000 - lr: 1.0000e-05\n",
      "Epoch 25/44\n",
      "221478/221478 [==============================] - 12s 54us/sample - loss: 1.3456e-11 - accuracy: 1.0000 - val_loss: 1.3932e-04 - val_accuracy: 1.0000 - lr: 1.0000e-05\n",
      "Epoch 26/44\n",
      "221478/221478 [==============================] - 13s 56us/sample - loss: 1.3456e-11 - accuracy: 1.0000 - val_loss: 1.3926e-04 - val_accuracy: 1.0000 - lr: 1.0000e-05\n",
      "Epoch 27/44\n",
      "221478/221478 [==============================] - 12s 56us/sample - loss: 1.3456e-11 - accuracy: 1.0000 - val_loss: 1.3920e-04 - val_accuracy: 1.0000 - lr: 1.0000e-05\n",
      "Epoch 28/44\n",
      "221478/221478 [==============================] - 11s 50us/sample - loss: 1.3456e-11 - accuracy: 1.0000 - val_loss: 1.3914e-04 - val_accuracy: 1.0000 - lr: 1.0000e-05\n",
      "Epoch 29/44\n",
      "221478/221478 [==============================] - 12s 53us/sample - loss: 1.3456e-11 - accuracy: 1.0000 - val_loss: 1.3908e-04 - val_accuracy: 1.0000 - lr: 1.0000e-05\n",
      "Epoch 30/44\n",
      "221478/221478 [==============================] - 11s 52us/sample - loss: 1.3456e-11 - accuracy: 1.0000 - val_loss: 1.3903e-04 - val_accuracy: 1.0000 - lr: 1.0000e-05\n",
      "Epoch 31/44\n",
      "221478/221478 [==============================] - 12s 55us/sample - loss: 1.2918e-11 - accuracy: 1.0000 - val_loss: 1.3897e-04 - val_accuracy: 1.0000 - lr: 1.0000e-05\n",
      "Epoch 32/44\n",
      "221478/221478 [==============================] - 12s 54us/sample - loss: 1.2918e-11 - accuracy: 1.0000 - val_loss: 1.3897e-04 - val_accuracy: 1.0000 - lr: 1.0000e-06\n",
      "Epoch 33/44\n",
      "221478/221478 [==============================] - 12s 54us/sample - loss: 1.2918e-11 - accuracy: 1.0000 - val_loss: 1.3896e-04 - val_accuracy: 1.0000 - lr: 1.0000e-06\n",
      "Epoch 34/44\n",
      "221478/221478 [==============================] - 12s 53us/sample - loss: 1.2918e-11 - accuracy: 1.0000 - val_loss: 1.3896e-04 - val_accuracy: 1.0000 - lr: 1.0000e-06\n",
      "Epoch 35/44\n",
      "221478/221478 [==============================] - 12s 54us/sample - loss: 1.2918e-11 - accuracy: 1.0000 - val_loss: 1.3895e-04 - val_accuracy: 1.0000 - lr: 1.0000e-06\n",
      "Epoch 36/44\n",
      "221478/221478 [==============================] - 12s 55us/sample - loss: 1.2918e-11 - accuracy: 1.0000 - val_loss: 1.3895e-04 - val_accuracy: 1.0000 - lr: 1.0000e-06\n",
      "Epoch 37/44\n",
      "221478/221478 [==============================] - 12s 53us/sample - loss: 1.2918e-11 - accuracy: 1.0000 - val_loss: 1.3894e-04 - val_accuracy: 1.0000 - lr: 1.0000e-06\n",
      "Epoch 38/44\n",
      "221478/221478 [==============================] - 12s 56us/sample - loss: 1.2918e-11 - accuracy: 1.0000 - val_loss: 1.3894e-04 - val_accuracy: 1.0000 - lr: 1.0000e-06\n",
      "Epoch 39/44\n",
      "221478/221478 [==============================] - 12s 53us/sample - loss: 1.2918e-11 - accuracy: 1.0000 - val_loss: 1.3894e-04 - val_accuracy: 1.0000 - lr: 1.0000e-06\n",
      "Epoch 40/44\n",
      "221478/221478 [==============================] - 12s 55us/sample - loss: 1.2918e-11 - accuracy: 1.0000 - val_loss: 1.3893e-04 - val_accuracy: 1.0000 - lr: 1.0000e-06\n",
      "Epoch 41/44\n",
      "221478/221478 [==============================] - 11s 50us/sample - loss: 1.2918e-11 - accuracy: 1.0000 - val_loss: 1.3893e-04 - val_accuracy: 1.0000 - lr: 1.0000e-06\n",
      "Epoch 42/44\n",
      "221478/221478 [==============================] - 13s 57us/sample - loss: 1.2918e-11 - accuracy: 1.0000 - val_loss: 1.3893e-04 - val_accuracy: 1.0000 - lr: 1.0000e-07\n",
      "Epoch 43/44\n",
      "221478/221478 [==============================] - 12s 56us/sample - loss: 1.2918e-11 - accuracy: 1.0000 - val_loss: 1.3893e-04 - val_accuracy: 1.0000 - lr: 1.0000e-07\n",
      "Epoch 44/44\n",
      "221478/221478 [==============================] - 12s 52us/sample - loss: 1.2918e-11 - accuracy: 1.0000 - val_loss: 1.3893e-04 - val_accuracy: 1.0000 - lr: 1.0000e-07\n",
      "Training time: 523.5679657459259\n"
     ]
    },
    {
     "name": "stderr",
     "output_type": "stream",
     "text": [
      "/usr/lib/python3.10/site-packages/keras/engine/training_v1.py:2357: UserWarning: `Model.state_updates` will be removed in a future version. This property should not be used in TensorFlow 2.0, as `updates` are applied automatically.\n",
      "  updates=self.state_updates,\n"
     ]
    },
    {
     "name": "stdout",
     "output_type": "stream",
     "text": [
      "Testing time: 1.0085971355438232\n",
      "\n"
     ]
    }
   ],
   "source": [
    "nadam = optimizers.Nadam(learning_rate = learning_rate, beta_1 = 0.9, beta_2 = 0.999, epsilon = 1e-08)\n",
    "cnn_model.compile(loss = \"sparse_categorical_crossentropy\", optimizer = \"nadam\", metrics = [\"accuracy\"])\n",
    "\n",
    "for i in range(1):\n",
    "    print(\"Iteration \" + str(i))\n",
    "    \n",
    "    # Train\n",
    "    cnn_model, train_time = AttackClassificationModel.train(X_train_CNN, Y_train, X_val_CNN, Y_val, epochs, batch_size, reduce_lr, cnn_model)\n",
    "    \n",
    "    # Test\n",
    "    Y_pred, test_time = AttackClassificationModel.test(X_test_CNN, cnn_model)\n",
    "    \n",
    "    # Multi classification metrics\n",
    "    labels = ['Bashlite_Junk','Bashlite_Scan','Bashlite_Udp', 'Bashlite_Tcp']\n",
    "    acc, f1, pre, rec = AttackClassificationModel.get_scores(Y_test, Y_pred, labels)\n",
    "    \n",
    "    # Print results\n",
    "    AttackClassificationModel.print_results(learning_rate,\n",
    "                                            epochs,\n",
    "                                            batch_size,\n",
    "                                            X_train,\n",
    "                                            X_val,\n",
    "                                            X_test,\n",
    "                                            opt_time,\n",
    "                                            train_time,\n",
    "                                            test_time,\n",
    "                                            acc,\n",
    "                                            f1,\n",
    "                                            pre,\n",
    "                                            rec,\n",
    "                                            Y_test,\n",
    "                                            Y_pred,\n",
    "                                            \"CNN\",\n",
    "                                            \"Results/ennio_doorbell.txt\")\n",
    "    \n",
    "    print(\"\")"
   ]
  },
  {
   "cell_type": "code",
   "execution_count": 15,
   "id": "7d2c6eb6",
   "metadata": {},
   "outputs": [
    {
     "data": {
      "image/png": "[encoded data removed]",
      "text/plain": [
       "<Figure size 600x600 with 1 Axes>"
      ]
     },
     "metadata": {},
     "output_type": "display_data"
    }
   ],
   "source": [
    "conf_matrix = confusion_matrix(Y_test, Y_pred)\n",
    "\n",
    "fig, ax = plt.subplots(figsize = (6, 6))\n",
    "ax.matshow(conf_matrix, cmap = plt.cm.Blues, alpha = 0.3)\n",
    "for i in range(conf_matrix.shape[0]):\n",
    "    for j in range(conf_matrix.shape[1]):\n",
    "        ax.text(x = j, y = i,s = conf_matrix[i, j], va = 'center', ha = 'center', size = 'large')\n",
    " \n",
    "plt.xlabel('Predictions', fontsize=12)\n",
    "plt.ylabel('Actuals', fontsize=12)\n",
    "plt.title('Confusion Matrix', fontsize=14)\n",
    "plt.savefig(\"Results/Confusion Matrix/ED CNN\")\n",
    "plt.show()"
   ]
  },
  {
   "cell_type": "markdown",
   "id": "7fd4a9d7",
   "metadata": {},
   "source": [
    "# NB Model"
   ]
  },
  {
   "cell_type": "code",
   "execution_count": 16,
   "id": "678952cb",
   "metadata": {},
   "outputs": [
    {
     "name": "stdout",
     "output_type": "stream",
     "text": [
      "Iteration 0\n",
      "Testing time: 0.06336832046508789\n",
      "\n"
     ]
    }
   ],
   "source": [
    "# Model\n",
    "nb_model = GaussianNB()\n",
    "\n",
    "for i in range(1):\n",
    "    print(\"Iteration \" + str(i))\n",
    "    \n",
    "    # Train\n",
    "    nb_model, train_time = AttackClassificationModel.train_nb_knn(X_train, Y_train, nb_model)\n",
    "    \n",
    "    # Test\n",
    "    Y_pred, test_time = AttackClassificationModel.test_nb_knn(X_test, nb_model)\n",
    "    \n",
    "    # Multi classification metrics\n",
    "    labels = ['Bashlite_Combo','Bashlite_Junk','Bashlite_Scan','Bashlite_Udp', 'Bashlite_Tcp']\n",
    "    acc, f1, pre, rec = AttackClassificationModel.get_scores(Y_test, Y_pred, labels)\n",
    "    \n",
    "    # Print results\n",
    "    AttackClassificationModel.print_results(learning_rate,\n",
    "                                            epochs,\n",
    "                                            batch_size,\n",
    "                                            X_train,\n",
    "                                            X_val,\n",
    "                                            X_test,\n",
    "                                            opt_time,\n",
    "                                            train_time,\n",
    "                                            test_time,\n",
    "                                            acc,\n",
    "                                            f1,\n",
    "                                            pre,\n",
    "                                            rec,\n",
    "                                            Y_test,\n",
    "                                            Y_pred,\n",
    "                                            \"NB\",\n",
    "                                            \"Results/ennio_doorbell.txt\")\n",
    "    \n",
    "    print(\"\")"
   ]
  },
  {
   "cell_type": "code",
   "execution_count": 17,
   "id": "5e238094",
   "metadata": {},
   "outputs": [
    {
     "data": {
      "image/png": "[encoded data removed]",
      "text/plain": [
       "<Figure size 600x600 with 1 Axes>"
      ]
     },
     "metadata": {},
     "output_type": "display_data"
    }
   ],
   "source": [
    "conf_matrix = confusion_matrix(Y_test, Y_pred)\n",
    "\n",
    "fig, ax = plt.subplots(figsize = (6, 6))\n",
    "ax.matshow(conf_matrix, cmap = plt.cm.Blues, alpha = 0.3)\n",
    "for i in range(conf_matrix.shape[0]):\n",
    "    for j in range(conf_matrix.shape[1]):\n",
    "        ax.text(x = j, y = i,s = conf_matrix[i, j], va = 'center', ha = 'center', size = 'large')\n",
    " \n",
    "plt.xlabel('Predictions', fontsize=12)\n",
    "plt.ylabel('Actuals', fontsize=12)\n",
    "plt.title('Confusion Matrix', fontsize=14)\n",
    "plt.savefig(\"Results/Confusion Matrix/ED NB\")\n",
    "plt.show()"
   ]
  },
  {
   "cell_type": "markdown",
   "id": "005ac71e",
   "metadata": {},
   "source": [
    "# KNN Model"
   ]
  },
  {
   "cell_type": "code",
   "execution_count": 18,
   "id": "dc3a9d0c",
   "metadata": {},
   "outputs": [
    {
     "name": "stdout",
     "output_type": "stream",
     "text": [
      "Iteration 0\n",
      "Testing time: 35.69515538215637\n",
      "\n"
     ]
    }
   ],
   "source": [
    "# Model\n",
    "knn_model = KNeighborsClassifier(n_neighbors = 50)\n",
    "\n",
    "for i in range(1):\n",
    "    print(\"Iteration \" + str(i))\n",
    "    \n",
    "    # Train\n",
    "    knn_model, train_time = AttackClassificationModel.train_nb_knn(X_train, Y_train, knn_model)\n",
    "    \n",
    "    # Test\n",
    "    Y_pred, test_time = AttackClassificationModel.test_nb_knn(X_test, knn_model)\n",
    "    \n",
    "    # Multi classification metrics\n",
    "    labels = ['Bashlite_Combo','Bashlite_Junk','Bashlite_Scan','Bashlite_Udp', 'Bashlite_Tcp']\n",
    "    acc, f1, pre, rec = AttackClassificationModel.get_scores(Y_test, Y_pred, labels)\n",
    "    \n",
    "    # Print results\n",
    "    AttackClassificationModel.print_results(learning_rate,\n",
    "                                            epochs,\n",
    "                                            batch_size,\n",
    "                                            X_train,\n",
    "                                            X_val,\n",
    "                                            X_test,\n",
    "                                            opt_time,\n",
    "                                            train_time,\n",
    "                                            test_time,\n",
    "                                            acc,\n",
    "                                            f1,\n",
    "                                            pre,\n",
    "                                            rec,\n",
    "                                            Y_test,\n",
    "                                            Y_pred,\n",
    "                                            \"KNN\",\n",
    "                                            \"Results/ennio_doorbell.txt\")\n",
    "    \n",
    "    print(\"\")"
   ]
  },
  {
   "cell_type": "code",
   "execution_count": 19,
   "id": "ab7d3dd6",
   "metadata": {},
   "outputs": [
    {
     "data": {
      "image/png": "[encoded data removed]",
      "text/plain": [
       "<Figure size 600x600 with 1 Axes>"
      ]
     },
     "metadata": {},
     "output_type": "display_data"
    }
   ],
   "source": [
    "conf_matrix = confusion_matrix(Y_test, Y_pred)\n",
    "\n",
    "fig, ax = plt.subplots(figsize = (6, 6))\n",
    "ax.matshow(conf_matrix, cmap = plt.cm.Blues, alpha = 0.3)\n",
    "for i in range(conf_matrix.shape[0]):\n",
    "    for j in range(conf_matrix.shape[1]):\n",
    "        ax.text(x = j, y = i,s = conf_matrix[i, j], va = 'center', ha = 'center', size = 'large')\n",
    " \n",
    "plt.xlabel('Predictions', fontsize=12)\n",
    "plt.ylabel('Actuals', fontsize=12)\n",
    "plt.title('Confusion Matrix', fontsize=14)\n",
    "plt.savefig(\"Results/Confusion Matrix/ED KNN\")\n",
    "plt.show()"
   ]
  },
  {
   "cell_type": "code",
   "execution_count": null,
   "id": "69bf1ebe",
   "metadata": {},
   "outputs": [],
   "source": []
  }
 ],
 "metadata": {
  "kernelspec": {
   "display_name": "Python 3 (ipykernel)",
   "language": "python",
   "name": "python3"
  },
  "language_info": {
   "codemirror_mode": {
    "name": "ipython",
    "version": 3
   },
   "file_extension": ".py",
   "mimetype": "text/x-python",
   "name": "python",
   "nbconvert_exporter": "python",
   "pygments_lexer": "ipython3",
   "version": "3.10.9"
  }
 },
 "nbformat": 4,
 "nbformat_minor": 5
}
