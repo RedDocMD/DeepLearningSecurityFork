{
 "cells": [
  {
   "cell_type": "code",
   "execution_count": 2,
   "id": "0e390d47",
   "metadata": {
    "tags": []
   },
   "outputs": [],
   "source": [
    "import sys\n",
    "# !pip3 install matplotlib\n",
    "# !pip3 install pandas\n",
    "# !pip3 install seaborn\n",
    "# !pip3 install --upgrade tensorflow-gpu\n",
    "# !pip3 install import-ipynb\n",
    "# !pip3 install cuda-python\n",
    "# !pip3 install -U scikit-learn\n",
    "# !pip3 install bayesian-optimization\n",
    "\n",
    "import os\n",
    "os.environ['TF_CPP_MIN_LOG_LEVEL'] = '3' \n",
    "\n",
    "import matplotlib.pyplot as plt\n",
    "import seaborn as sns\n",
    "import numpy as np\n",
    "import pandas as pd\n",
    "import glob\n",
    "import math\n",
    "import pickle\n",
    "import time\n",
    "\n",
    "import import_ipynb\n",
    "import AttackClassificationModel\n",
    "\n",
    "import tensorflow as tf\n",
    "tf.compat.v1.disable_eager_execution()\n",
    "from tensorflow.keras.optimizers.legacy import Nadam\n",
    "from tensorflow.keras.callbacks import ReduceLROnPlateau\n",
    "\n",
    "from sklearn.pipeline import Pipeline\n",
    "from sklearn.preprocessing import MinMaxScaler\n",
    "from sklearn.metrics import confusion_matrix\n",
    "from sklearn.neighbors import KNeighborsClassifier\n",
    "from sklearn.naive_bayes import GaussianNB\n",
    "\n",
    "from bayes_opt import BayesianOptimization\n",
    "\n",
    "%matplotlib inline"
   ]
  },
  {
   "cell_type": "code",
   "execution_count": 3,
   "id": "c8e2f579",
   "metadata": {
    "tags": []
   },
   "outputs": [],
   "source": [
    "gpu_options = tf.compat.v1.GPUOptions(per_process_gpu_memory_fraction = 0.333)\n",
    "sess = tf.compat.v1.Session(config = tf.compat.v1.ConfigProto(gpu_options = gpu_options))"
   ]
  },
  {
   "cell_type": "markdown",
   "id": "9844abb8",
   "metadata": {},
   "source": [
    "# Data Pre-Processing"
   ]
  },
  {
   "cell_type": "code",
   "execution_count": 4,
   "id": "097288a0",
   "metadata": {
    "tags": []
   },
   "outputs": [],
   "source": [
    "df_mirai = AttackClassificationModel.get_files_nbaiot_mirai('../../nbaiot/Danmini_Doorbell/mirai')\n",
    "df_gafgyt = AttackClassificationModel.get_files_nbaiot_gafgyt('../../nbaiot/Danmini_Doorbell/gafgyt')\n",
    "\n",
    "# Mirai Ack\n",
    "df_mirai_ack, label_mirai_ack = AttackClassificationModel.get_attack(0, df_mirai)\n",
    "\n",
    "# Mirai Scan\n",
    "df_mirai_scan, label_mirai_scan = AttackClassificationModel.get_attack(1, df_mirai)\n",
    "\n",
    "# Mirai Syn\n",
    "df_mirai_syn, label_mirai_syn = AttackClassificationModel.get_attack(2, df_mirai)\n",
    "\n",
    "# Mirai Udp\n",
    "df_mirai_udp, label_mirai_udp = AttackClassificationModel.get_attack(3, df_mirai)\n",
    "\n",
    "# Mirai Udpplain\n",
    "df_mirai_udpplain, label_mirai_udpplain = AttackClassificationModel.get_attack(4, df_mirai)\n",
    "\n",
    "# Gafgyt Combo\n",
    "df_gafgyt_combo, label_gafgyt_combo = AttackClassificationModel.get_attack(5, df_gafgyt)\n",
    "\n",
    "# Gafgyt Junk\n",
    "df_gafgyt_junk, label_gafgyt_junk = AttackClassificationModel.get_attack(6, df_gafgyt)\n",
    "\n",
    "# Gafgyt Scan\n",
    "df_gafgyt_scan, label_gafgyt_scan = AttackClassificationModel.get_attack(7, df_gafgyt)\n",
    "\n",
    "# Gafgyt Tcp\n",
    "df_gafgyt_tcp, label_gafgyt_tcp = AttackClassificationModel.get_attack(8, df_gafgyt)\n",
    "\n",
    "# Gafgyt Udp\n",
    "df_gafgyt_udp, label_gafgyt_udp = AttackClassificationModel.get_attack(9, df_gafgyt)"
   ]
  },
  {
   "cell_type": "code",
   "execution_count": 5,
   "id": "f9d532bb",
   "metadata": {
    "scrolled": true,
    "tags": []
   },
   "outputs": [],
   "source": [
    "# Normalize with the min-max scaler\n",
    "scaler = MinMaxScaler()\n",
    "df_mirai_ack_norm = scaler.fit_transform(df_mirai_ack)\n",
    "df_mirai_scan_norm = scaler.fit_transform(df_mirai_scan)\n",
    "df_mirai_syn_norm = scaler.fit_transform(df_mirai_syn)\n",
    "df_mirai_udp_norm = scaler.fit_transform(df_mirai_udp)\n",
    "df_mirai_udpplain_norm = scaler.fit_transform(df_mirai_udpplain)\n",
    "df_gafgyt_combo_norm = scaler.fit_transform(df_gafgyt_combo)\n",
    "df_gafgyt_junk_norm = scaler.fit_transform(df_gafgyt_junk)\n",
    "df_gafgyt_scan_norm = scaler.fit_transform(df_gafgyt_scan)\n",
    "df_gafgyt_tcp_norm = scaler.fit_transform(df_gafgyt_tcp)\n",
    "df_gafgyt_udp_norm = scaler.fit_transform(df_gafgyt_udp)"
   ]
  },
  {
   "cell_type": "markdown",
   "id": "36792cd6",
   "metadata": {},
   "source": [
    "# Sets"
   ]
  },
  {
   "cell_type": "code",
   "execution_count": 6,
   "id": "e74623f2",
   "metadata": {
    "tags": []
   },
   "outputs": [],
   "source": [
    "# Train\n",
    "len_mirai_ack_train = int(0.7 * len(df_mirai_ack_norm))\n",
    "X_mirai_ack_train = df_mirai_ack_norm[:len_mirai_ack_train]\n",
    "\n",
    "len_mirai_scan_train = int(0.7 * len(df_mirai_scan_norm))\n",
    "X_mirai_scan_train = df_mirai_scan_norm[:len_mirai_scan_train]\n",
    "\n",
    "len_mirai_syn_train = int(0.7 * len(df_mirai_syn_norm))\n",
    "X_mirai_syn_train = df_mirai_syn_norm[:len_mirai_syn_train]\n",
    "\n",
    "len_mirai_udp_train = int(0.7 * len(df_mirai_udp_norm))\n",
    "X_mirai_udp_train = df_mirai_udp_norm[:len_mirai_udp_train]\n",
    "\n",
    "len_mirai_udpplain_train = int(0.7 * len(df_mirai_udpplain_norm))\n",
    "X_mirai_udpplain_train = df_mirai_udpplain_norm[:len_mirai_udpplain_train]\n",
    "\n",
    "len_gafgyt_combo_train = int(0.7 * len(df_gafgyt_combo_norm))\n",
    "X_gafgyt_combo_train = df_gafgyt_combo_norm[:len_gafgyt_combo_train]\n",
    "\n",
    "len_gafgyt_junk_train = int(0.7 * len(df_gafgyt_junk_norm))\n",
    "X_gafgyt_junk_train = df_gafgyt_junk_norm[:len_gafgyt_junk_train]\n",
    "\n",
    "len_gafgyt_scan_train = int(0.7 * len(df_gafgyt_scan_norm))\n",
    "X_gafgyt_scan_train = df_gafgyt_scan_norm[:len_gafgyt_scan_train]\n",
    "\n",
    "len_gafgyt_tcp_train = int(0.7 * len(df_gafgyt_tcp_norm))\n",
    "X_gafgyt_tcp_train = df_gafgyt_tcp_norm[:len_gafgyt_tcp_train]\n",
    "\n",
    "len_gafgyt_udp_train = int(0.7 * len(df_gafgyt_udp_norm))\n",
    "X_gafgyt_udp_train = df_gafgyt_udp_norm[:len_gafgyt_udp_train]\n",
    "\n",
    "X_train = np.concatenate([X_mirai_ack_train, X_mirai_scan_train, X_mirai_syn_train, X_mirai_udp_train, X_mirai_udpplain_train,\n",
    "                          X_gafgyt_combo_train, X_gafgyt_junk_train, X_gafgyt_scan_train, X_gafgyt_tcp_train, X_gafgyt_udp_train])\n",
    "Y_train = np.concatenate([label_mirai_ack[:len_mirai_ack_train], label_mirai_scan[:len_mirai_scan_train], label_mirai_syn[:len_mirai_syn_train], \n",
    "                          label_mirai_udp[:len_mirai_udp_train], label_mirai_udpplain[:len_mirai_udpplain_train],  \n",
    "                          label_gafgyt_combo[:len_gafgyt_combo_train], label_gafgyt_junk[:len_gafgyt_junk_train], \n",
    "                          label_gafgyt_scan[:len_gafgyt_scan_train], label_gafgyt_tcp[:len_gafgyt_tcp_train], label_gafgyt_udp[:len_gafgyt_udp_train]])"
   ]
  },
  {
   "cell_type": "code",
   "execution_count": 7,
   "id": "a0b623d9",
   "metadata": {
    "tags": []
   },
   "outputs": [],
   "source": [
    "# Test\n",
    "len_mirai_ack_test = len_mirai_ack_train + int(0.15 * len(df_mirai_ack_norm))\n",
    "X_mirai_ack_test = df_mirai_ack_norm[len_mirai_ack_train : len_mirai_ack_test]\n",
    "\n",
    "len_mirai_scan_test = len_mirai_scan_train + int(0.15 * len(df_mirai_scan_norm))\n",
    "X_mirai_scan_test = df_mirai_scan_norm[len_mirai_scan_train : len_mirai_scan_test]\n",
    "\n",
    "len_mirai_syn_test = len_mirai_syn_train + int(0.15 * len(df_mirai_syn_norm))\n",
    "X_mirai_syn_test = df_mirai_syn_norm[len_mirai_syn_train : len_mirai_syn_test]\n",
    "\n",
    "len_mirai_udp_test = len_mirai_udp_train + int(0.15 * len(df_mirai_udp_norm))\n",
    "X_mirai_udp_test = df_mirai_udp_norm[len_mirai_udp_train : len_mirai_udp_test]\n",
    "\n",
    "len_mirai_udpplain_test = len_mirai_udpplain_train + int(0.15 * len(df_mirai_udpplain_norm))\n",
    "X_mirai_udpplain_test = df_mirai_udpplain_norm[len_mirai_udpplain_train : len_mirai_udpplain_test]\n",
    "\n",
    "len_gafgyt_combo_test = len_gafgyt_combo_train + int(0.15 * len(df_gafgyt_combo_norm))\n",
    "X_gafgyt_combo_test = df_gafgyt_combo_norm[len_gafgyt_combo_train : len_gafgyt_combo_test]\n",
    "\n",
    "len_gafgyt_junk_test = len_gafgyt_junk_train + int(0.15 * len(df_gafgyt_junk_norm))\n",
    "X_gafgyt_junk_test = df_gafgyt_junk_norm[len_gafgyt_junk_train : len_gafgyt_junk_test]\n",
    "\n",
    "len_gafgyt_scan_test = len_gafgyt_scan_train + int(0.15 * len(df_gafgyt_scan_norm))\n",
    "X_gafgyt_scan_test = df_gafgyt_scan_norm[len_gafgyt_scan_train : len_gafgyt_scan_test]\n",
    "\n",
    "len_gafgyt_tcp_test = len_gafgyt_tcp_train + int(0.15 * len(df_gafgyt_tcp_norm))\n",
    "X_gafgyt_tcp_test = df_gafgyt_tcp_norm[len_gafgyt_tcp_train : len_gafgyt_tcp_test]\n",
    "\n",
    "len_gafgyt_udp_test = len_gafgyt_udp_train + int(0.15 * len(df_gafgyt_udp_norm))\n",
    "X_gafgyt_udp_test = df_gafgyt_udp_norm[len_gafgyt_udp_train : len_gafgyt_udp_test]\n",
    "\n",
    "X_test = np.concatenate([X_mirai_ack_test, X_mirai_scan_test, X_mirai_syn_test, X_mirai_udp_test, X_mirai_udpplain_test,\n",
    "                          X_gafgyt_combo_test, X_gafgyt_junk_test, X_gafgyt_scan_test, X_gafgyt_tcp_test, X_gafgyt_udp_test])\n",
    "Y_test = np.concatenate([label_mirai_ack[len_mirai_ack_train : len_mirai_ack_test], label_mirai_scan[len_mirai_scan_train : len_mirai_scan_test], label_mirai_syn[len_mirai_syn_train : len_mirai_syn_test], \n",
    "                         label_mirai_udp[len_mirai_udp_train : len_mirai_udp_test], label_mirai_udpplain[len_mirai_udpplain_train : len_mirai_udpplain_test],  \n",
    "                         label_gafgyt_combo[len_gafgyt_combo_train : len_gafgyt_combo_test], label_gafgyt_junk[len_gafgyt_junk_train : len_gafgyt_junk_test], \n",
    "                         label_gafgyt_scan[len_gafgyt_scan_train : len_gafgyt_scan_test], label_gafgyt_tcp[len_gafgyt_tcp_train : len_gafgyt_tcp_test], label_gafgyt_udp[len_gafgyt_udp_train : len_gafgyt_udp_test]])\n"
   ]
  },
  {
   "cell_type": "code",
   "execution_count": 8,
   "id": "6ea7686f",
   "metadata": {
    "tags": []
   },
   "outputs": [],
   "source": [
    "# Validation\n",
    "X_mirai_ack_val = df_mirai_ack_norm[len_mirai_ack_test:]\n",
    "X_mirai_scan_val = df_mirai_scan_norm[len_mirai_scan_test:]\n",
    "X_mirai_syn_val = df_mirai_syn_norm[len_mirai_syn_test:]\n",
    "X_mirai_udp_val = df_mirai_udp_norm[len_mirai_udp_test:]\n",
    "X_mirai_udpplain_val = df_mirai_udpplain_norm[len_mirai_udpplain_test:]\n",
    "X_gafgyt_combo_val = df_gafgyt_combo_norm[len_gafgyt_combo_test:]\n",
    "X_gafgyt_junk_val = df_gafgyt_junk_norm[len_gafgyt_junk_test:]\n",
    "X_gafgyt_scan_val = df_gafgyt_scan_norm[len_gafgyt_scan_test:]\n",
    "X_gafgyt_tcp_val = df_gafgyt_tcp_norm[len_gafgyt_tcp_test:]\n",
    "X_gafgyt_udp_val = df_gafgyt_udp_norm[len_gafgyt_udp_test:]\n",
    "\n",
    "X_val = np.concatenate([X_mirai_ack_val, X_mirai_scan_val, X_mirai_syn_val, X_mirai_udp_val, X_mirai_udpplain_val,\n",
    "                        X_gafgyt_combo_val, X_gafgyt_junk_val, X_gafgyt_scan_val, X_gafgyt_tcp_val, X_gafgyt_udp_val])\n",
    "Y_val = np.concatenate([label_mirai_ack[len_mirai_ack_test:], label_mirai_scan[len_mirai_scan_test:], label_mirai_syn[len_mirai_syn_test:], \n",
    "                        label_mirai_udp[len_mirai_udp_test:], label_mirai_udpplain[len_mirai_udpplain_test:],  \n",
    "                        label_gafgyt_combo[len_gafgyt_combo_test:], label_gafgyt_junk[len_gafgyt_junk_test:], \n",
    "                        label_gafgyt_scan[len_gafgyt_scan_test:], label_gafgyt_tcp[len_gafgyt_tcp_test:], label_gafgyt_udp[len_gafgyt_udp_test:]])"
   ]
  },
  {
   "cell_type": "code",
   "execution_count": 9,
   "id": "4ade2b21",
   "metadata": {
    "tags": []
   },
   "outputs": [],
   "source": [
    "X_train_CNN = np.reshape(X_train, (X_train.shape[0], X_train.shape[1], 1))\n",
    "X_test_CNN = np.reshape(X_test, (X_test.shape[0], X_test.shape[1], 1))\n",
    "X_val_CNN = np.reshape(X_val, (X_val.shape[0], X_val.shape[1], 1))\n",
    "\n",
    "samples, feature, depth = X_train_CNN.shape"
   ]
  },
  {
   "cell_type": "markdown",
   "id": "a6df1b5e",
   "metadata": {},
   "source": [
    "# Model"
   ]
  },
  {
   "cell_type": "code",
   "execution_count": 9,
   "id": "967c9ce1",
   "metadata": {},
   "outputs": [],
   "source": [
    "# Initial values\n",
    "batch_size = 50\n",
    "learning_rate = 0.008\n",
    "epochs = 5\n",
    "\n",
    "# Dictionary\n",
    "dict_params = { 'learning_rate': learning_rate, 'batch_size': round(batch_size), 'epochs': round(epochs) }\n",
    "pbounds = { 'learning_rate': (0.000001, 0.001), 'batch_size': (10, 23), 'epochs': (1, 100) }"
   ]
  },
  {
   "cell_type": "code",
   "execution_count": 10,
   "id": "df263d3a",
   "metadata": {},
   "outputs": [],
   "source": [
    "cnn_model = AttackClassificationModel.CNN(feature, depth, 10)\n",
    "reduce_lr = ReduceLROnPlateau(moniter = 'val_loss', factor = 0.1, patience = 10)"
   ]
  },
  {
   "cell_type": "markdown",
   "id": "0b29bec7",
   "metadata": {},
   "source": [
    "# Hyperparameter Optimization"
   ]
  },
  {
   "cell_type": "code",
   "execution_count": 11,
   "id": "2438969e",
   "metadata": {},
   "outputs": [],
   "source": [
    "def maximize_training(X_train = X_train_CNN,\n",
    "                      Y_train = Y_train, \n",
    "                      X_val = X_val_CNN, \n",
    "                      Y_val = Y_val, \n",
    "                      X_test = X_test_CNN, \n",
    "                      Y_test = Y_test, \n",
    "                      learning_rate = learning_rate, \n",
    "                      epochs = epochs, \n",
    "                      batch_size = batch_size,\n",
    "                      reduce_lr = reduce_lr):\n",
    "    \n",
    "    nadam = Nadam(learning_rate = dict_params['learning_rate'], beta_1 = 0.9, beta_2 = 0.999, epsilon = 1e-08, schedule_decay = 0.004)\n",
    "    model = AttackClassificationModel.CNN_nbaiot(feature, depth)\n",
    "    model.compile(loss = \"sparse_categorical_crossentropy\", optimizer = \"nadam\", metrics = [\"accuracy\"])\n",
    "    \n",
    "    history = model.fit(X_train, Y_train, \n",
    "                        epochs = dict_params['epochs'], \n",
    "                        batch_size = dict_params['batch_size'], \n",
    "                        validation_data = (X_val, Y_val),\n",
    "                        callbacks = [reduce_lr],\n",
    "                        verbose = 0)\n",
    "\n",
    "    scores = model.evaluate(X_test, Y_test)\n",
    "    return scores[1]"
   ]
  },
  {
   "cell_type": "code",
   "execution_count": 12,
   "id": "7c51f700",
   "metadata": {},
   "outputs": [
    {
     "data": {
      "text/plain": [
       "'\\n# Apply Bayesian optimization to choose the best hyperparameters\\n\\nopt = BayesianOptimization(f = maximize_training,\\n                           pbounds = pbounds,\\n                           verbose = 2, \\n                           random_state = 1)\\n\\nopt_start = time.time()\\n\\nopt.maximize(init_points = 5, n_iter = 5)\\n\\nopt_end = time.time()\\nopt_time = opt_end - opt_start\\nprint(\"Optimization time:\", opt_time)\\n\\nlearning_rate = opt.max[\\'params\\'][\\'learning_rate\\']\\nepochs = round(opt.max[\\'params\\'][\\'epochs\\'])\\nbatch_size = round(opt.max[\\'params\\'][\\'batch_size\\'])\\n'"
      ]
     },
     "execution_count": 12,
     "metadata": {},
     "output_type": "execute_result"
    }
   ],
   "source": [
    "'''\n",
    "# Apply Bayesian optimization to choose the best hyperparameters\n",
    "\n",
    "opt = BayesianOptimization(f = maximize_training,\n",
    "                           pbounds = pbounds,\n",
    "                           verbose = 2, \n",
    "                           random_state = 1)\n",
    "\n",
    "opt_start = time.time()\n",
    "\n",
    "opt.maximize(init_points = 5, n_iter = 5)\n",
    "\n",
    "opt_end = time.time()\n",
    "opt_time = opt_end - opt_start\n",
    "print(\"Optimization time:\", opt_time)\n",
    "\n",
    "learning_rate = opt.max['params']['learning_rate']\n",
    "epochs = round(opt.max['params']['epochs'])\n",
    "batch_size = round(opt.max['params']['batch_size'])\n",
    "'''"
   ]
  },
  {
   "cell_type": "markdown",
   "id": "183de921",
   "metadata": {},
   "source": [
    "# Classify Attacks"
   ]
  },
  {
   "cell_type": "code",
   "execution_count": 11,
   "id": "2f0c0e98",
   "metadata": {
    "tags": []
   },
   "outputs": [],
   "source": [
    "# Training step with the best hyperparameters\n",
    "learning_rate = 0.07292995998460912\n",
    "epochs = 89\n",
    "batch_size = 50\n",
    "opt_time = 4647.598315238953"
   ]
  },
  {
   "cell_type": "code",
   "execution_count": 14,
   "id": "bc0a8a11",
   "metadata": {},
   "outputs": [
    {
     "name": "stdout",
     "output_type": "stream",
     "text": [
      "Iteration 0\n",
      "Train on 678120 samples, validate on 145322 samples\n",
      "Epoch 1/89\n",
      "678120/678120 [==============================] - ETA: 0s - loss: 0.0056 - accuracy: 0.9984"
     ]
    },
    {
     "name": "stderr",
     "output_type": "stream",
     "text": [
      "/home/andressa.amaral/.local/lib/python3.8/site-packages/keras/engine/training_v1.py:2333: UserWarning: `Model.state_updates` will be removed in a future version. This property should not be used in TensorFlow 2.0, as `updates` are applied automatically.\n",
      "  updates = self.state_updates\n"
     ]
    },
    {
     "name": "stdout",
     "output_type": "stream",
     "text": [
      "678120/678120 [==============================] - 153s 225us/sample - loss: 0.0056 - accuracy: 0.9984 - val_loss: 0.0011 - val_accuracy: 0.9998 - lr: 0.0010\n",
      "Epoch 2/89\n",
      "678120/678120 [==============================] - 150s 221us/sample - loss: 6.7636e-04 - accuracy: 0.9998 - val_loss: 2.1381e-04 - val_accuracy: 0.9999 - lr: 0.0010\n",
      "Epoch 3/89\n",
      "678120/678120 [==============================] - 151s 223us/sample - loss: 3.9441e-04 - accuracy: 0.9999 - val_loss: 3.5374e-04 - val_accuracy: 0.9999 - lr: 0.0010\n",
      "Epoch 4/89\n",
      "678120/678120 [==============================] - 149s 220us/sample - loss: 3.5622e-04 - accuracy: 0.9999 - val_loss: 4.2009e-05 - val_accuracy: 1.0000 - lr: 0.0010\n",
      "Epoch 5/89\n",
      "678120/678120 [==============================] - 152s 224us/sample - loss: 1.6016e-04 - accuracy: 1.0000 - val_loss: 2.3852e-04 - val_accuracy: 1.0000 - lr: 0.0010\n",
      "Epoch 6/89\n",
      "678120/678120 [==============================] - 153s 226us/sample - loss: 2.9612e-04 - accuracy: 0.9999 - val_loss: 1.9941e-04 - val_accuracy: 1.0000 - lr: 0.0010\n",
      "Epoch 7/89\n",
      "678120/678120 [==============================] - 150s 222us/sample - loss: 3.2144e-04 - accuracy: 0.9999 - val_loss: 2.7224e-05 - val_accuracy: 1.0000 - lr: 0.0010\n",
      "Epoch 8/89\n",
      "678120/678120 [==============================] - 149s 220us/sample - loss: 2.3753e-04 - accuracy: 1.0000 - val_loss: 4.5156e-05 - val_accuracy: 1.0000 - lr: 0.0010\n",
      "Epoch 9/89\n",
      "678120/678120 [==============================] - 150s 221us/sample - loss: 1.9557e-04 - accuracy: 1.0000 - val_loss: 2.7123e-04 - val_accuracy: 1.0000 - lr: 0.0010\n",
      "Epoch 10/89\n",
      "678120/678120 [==============================] - 152s 224us/sample - loss: 2.4610e-04 - accuracy: 1.0000 - val_loss: 6.8012e-05 - val_accuracy: 1.0000 - lr: 0.0010\n",
      "Epoch 11/89\n",
      "678120/678120 [==============================] - 153s 226us/sample - loss: 1.4296e-04 - accuracy: 1.0000 - val_loss: 8.4863e-05 - val_accuracy: 1.0000 - lr: 0.0010\n",
      "Epoch 12/89\n",
      "678120/678120 [==============================] - 152s 224us/sample - loss: 3.1616e-04 - accuracy: 1.0000 - val_loss: 1.6326e-04 - val_accuracy: 1.0000 - lr: 0.0010\n",
      "Epoch 13/89\n",
      "678120/678120 [==============================] - 149s 220us/sample - loss: 1.3388e-04 - accuracy: 1.0000 - val_loss: 5.8335e-05 - val_accuracy: 1.0000 - lr: 0.0010\n",
      "Epoch 14/89\n",
      "678120/678120 [==============================] - 152s 224us/sample - loss: 1.8955e-04 - accuracy: 1.0000 - val_loss: 6.9417e-05 - val_accuracy: 1.0000 - lr: 0.0010\n",
      "Epoch 15/89\n",
      "678120/678120 [==============================] - 150s 222us/sample - loss: 3.4455e-05 - accuracy: 1.0000 - val_loss: 5.9498e-05 - val_accuracy: 1.0000 - lr: 1.0000e-04\n",
      "Epoch 16/89\n",
      "678120/678120 [==============================] - 135s 199us/sample - loss: 8.9050e-06 - accuracy: 1.0000 - val_loss: 7.2708e-05 - val_accuracy: 1.0000 - lr: 1.0000e-04\n",
      "Epoch 17/89\n",
      "678120/678120 [==============================] - 101s 149us/sample - loss: 1.3027e-05 - accuracy: 1.0000 - val_loss: 8.0534e-05 - val_accuracy: 1.0000 - lr: 1.0000e-04\n",
      "Epoch 18/89\n",
      "678120/678120 [==============================] - 99s 146us/sample - loss: 6.7231e-06 - accuracy: 1.0000 - val_loss: 8.3079e-05 - val_accuracy: 1.0000 - lr: 1.0000e-04\n",
      "Epoch 19/89\n",
      "678120/678120 [==============================] - 100s 147us/sample - loss: 5.4530e-06 - accuracy: 1.0000 - val_loss: 9.4285e-05 - val_accuracy: 1.0000 - lr: 1.0000e-04\n",
      "Epoch 20/89\n",
      "678120/678120 [==============================] - 100s 148us/sample - loss: 8.4748e-06 - accuracy: 1.0000 - val_loss: 9.4328e-05 - val_accuracy: 1.0000 - lr: 1.0000e-04\n",
      "Epoch 21/89\n",
      "678120/678120 [==============================] - 99s 145us/sample - loss: 7.4729e-06 - accuracy: 1.0000 - val_loss: 1.0621e-04 - val_accuracy: 1.0000 - lr: 1.0000e-04\n",
      "Epoch 22/89\n",
      "678120/678120 [==============================] - 100s 148us/sample - loss: 4.3883e-06 - accuracy: 1.0000 - val_loss: 1.2336e-04 - val_accuracy: 1.0000 - lr: 1.0000e-04\n",
      "Epoch 23/89\n",
      "678120/678120 [==============================] - 99s 146us/sample - loss: 4.9830e-06 - accuracy: 1.0000 - val_loss: 1.2517e-04 - val_accuracy: 1.0000 - lr: 1.0000e-04\n",
      "Epoch 24/89\n",
      "678120/678120 [==============================] - 127s 188us/sample - loss: 4.7235e-06 - accuracy: 1.0000 - val_loss: 1.1347e-04 - val_accuracy: 1.0000 - lr: 1.0000e-04\n",
      "Epoch 25/89\n",
      "678120/678120 [==============================] - 156s 230us/sample - loss: 1.9282e-06 - accuracy: 1.0000 - val_loss: 1.1425e-04 - val_accuracy: 1.0000 - lr: 1.0000e-05\n",
      "Epoch 26/89\n",
      "678120/678120 [==============================] - 143s 211us/sample - loss: 1.8889e-06 - accuracy: 1.0000 - val_loss: 1.1561e-04 - val_accuracy: 1.0000 - lr: 1.0000e-05\n",
      "Epoch 27/89\n",
      "678120/678120 [==============================] - 150s 221us/sample - loss: 1.7800e-06 - accuracy: 1.0000 - val_loss: 1.1582e-04 - val_accuracy: 1.0000 - lr: 1.0000e-05\n",
      "Epoch 28/89\n",
      "678120/678120 [==============================] - 152s 224us/sample - loss: 1.7619e-06 - accuracy: 1.0000 - val_loss: 1.1655e-04 - val_accuracy: 1.0000 - lr: 1.0000e-05\n",
      "Epoch 29/89\n",
      "678120/678120 [==============================] - 149s 220us/sample - loss: 1.8420e-06 - accuracy: 1.0000 - val_loss: 1.1714e-04 - val_accuracy: 1.0000 - lr: 1.0000e-05\n",
      "Epoch 30/89\n",
      "678120/678120 [==============================] - 152s 224us/sample - loss: 1.7292e-06 - accuracy: 1.0000 - val_loss: 1.1739e-04 - val_accuracy: 1.0000 - lr: 1.0000e-05\n",
      "Epoch 31/89\n",
      "678120/678120 [==============================] - 153s 225us/sample - loss: 1.8133e-06 - accuracy: 1.0000 - val_loss: 1.1823e-04 - val_accuracy: 1.0000 - lr: 1.0000e-05\n",
      "Epoch 32/89\n",
      "678120/678120 [==============================] - 152s 223us/sample - loss: 1.7282e-06 - accuracy: 1.0000 - val_loss: 1.1880e-04 - val_accuracy: 1.0000 - lr: 1.0000e-05\n",
      "Epoch 33/89\n",
      "678120/678120 [==============================] - 150s 221us/sample - loss: 1.8067e-06 - accuracy: 1.0000 - val_loss: 1.1967e-04 - val_accuracy: 1.0000 - lr: 1.0000e-05\n",
      "Epoch 34/89\n",
      "678120/678120 [==============================] - 152s 224us/sample - loss: 1.7577e-06 - accuracy: 1.0000 - val_loss: 1.2109e-04 - val_accuracy: 1.0000 - lr: 1.0000e-05\n",
      "Epoch 35/89\n",
      "678120/678120 [==============================] - 152s 224us/sample - loss: 1.5438e-06 - accuracy: 1.0000 - val_loss: 1.2112e-04 - val_accuracy: 1.0000 - lr: 1.0000e-06\n",
      "Epoch 36/89\n",
      "678120/678120 [==============================] - 150s 220us/sample - loss: 1.5428e-06 - accuracy: 1.0000 - val_loss: 1.2114e-04 - val_accuracy: 1.0000 - lr: 1.0000e-06\n",
      "Epoch 37/89\n",
      "678120/678120 [==============================] - 151s 223us/sample - loss: 1.5357e-06 - accuracy: 1.0000 - val_loss: 1.2119e-04 - val_accuracy: 1.0000 - lr: 1.0000e-06\n",
      "Epoch 38/89\n",
      "678120/678120 [==============================] - 150s 221us/sample - loss: 1.5338e-06 - accuracy: 1.0000 - val_loss: 1.2130e-04 - val_accuracy: 1.0000 - lr: 1.0000e-06\n",
      "Epoch 39/89\n",
      "678120/678120 [==============================] - 152s 224us/sample - loss: 1.5329e-06 - accuracy: 1.0000 - val_loss: 1.2134e-04 - val_accuracy: 1.0000 - lr: 1.0000e-06\n",
      "Epoch 40/89\n",
      "678120/678120 [==============================] - 153s 226us/sample - loss: 1.5386e-06 - accuracy: 1.0000 - val_loss: 1.2137e-04 - val_accuracy: 1.0000 - lr: 1.0000e-06\n",
      "Epoch 41/89\n",
      "678120/678120 [==============================] - 152s 224us/sample - loss: 1.5384e-06 - accuracy: 1.0000 - val_loss: 1.2143e-04 - val_accuracy: 1.0000 - lr: 1.0000e-06\n",
      "Epoch 42/89\n",
      "678120/678120 [==============================] - 150s 221us/sample - loss: 1.5382e-06 - accuracy: 1.0000 - val_loss: 1.2144e-04 - val_accuracy: 1.0000 - lr: 1.0000e-06\n",
      "Epoch 43/89\n",
      "678120/678120 [==============================] - 152s 224us/sample - loss: 1.5377e-06 - accuracy: 1.0000 - val_loss: 1.2150e-04 - val_accuracy: 1.0000 - lr: 1.0000e-06\n",
      "Epoch 44/89\n",
      "678120/678120 [==============================] - 150s 221us/sample - loss: 1.5302e-06 - accuracy: 1.0000 - val_loss: 1.2153e-04 - val_accuracy: 1.0000 - lr: 1.0000e-06\n",
      "Epoch 45/89\n",
      "678120/678120 [==============================] - 154s 227us/sample - loss: 1.5147e-06 - accuracy: 1.0000 - val_loss: 1.2153e-04 - val_accuracy: 1.0000 - lr: 1.0000e-07\n",
      "Epoch 46/89\n",
      "678120/678120 [==============================] - 149s 220us/sample - loss: 1.5145e-06 - accuracy: 1.0000 - val_loss: 1.2154e-04 - val_accuracy: 1.0000 - lr: 1.0000e-07\n",
      "Epoch 47/89\n",
      "678120/678120 [==============================] - 149s 220us/sample - loss: 1.5145e-06 - accuracy: 1.0000 - val_loss: 1.2154e-04 - val_accuracy: 1.0000 - lr: 1.0000e-07\n",
      "Epoch 48/89\n",
      "678120/678120 [==============================] - 152s 224us/sample - loss: 1.5145e-06 - accuracy: 1.0000 - val_loss: 1.2155e-04 - val_accuracy: 1.0000 - lr: 1.0000e-07\n",
      "Epoch 49/89\n",
      "678120/678120 [==============================] - 150s 221us/sample - loss: 1.5150e-06 - accuracy: 1.0000 - val_loss: 1.2156e-04 - val_accuracy: 1.0000 - lr: 1.0000e-07\n",
      "Epoch 50/89\n",
      "678120/678120 [==============================] - 154s 226us/sample - loss: 1.5149e-06 - accuracy: 1.0000 - val_loss: 1.2156e-04 - val_accuracy: 1.0000 - lr: 1.0000e-07\n",
      "Epoch 51/89\n",
      "678120/678120 [==============================] - 149s 220us/sample - loss: 1.5149e-06 - accuracy: 1.0000 - val_loss: 1.2156e-04 - val_accuracy: 1.0000 - lr: 1.0000e-07\n",
      "Epoch 52/89\n",
      "678120/678120 [==============================] - 152s 224us/sample - loss: 1.5147e-06 - accuracy: 1.0000 - val_loss: 1.2158e-04 - val_accuracy: 1.0000 - lr: 1.0000e-07\n",
      "Epoch 53/89\n",
      "678120/678120 [==============================] - 150s 221us/sample - loss: 1.5140e-06 - accuracy: 1.0000 - val_loss: 1.2158e-04 - val_accuracy: 1.0000 - lr: 1.0000e-07\n",
      "Epoch 54/89\n",
      "678120/678120 [==============================] - 151s 223us/sample - loss: 1.5146e-06 - accuracy: 1.0000 - val_loss: 1.2158e-04 - val_accuracy: 1.0000 - lr: 1.0000e-07\n",
      "Epoch 55/89\n",
      "678120/678120 [==============================] - 152s 224us/sample - loss: 1.5124e-06 - accuracy: 1.0000 - val_loss: 1.2158e-04 - val_accuracy: 1.0000 - lr: 1.0000e-08\n",
      "Epoch 56/89\n",
      "678120/678120 [==============================] - 150s 221us/sample - loss: 1.5125e-06 - accuracy: 1.0000 - val_loss: 1.2158e-04 - val_accuracy: 1.0000 - lr: 1.0000e-08\n",
      "Epoch 57/89\n",
      "678120/678120 [==============================] - 152s 223us/sample - loss: 1.5124e-06 - accuracy: 1.0000 - val_loss: 1.2159e-04 - val_accuracy: 1.0000 - lr: 1.0000e-08\n",
      "Epoch 58/89\n",
      "678120/678120 [==============================] - 150s 222us/sample - loss: 1.5124e-06 - accuracy: 1.0000 - val_loss: 1.2159e-04 - val_accuracy: 1.0000 - lr: 1.0000e-08\n",
      "Epoch 59/89\n",
      "678120/678120 [==============================] - 156s 230us/sample - loss: 1.5125e-06 - accuracy: 1.0000 - val_loss: 1.2159e-04 - val_accuracy: 1.0000 - lr: 1.0000e-08\n",
      "Epoch 60/89\n",
      "678120/678120 [==============================] - 150s 221us/sample - loss: 1.5124e-06 - accuracy: 1.0000 - val_loss: 1.2159e-04 - val_accuracy: 1.0000 - lr: 1.0000e-08\n",
      "Epoch 61/89\n",
      "678120/678120 [==============================] - 152s 224us/sample - loss: 1.5124e-06 - accuracy: 1.0000 - val_loss: 1.2159e-04 - val_accuracy: 1.0000 - lr: 1.0000e-08\n",
      "Epoch 62/89\n",
      "678120/678120 [==============================] - 150s 221us/sample - loss: 1.5124e-06 - accuracy: 1.0000 - val_loss: 1.2159e-04 - val_accuracy: 1.0000 - lr: 1.0000e-08\n",
      "Epoch 63/89\n",
      "678120/678120 [==============================] - 151s 223us/sample - loss: 1.5124e-06 - accuracy: 1.0000 - val_loss: 1.2159e-04 - val_accuracy: 1.0000 - lr: 1.0000e-08\n",
      "Epoch 64/89\n",
      "678120/678120 [==============================] - 154s 227us/sample - loss: 1.5124e-06 - accuracy: 1.0000 - val_loss: 1.2159e-04 - val_accuracy: 1.0000 - lr: 1.0000e-08\n",
      "Epoch 65/89\n",
      "678120/678120 [==============================] - 149s 220us/sample - loss: 1.5122e-06 - accuracy: 1.0000 - val_loss: 1.2159e-04 - val_accuracy: 1.0000 - lr: 1.0000e-09\n",
      "Epoch 66/89\n",
      "678120/678120 [==============================] - 151s 223us/sample - loss: 1.5122e-06 - accuracy: 1.0000 - val_loss: 1.2159e-04 - val_accuracy: 1.0000 - lr: 1.0000e-09\n",
      "Epoch 67/89\n",
      "678120/678120 [==============================] - 150s 221us/sample - loss: 1.5122e-06 - accuracy: 1.0000 - val_loss: 1.2159e-04 - val_accuracy: 1.0000 - lr: 1.0000e-09\n",
      "Epoch 68/89\n",
      "678120/678120 [==============================] - 151s 223us/sample - loss: 1.5122e-06 - accuracy: 1.0000 - val_loss: 1.2159e-04 - val_accuracy: 1.0000 - lr: 1.0000e-09\n",
      "Epoch 69/89\n",
      "678120/678120 [==============================] - 144s 213us/sample - loss: 1.5122e-06 - accuracy: 1.0000 - val_loss: 1.2159e-04 - val_accuracy: 1.0000 - lr: 1.0000e-09\n",
      "Epoch 70/89\n",
      "678120/678120 [==============================] - 99s 146us/sample - loss: 1.5122e-06 - accuracy: 1.0000 - val_loss: 1.2159e-04 - val_accuracy: 1.0000 - lr: 1.0000e-09\n",
      "Epoch 71/89\n",
      "678120/678120 [==============================] - 100s 147us/sample - loss: 1.5122e-06 - accuracy: 1.0000 - val_loss: 1.2159e-04 - val_accuracy: 1.0000 - lr: 1.0000e-09\n",
      "Epoch 72/89\n",
      "678120/678120 [==============================] - 98s 145us/sample - loss: 1.5122e-06 - accuracy: 1.0000 - val_loss: 1.2159e-04 - val_accuracy: 1.0000 - lr: 1.0000e-09\n",
      "Epoch 73/89\n",
      "678120/678120 [==============================] - 100s 147us/sample - loss: 1.5122e-06 - accuracy: 1.0000 - val_loss: 1.2159e-04 - val_accuracy: 1.0000 - lr: 1.0000e-09\n",
      "Epoch 74/89\n",
      "678120/678120 [==============================] - 98s 145us/sample - loss: 1.5122e-06 - accuracy: 1.0000 - val_loss: 1.2159e-04 - val_accuracy: 1.0000 - lr: 1.0000e-09\n",
      "Epoch 75/89\n",
      "678120/678120 [==============================] - 99s 147us/sample - loss: 1.5122e-06 - accuracy: 1.0000 - val_loss: 1.2159e-04 - val_accuracy: 1.0000 - lr: 1.0000e-10\n",
      "Epoch 76/89\n",
      "678120/678120 [==============================] - 101s 148us/sample - loss: 1.5122e-06 - accuracy: 1.0000 - val_loss: 1.2159e-04 - val_accuracy: 1.0000 - lr: 1.0000e-10\n",
      "Epoch 77/89\n",
      "678120/678120 [==============================] - 116s 171us/sample - loss: 1.5122e-06 - accuracy: 1.0000 - val_loss: 1.2159e-04 - val_accuracy: 1.0000 - lr: 1.0000e-10\n",
      "Epoch 78/89\n",
      "678120/678120 [==============================] - 158s 232us/sample - loss: 1.5122e-06 - accuracy: 1.0000 - val_loss: 1.2159e-04 - val_accuracy: 1.0000 - lr: 1.0000e-10\n",
      "Epoch 79/89\n",
      "678120/678120 [==============================] - 156s 230us/sample - loss: 1.5122e-06 - accuracy: 1.0000 - val_loss: 1.2159e-04 - val_accuracy: 1.0000 - lr: 1.0000e-10\n",
      "Epoch 80/89\n",
      "678120/678120 [==============================] - 158s 233us/sample - loss: 1.5122e-06 - accuracy: 1.0000 - val_loss: 1.2159e-04 - val_accuracy: 1.0000 - lr: 1.0000e-10\n",
      "Epoch 81/89\n",
      "678120/678120 [==============================] - 156s 230us/sample - loss: 1.5122e-06 - accuracy: 1.0000 - val_loss: 1.2159e-04 - val_accuracy: 1.0000 - lr: 1.0000e-10\n",
      "Epoch 82/89\n",
      "678120/678120 [==============================] - 158s 233us/sample - loss: 1.5122e-06 - accuracy: 1.0000 - val_loss: 1.2159e-04 - val_accuracy: 1.0000 - lr: 1.0000e-10\n",
      "Epoch 83/89\n",
      "678120/678120 [==============================] - 158s 232us/sample - loss: 1.5122e-06 - accuracy: 1.0000 - val_loss: 1.2159e-04 - val_accuracy: 1.0000 - lr: 1.0000e-10\n",
      "Epoch 84/89\n",
      "678120/678120 [==============================] - 156s 230us/sample - loss: 1.5122e-06 - accuracy: 1.0000 - val_loss: 1.2159e-04 - val_accuracy: 1.0000 - lr: 1.0000e-10\n",
      "Epoch 85/89\n",
      "678120/678120 [==============================] - 158s 233us/sample - loss: 1.5122e-06 - accuracy: 1.0000 - val_loss: 1.2159e-04 - val_accuracy: 1.0000 - lr: 1.0000e-11\n",
      "Epoch 86/89\n",
      "678120/678120 [==============================] - 156s 230us/sample - loss: 1.5122e-06 - accuracy: 1.0000 - val_loss: 1.2159e-04 - val_accuracy: 1.0000 - lr: 1.0000e-11\n",
      "Epoch 87/89\n",
      "678120/678120 [==============================] - 158s 233us/sample - loss: 1.5122e-06 - accuracy: 1.0000 - val_loss: 1.2159e-04 - val_accuracy: 1.0000 - lr: 1.0000e-11\n",
      "Epoch 88/89\n",
      "678120/678120 [==============================] - 156s 230us/sample - loss: 1.5122e-06 - accuracy: 1.0000 - val_loss: 1.2159e-04 - val_accuracy: 1.0000 - lr: 1.0000e-11\n",
      "Epoch 89/89\n",
      "678120/678120 [==============================] - 158s 232us/sample - loss: 1.5122e-06 - accuracy: 1.0000 - val_loss: 1.2159e-04 - val_accuracy: 1.0000 - lr: 1.0000e-11\n",
      "Training time: 12713.029193878174\n"
     ]
    },
    {
     "name": "stderr",
     "output_type": "stream",
     "text": [
      "/home/andressa.amaral/.local/lib/python3.8/site-packages/keras/engine/training_v1.py:2357: UserWarning: `Model.state_updates` will be removed in a future version. This property should not be used in TensorFlow 2.0, as `updates` are applied automatically.\n",
      "  updates=self.state_updates,\n"
     ]
    },
    {
     "name": "stdout",
     "output_type": "stream",
     "text": [
      "Testing time: 14.006128311157227\n",
      "\n"
     ]
    }
   ],
   "source": [
    "nadam = Nadam(learning_rate = learning_rate, beta_1 = 0.9, beta_2 = 0.999, epsilon = 1e-08, schedule_decay = 0.004)\n",
    "cnn_model.compile(loss = \"sparse_categorical_crossentropy\", optimizer = \"nadam\", metrics = [\"accuracy\"])\n",
    "\n",
    "for i in range(1):\n",
    "    print(\"Iteration \" + str(i))\n",
    "    \n",
    "    # Train\n",
    "    cnn_model, train_time = AttackClassificationModel.train(X_train_CNN, Y_train, X_val_CNN, Y_val, epochs, batch_size, reduce_lr, cnn_model)\n",
    "    \n",
    "    # Test\n",
    "    Y_pred, test_time = AttackClassificationModel.test(X_test_CNN, cnn_model)\n",
    "\n",
    "    # Multi classification metrics\n",
    "    labels = ['Mirai_Ack','Mirai_Scan','Mirai_Syn','Mirai_Udp','Mirai_Udpplain', 'Bashlite_Combo','Bashlite_Junk','Bashlite_Scan','Bashlite_Udp', 'Bashlite_Tcp']\n",
    "    acc, f1, pre, rec = AttackClassificationModel.get_scores(Y_test, Y_pred, labels)\n",
    "    \n",
    "    # Print results\n",
    "    AttackClassificationModel.print_results(learning_rate,\n",
    "                                            epochs,\n",
    "                                            batch_size,\n",
    "                                            X_train,\n",
    "                                            X_val,\n",
    "                                            X_test,\n",
    "                                            opt_time,\n",
    "                                            train_time,\n",
    "                                            test_time,\n",
    "                                            acc,\n",
    "                                            f1,\n",
    "                                            pre,\n",
    "                                            rec,\n",
    "                                            Y_test,\n",
    "                                            Y_pred,\n",
    "                                            \"CNN\",\n",
    "                                            \"Results/danmini_doorbell.txt\")\n",
    "    \n",
    "    print(\"\")"
   ]
  },
  {
   "cell_type": "code",
   "execution_count": 15,
   "id": "89d92454",
   "metadata": {},
   "outputs": [
    {
     "data": {
      "image/png": "[encoded data removed]",
      "text/plain": [
       "<Figure size 600x600 with 1 Axes>"
      ]
     },
     "metadata": {},
     "output_type": "display_data"
    }
   ],
   "source": [
    "conf_matrix = confusion_matrix(Y_test, Y_pred)\n",
    "\n",
    "fig, ax = plt.subplots(figsize = (6, 6))\n",
    "ax.matshow(conf_matrix, cmap = plt.cm.Blues, alpha = 0.3)\n",
    "for i in range(conf_matrix.shape[0]):\n",
    "    for j in range(conf_matrix.shape[1]):\n",
    "        ax.text(x = j, y = i,s = conf_matrix[i, j], va = 'center', ha = 'center', size = 'large')\n",
    " \n",
    "plt.xlabel('Predictions', fontsize=12)\n",
    "plt.ylabel('Actuals', fontsize=12)\n",
    "plt.title('Confusion Matrix', fontsize=14)\n",
    "plt.savefig(\"Results/Confusion Matrix/DD CNN\")\n",
    "plt.show()"
   ]
  },
  {
   "cell_type": "markdown",
   "id": "2a5ea6c5",
   "metadata": {},
   "source": [
    "# NB Model"
   ]
  },
  {
   "cell_type": "code",
   "execution_count": 12,
   "id": "1eee855b",
   "metadata": {
    "tags": []
   },
   "outputs": [
    {
     "name": "stdout",
     "output_type": "stream",
     "text": [
      "Iteration 0\n",
      "Testing time: 0.5229544639587402\n",
      "\n"
     ]
    }
   ],
   "source": [
    "# Model\n",
    "nb_model = GaussianNB()\n",
    "\n",
    "for i in range(1):\n",
    "    print(\"Iteration \" + str(i))\n",
    "    \n",
    "    # Train\n",
    "    nb_model, train_time = AttackClassificationModel.train_nb_knn(X_train, Y_train, nb_model)\n",
    "    \n",
    "    # Test\n",
    "    Y_pred, test_time = AttackClassificationModel.test_nb_knn(X_test, nb_model)\n",
    "    \n",
    "    # Multi classification metrics\n",
    "    labels = ['Mirai_Ack','Mirai_Scan','Mirai_Syn','Mirai_Udp','Mirai_Udpplain', 'Bashlite_Combo','Bashlite_Junk','Bashlite_Scan','Bashlite_Udp', 'Bashlite_Tcp']\n",
    "    acc, f1, pre, rec = AttackClassificationModel.get_scores(Y_test, Y_pred, labels)\n",
    "    \n",
    "    # Print results\n",
    "    AttackClassificationModel.print_results(learning_rate,\n",
    "                                            epochs,\n",
    "                                            batch_size,\n",
    "                                            X_train,\n",
    "                                            X_val,\n",
    "                                            X_test,\n",
    "                                            opt_time,\n",
    "                                            train_time,\n",
    "                                            test_time,\n",
    "                                            acc,\n",
    "                                            f1,\n",
    "                                            pre,\n",
    "                                            rec,\n",
    "                                            Y_test,\n",
    "                                            Y_pred,\n",
    "                                            \"NB\",\n",
    "                                            \"Results/danmini_doorbell.txt\")\n",
    "    \n",
    "    print(\"\")"
   ]
  },
  {
   "cell_type": "code",
   "execution_count": 13,
   "id": "e9e47929",
   "metadata": {
    "tags": []
   },
   "outputs": [
    {
     "data": {
      "image/png": "[encoded data removed]",
      "text/plain": [
       "<Figure size 600x600 with 1 Axes>"
      ]
     },
     "metadata": {},
     "output_type": "display_data"
    }
   ],
   "source": [
    "conf_matrix = confusion_matrix(Y_test, Y_pred)\n",
    "\n",
    "fig, ax = plt.subplots(figsize = (6, 6))\n",
    "ax.matshow(conf_matrix, cmap = plt.cm.Blues, alpha = 0.3)\n",
    "for i in range(conf_matrix.shape[0]):\n",
    "    for j in range(conf_matrix.shape[1]):\n",
    "        ax.text(x = j, y = i,s = conf_matrix[i, j], va = 'center', ha = 'center', size = 'large')\n",
    " \n",
    "plt.xlabel('Predictions', fontsize=12)\n",
    "plt.ylabel('Actuals', fontsize=12)\n",
    "plt.title('Confusion Matrix', fontsize=14)\n",
    "plt.savefig(\"Results/Confusion Matrix/DD NB\")\n",
    "plt.show()"
   ]
  },
  {
   "cell_type": "markdown",
   "id": "7d94d12b",
   "metadata": {},
   "source": [
    "# KNN Model"
   ]
  },
  {
   "cell_type": "code",
   "execution_count": null,
   "id": "09cf42fb",
   "metadata": {
    "tags": []
   },
   "outputs": [
    {
     "name": "stdout",
     "output_type": "stream",
     "text": [
      "Iteration 0\n"
     ]
    }
   ],
   "source": [
    "# Model\n",
    "knn_model = KNeighborsClassifier(n_neighbors = 50)\n",
    "\n",
    "for i in range(1):\n",
    "    print(\"Iteration \" + str(i))\n",
    "    \n",
    "    # Train\n",
    "    knn_model, train_time = AttackClassificationModel.train_nb_knn(X_train, Y_train, knn_model)\n",
    "    \n",
    "    # Test\n",
    "    Y_pred, test_time = AttackClassificationModel.test_nb_knn(X_test, knn_model)\n",
    "    \n",
    "    # Multi classification metrics\n",
    "    labels = ['Mirai_Ack','Mirai_Scan','Mirai_Syn','Mirai_Udp','Mirai_Udpplain', 'Bashlite_Combo','Bashlite_Junk','Bashlite_Scan','Bashlite_Udp', 'Bashlite_Tcp']\n",
    "    acc, f1, pre, rec = AttackClassificationModel.get_scores(Y_test, Y_pred, labels)\n",
    "    \n",
    "    # Print results\n",
    "    AttackClassificationModel.print_results(learning_rate,\n",
    "                                            epochs,\n",
    "                                            batch_size,\n",
    "                                            X_train,\n",
    "                                            X_val,\n",
    "                                            X_test,\n",
    "                                            opt_time,\n",
    "                                            train_time,\n",
    "                                            test_time,\n",
    "                                            acc,\n",
    "                                            f1,\n",
    "                                            pre,\n",
    "                                            rec,\n",
    "                                            Y_test,\n",
    "                                            Y_pred,\n",
    "                                            \"KNN\",\n",
    "                                            \"Results/danmini_doorbell.txt\")\n",
    "    \n",
    "    print(\"\")"
   ]
  },
  {
   "cell_type": "code",
   "execution_count": 19,
   "id": "161e2508",
   "metadata": {},
   "outputs": [
    {
     "data": {
      "image/png": "[encoded data removed]",
      "text/plain": [
       "<Figure size 600x600 with 1 Axes>"
      ]
     },
     "metadata": {},
     "output_type": "display_data"
    }
   ],
   "source": [
    "conf_matrix = confusion_matrix(Y_test, Y_pred)\n",
    "\n",
    "fig, ax = plt.subplots(figsize = (6, 6))\n",
    "ax.matshow(conf_matrix, cmap = plt.cm.Blues, alpha = 0.3)\n",
    "for i in range(conf_matrix.shape[0]):\n",
    "    for j in range(conf_matrix.shape[1]):\n",
    "        ax.text(x = j, y = i,s = conf_matrix[i, j], va = 'center', ha = 'center', size = 'large')\n",
    " \n",
    "plt.xlabel('Predictions', fontsize=12)\n",
    "plt.ylabel('Actuals', fontsize=12)\n",
    "plt.title('Confusion Matrix', fontsize=14)\n",
    "plt.savefig(\"Results/Confusion Matrix/DD KNN\")\n",
    "plt.show()"
   ]
  },
  {
   "cell_type": "code",
   "execution_count": null,
   "id": "5ac34b25",
   "metadata": {},
   "outputs": [],
   "source": []
  }
 ],
 "metadata": {
  "kernelspec": {
   "display_name": "Python 3 (ipykernel)",
   "language": "python",
   "name": "python3"
  },
  "language_info": {
   "codemirror_mode": {
    "name": "ipython",
    "version": 3
   },
   "file_extension": ".py",
   "mimetype": "text/x-python",
   "name": "python",
   "nbconvert_exporter": "python",
   "pygments_lexer": "ipython3",
   "version": "3.10.9"
  }
 },
 "nbformat": 4,
 "nbformat_minor": 5
}
